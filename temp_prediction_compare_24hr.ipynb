{
  "nbformat": 4,
  "nbformat_minor": 0,
  "metadata": {
    "colab": {
      "provenance": [],
      "machine_shape": "hm",
      "gpuType": "A100"
    },
    "kernelspec": {
      "name": "python3",
      "display_name": "Python 3"
    },
    "language_info": {
      "name": "python"
    },
    "accelerator": "GPU"
  },
  "cells": [
    {
      "cell_type": "code",
      "source": [
        "import pandas as pd\n",
        "import numpy as np\n",
        "df_location = '/content/drive/MyDrive/Weather/41.9N_12.46E.csv'\n",
        "df = pd.read_csv(df_location)\n",
        "df.columns = ['year', 'month', 'day', 'hour', 'temperature', 'precipitation', 'u-wind', 'v-wind']\n",
        "df.temperature = df.temperature -273.15\n",
        "\n",
        "df['date'] = pd.to_datetime(df[['year', 'month', 'day', 'hour']])\n",
        "df['wind'] = (df['u-wind']**2 + df['v-wind']**2)**0.5\n",
        "# Constants for transformations\n",
        "hours_in_day = 24\n",
        "days_in_month = 30\n",
        "months_in_year = 12\n",
        "\n",
        "# Add cyclical features\n",
        "df['hour_sin'] = np.sin(2 * np.pi * df['date'].dt.hour / hours_in_day)\n",
        "df['hour_cos'] = np.cos(2 * np.pi * df['date'].dt.hour / hours_in_day)\n",
        "df['day_sin'] = np.sin(2 * np.pi * df['date'].dt.day / days_in_month)\n",
        "df['day_cos'] = np.cos(2 * np.pi * df['date'].dt.day / days_in_month)\n",
        "df['month_sin'] = np.sin(2 * np.pi * df['date'].dt.month / months_in_year)\n",
        "df['month_cos'] = np.cos(2 * np.pi * df['date'].dt.month / months_in_year)\n",
        "\n",
        "columns_to_drop = ['month','day','hour','date']\n",
        "df = df.drop(columns=[col for col in columns_to_drop if col in df.columns], axis=1)\n",
        "df"
      ],
      "metadata": {
        "colab": {
          "base_uri": "https://localhost:8080/",
          "height": 634
        },
        "id": "5eI_qKWLHLOt",
        "outputId": "ad1716bb-16fc-47be-c99b-ef3521e9f8fa"
      },
      "execution_count": 1,
      "outputs": [
        {
          "output_type": "execute_result",
          "data": {
            "text/plain": [
              "        year  temperature  precipitation  u-wind  v-wind      wind  hour_sin  \\\n",
              "0       1980        10.92   1.771900e-05  5.0144 -8.4435  9.820229  0.258819   \n",
              "1       1980        11.01   1.958600e-05  4.9712 -7.7456  9.203649  0.500000   \n",
              "2       1980        11.05   9.337800e-07  4.5916 -7.5101  8.802522  0.707107   \n",
              "3       1980        10.99   1.958600e-05  4.4404 -7.1360  8.404740  0.866025   \n",
              "4       1980        10.93   5.875300e-05  4.6318 -6.5412  8.015040  0.965926   \n",
              "...      ...          ...            ...     ...     ...       ...       ...   \n",
              "341874  2018        14.18   0.000000e+00 -1.3146 -3.9372  4.150869 -0.965926   \n",
              "341875  2018        13.80   0.000000e+00 -2.1201 -4.0275  4.551437 -0.866025   \n",
              "341876  2018        13.30   0.000000e+00 -2.7930 -4.4435  5.248385 -0.707107   \n",
              "341877  2018        13.28   0.000000e+00 -3.0675 -5.7936  6.555559 -0.500000   \n",
              "341878  2018        12.87   0.000000e+00 -3.8348 -5.4382  6.654300 -0.258819   \n",
              "\n",
              "        hour_cos   day_sin   day_cos     month_sin  month_cos  \n",
              "0       0.965926  0.207912  0.978148  5.000000e-01   0.866025  \n",
              "1       0.866025  0.207912  0.978148  5.000000e-01   0.866025  \n",
              "2       0.707107  0.207912  0.978148  5.000000e-01   0.866025  \n",
              "3       0.500000  0.207912  0.978148  5.000000e-01   0.866025  \n",
              "4       0.258819  0.207912  0.978148  5.000000e-01   0.866025  \n",
              "...          ...       ...       ...           ...        ...  \n",
              "341874  0.258819  0.207912  0.978148 -2.449294e-16   1.000000  \n",
              "341875  0.500000  0.207912  0.978148 -2.449294e-16   1.000000  \n",
              "341876  0.707107  0.207912  0.978148 -2.449294e-16   1.000000  \n",
              "341877  0.866025  0.207912  0.978148 -2.449294e-16   1.000000  \n",
              "341878  0.965926  0.207912  0.978148 -2.449294e-16   1.000000  \n",
              "\n",
              "[341879 rows x 12 columns]"
            ],
            "text/html": [
              "\n",
              "  <div id=\"df-f6776540-d100-4a51-8308-f4eda8c8e52d\" class=\"colab-df-container\">\n",
              "    <div>\n",
              "<style scoped>\n",
              "    .dataframe tbody tr th:only-of-type {\n",
              "        vertical-align: middle;\n",
              "    }\n",
              "\n",
              "    .dataframe tbody tr th {\n",
              "        vertical-align: top;\n",
              "    }\n",
              "\n",
              "    .dataframe thead th {\n",
              "        text-align: right;\n",
              "    }\n",
              "</style>\n",
              "<table border=\"1\" class=\"dataframe\">\n",
              "  <thead>\n",
              "    <tr style=\"text-align: right;\">\n",
              "      <th></th>\n",
              "      <th>year</th>\n",
              "      <th>temperature</th>\n",
              "      <th>precipitation</th>\n",
              "      <th>u-wind</th>\n",
              "      <th>v-wind</th>\n",
              "      <th>wind</th>\n",
              "      <th>hour_sin</th>\n",
              "      <th>hour_cos</th>\n",
              "      <th>day_sin</th>\n",
              "      <th>day_cos</th>\n",
              "      <th>month_sin</th>\n",
              "      <th>month_cos</th>\n",
              "    </tr>\n",
              "  </thead>\n",
              "  <tbody>\n",
              "    <tr>\n",
              "      <th>0</th>\n",
              "      <td>1980</td>\n",
              "      <td>10.92</td>\n",
              "      <td>1.771900e-05</td>\n",
              "      <td>5.0144</td>\n",
              "      <td>-8.4435</td>\n",
              "      <td>9.820229</td>\n",
              "      <td>0.258819</td>\n",
              "      <td>0.965926</td>\n",
              "      <td>0.207912</td>\n",
              "      <td>0.978148</td>\n",
              "      <td>5.000000e-01</td>\n",
              "      <td>0.866025</td>\n",
              "    </tr>\n",
              "    <tr>\n",
              "      <th>1</th>\n",
              "      <td>1980</td>\n",
              "      <td>11.01</td>\n",
              "      <td>1.958600e-05</td>\n",
              "      <td>4.9712</td>\n",
              "      <td>-7.7456</td>\n",
              "      <td>9.203649</td>\n",
              "      <td>0.500000</td>\n",
              "      <td>0.866025</td>\n",
              "      <td>0.207912</td>\n",
              "      <td>0.978148</td>\n",
              "      <td>5.000000e-01</td>\n",
              "      <td>0.866025</td>\n",
              "    </tr>\n",
              "    <tr>\n",
              "      <th>2</th>\n",
              "      <td>1980</td>\n",
              "      <td>11.05</td>\n",
              "      <td>9.337800e-07</td>\n",
              "      <td>4.5916</td>\n",
              "      <td>-7.5101</td>\n",
              "      <td>8.802522</td>\n",
              "      <td>0.707107</td>\n",
              "      <td>0.707107</td>\n",
              "      <td>0.207912</td>\n",
              "      <td>0.978148</td>\n",
              "      <td>5.000000e-01</td>\n",
              "      <td>0.866025</td>\n",
              "    </tr>\n",
              "    <tr>\n",
              "      <th>3</th>\n",
              "      <td>1980</td>\n",
              "      <td>10.99</td>\n",
              "      <td>1.958600e-05</td>\n",
              "      <td>4.4404</td>\n",
              "      <td>-7.1360</td>\n",
              "      <td>8.404740</td>\n",
              "      <td>0.866025</td>\n",
              "      <td>0.500000</td>\n",
              "      <td>0.207912</td>\n",
              "      <td>0.978148</td>\n",
              "      <td>5.000000e-01</td>\n",
              "      <td>0.866025</td>\n",
              "    </tr>\n",
              "    <tr>\n",
              "      <th>4</th>\n",
              "      <td>1980</td>\n",
              "      <td>10.93</td>\n",
              "      <td>5.875300e-05</td>\n",
              "      <td>4.6318</td>\n",
              "      <td>-6.5412</td>\n",
              "      <td>8.015040</td>\n",
              "      <td>0.965926</td>\n",
              "      <td>0.258819</td>\n",
              "      <td>0.207912</td>\n",
              "      <td>0.978148</td>\n",
              "      <td>5.000000e-01</td>\n",
              "      <td>0.866025</td>\n",
              "    </tr>\n",
              "    <tr>\n",
              "      <th>...</th>\n",
              "      <td>...</td>\n",
              "      <td>...</td>\n",
              "      <td>...</td>\n",
              "      <td>...</td>\n",
              "      <td>...</td>\n",
              "      <td>...</td>\n",
              "      <td>...</td>\n",
              "      <td>...</td>\n",
              "      <td>...</td>\n",
              "      <td>...</td>\n",
              "      <td>...</td>\n",
              "      <td>...</td>\n",
              "    </tr>\n",
              "    <tr>\n",
              "      <th>341874</th>\n",
              "      <td>2018</td>\n",
              "      <td>14.18</td>\n",
              "      <td>0.000000e+00</td>\n",
              "      <td>-1.3146</td>\n",
              "      <td>-3.9372</td>\n",
              "      <td>4.150869</td>\n",
              "      <td>-0.965926</td>\n",
              "      <td>0.258819</td>\n",
              "      <td>0.207912</td>\n",
              "      <td>0.978148</td>\n",
              "      <td>-2.449294e-16</td>\n",
              "      <td>1.000000</td>\n",
              "    </tr>\n",
              "    <tr>\n",
              "      <th>341875</th>\n",
              "      <td>2018</td>\n",
              "      <td>13.80</td>\n",
              "      <td>0.000000e+00</td>\n",
              "      <td>-2.1201</td>\n",
              "      <td>-4.0275</td>\n",
              "      <td>4.551437</td>\n",
              "      <td>-0.866025</td>\n",
              "      <td>0.500000</td>\n",
              "      <td>0.207912</td>\n",
              "      <td>0.978148</td>\n",
              "      <td>-2.449294e-16</td>\n",
              "      <td>1.000000</td>\n",
              "    </tr>\n",
              "    <tr>\n",
              "      <th>341876</th>\n",
              "      <td>2018</td>\n",
              "      <td>13.30</td>\n",
              "      <td>0.000000e+00</td>\n",
              "      <td>-2.7930</td>\n",
              "      <td>-4.4435</td>\n",
              "      <td>5.248385</td>\n",
              "      <td>-0.707107</td>\n",
              "      <td>0.707107</td>\n",
              "      <td>0.207912</td>\n",
              "      <td>0.978148</td>\n",
              "      <td>-2.449294e-16</td>\n",
              "      <td>1.000000</td>\n",
              "    </tr>\n",
              "    <tr>\n",
              "      <th>341877</th>\n",
              "      <td>2018</td>\n",
              "      <td>13.28</td>\n",
              "      <td>0.000000e+00</td>\n",
              "      <td>-3.0675</td>\n",
              "      <td>-5.7936</td>\n",
              "      <td>6.555559</td>\n",
              "      <td>-0.500000</td>\n",
              "      <td>0.866025</td>\n",
              "      <td>0.207912</td>\n",
              "      <td>0.978148</td>\n",
              "      <td>-2.449294e-16</td>\n",
              "      <td>1.000000</td>\n",
              "    </tr>\n",
              "    <tr>\n",
              "      <th>341878</th>\n",
              "      <td>2018</td>\n",
              "      <td>12.87</td>\n",
              "      <td>0.000000e+00</td>\n",
              "      <td>-3.8348</td>\n",
              "      <td>-5.4382</td>\n",
              "      <td>6.654300</td>\n",
              "      <td>-0.258819</td>\n",
              "      <td>0.965926</td>\n",
              "      <td>0.207912</td>\n",
              "      <td>0.978148</td>\n",
              "      <td>-2.449294e-16</td>\n",
              "      <td>1.000000</td>\n",
              "    </tr>\n",
              "  </tbody>\n",
              "</table>\n",
              "<p>341879 rows × 12 columns</p>\n",
              "</div>\n",
              "    <div class=\"colab-df-buttons\">\n",
              "\n",
              "  <div class=\"colab-df-container\">\n",
              "    <button class=\"colab-df-convert\" onclick=\"convertToInteractive('df-f6776540-d100-4a51-8308-f4eda8c8e52d')\"\n",
              "            title=\"Convert this dataframe to an interactive table.\"\n",
              "            style=\"display:none;\">\n",
              "\n",
              "  <svg xmlns=\"http://www.w3.org/2000/svg\" height=\"24px\" viewBox=\"0 -960 960 960\">\n",
              "    <path d=\"M120-120v-720h720v720H120Zm60-500h600v-160H180v160Zm220 220h160v-160H400v160Zm0 220h160v-160H400v160ZM180-400h160v-160H180v160Zm440 0h160v-160H620v160ZM180-180h160v-160H180v160Zm440 0h160v-160H620v160Z\"/>\n",
              "  </svg>\n",
              "    </button>\n",
              "\n",
              "  <style>\n",
              "    .colab-df-container {\n",
              "      display:flex;\n",
              "      gap: 12px;\n",
              "    }\n",
              "\n",
              "    .colab-df-convert {\n",
              "      background-color: #E8F0FE;\n",
              "      border: none;\n",
              "      border-radius: 50%;\n",
              "      cursor: pointer;\n",
              "      display: none;\n",
              "      fill: #1967D2;\n",
              "      height: 32px;\n",
              "      padding: 0 0 0 0;\n",
              "      width: 32px;\n",
              "    }\n",
              "\n",
              "    .colab-df-convert:hover {\n",
              "      background-color: #E2EBFA;\n",
              "      box-shadow: 0px 1px 2px rgba(60, 64, 67, 0.3), 0px 1px 3px 1px rgba(60, 64, 67, 0.15);\n",
              "      fill: #174EA6;\n",
              "    }\n",
              "\n",
              "    .colab-df-buttons div {\n",
              "      margin-bottom: 4px;\n",
              "    }\n",
              "\n",
              "    [theme=dark] .colab-df-convert {\n",
              "      background-color: #3B4455;\n",
              "      fill: #D2E3FC;\n",
              "    }\n",
              "\n",
              "    [theme=dark] .colab-df-convert:hover {\n",
              "      background-color: #434B5C;\n",
              "      box-shadow: 0px 1px 3px 1px rgba(0, 0, 0, 0.15);\n",
              "      filter: drop-shadow(0px 1px 2px rgba(0, 0, 0, 0.3));\n",
              "      fill: #FFFFFF;\n",
              "    }\n",
              "  </style>\n",
              "\n",
              "    <script>\n",
              "      const buttonEl =\n",
              "        document.querySelector('#df-f6776540-d100-4a51-8308-f4eda8c8e52d button.colab-df-convert');\n",
              "      buttonEl.style.display =\n",
              "        google.colab.kernel.accessAllowed ? 'block' : 'none';\n",
              "\n",
              "      async function convertToInteractive(key) {\n",
              "        const element = document.querySelector('#df-f6776540-d100-4a51-8308-f4eda8c8e52d');\n",
              "        const dataTable =\n",
              "          await google.colab.kernel.invokeFunction('convertToInteractive',\n",
              "                                                    [key], {});\n",
              "        if (!dataTable) return;\n",
              "\n",
              "        const docLinkHtml = 'Like what you see? Visit the ' +\n",
              "          '<a target=\"_blank\" href=https://colab.research.google.com/notebooks/data_table.ipynb>data table notebook</a>'\n",
              "          + ' to learn more about interactive tables.';\n",
              "        element.innerHTML = '';\n",
              "        dataTable['output_type'] = 'display_data';\n",
              "        await google.colab.output.renderOutput(dataTable, element);\n",
              "        const docLink = document.createElement('div');\n",
              "        docLink.innerHTML = docLinkHtml;\n",
              "        element.appendChild(docLink);\n",
              "      }\n",
              "    </script>\n",
              "  </div>\n",
              "\n",
              "\n",
              "<div id=\"df-9cff44f5-b805-4b3e-97c2-0c276db1d10a\">\n",
              "  <button class=\"colab-df-quickchart\" onclick=\"quickchart('df-9cff44f5-b805-4b3e-97c2-0c276db1d10a')\"\n",
              "            title=\"Suggest charts\"\n",
              "            style=\"display:none;\">\n",
              "\n",
              "<svg xmlns=\"http://www.w3.org/2000/svg\" height=\"24px\"viewBox=\"0 0 24 24\"\n",
              "     width=\"24px\">\n",
              "    <g>\n",
              "        <path d=\"M19 3H5c-1.1 0-2 .9-2 2v14c0 1.1.9 2 2 2h14c1.1 0 2-.9 2-2V5c0-1.1-.9-2-2-2zM9 17H7v-7h2v7zm4 0h-2V7h2v10zm4 0h-2v-4h2v4z\"/>\n",
              "    </g>\n",
              "</svg>\n",
              "  </button>\n",
              "\n",
              "<style>\n",
              "  .colab-df-quickchart {\n",
              "      --bg-color: #E8F0FE;\n",
              "      --fill-color: #1967D2;\n",
              "      --hover-bg-color: #E2EBFA;\n",
              "      --hover-fill-color: #174EA6;\n",
              "      --disabled-fill-color: #AAA;\n",
              "      --disabled-bg-color: #DDD;\n",
              "  }\n",
              "\n",
              "  [theme=dark] .colab-df-quickchart {\n",
              "      --bg-color: #3B4455;\n",
              "      --fill-color: #D2E3FC;\n",
              "      --hover-bg-color: #434B5C;\n",
              "      --hover-fill-color: #FFFFFF;\n",
              "      --disabled-bg-color: #3B4455;\n",
              "      --disabled-fill-color: #666;\n",
              "  }\n",
              "\n",
              "  .colab-df-quickchart {\n",
              "    background-color: var(--bg-color);\n",
              "    border: none;\n",
              "    border-radius: 50%;\n",
              "    cursor: pointer;\n",
              "    display: none;\n",
              "    fill: var(--fill-color);\n",
              "    height: 32px;\n",
              "    padding: 0;\n",
              "    width: 32px;\n",
              "  }\n",
              "\n",
              "  .colab-df-quickchart:hover {\n",
              "    background-color: var(--hover-bg-color);\n",
              "    box-shadow: 0 1px 2px rgba(60, 64, 67, 0.3), 0 1px 3px 1px rgba(60, 64, 67, 0.15);\n",
              "    fill: var(--button-hover-fill-color);\n",
              "  }\n",
              "\n",
              "  .colab-df-quickchart-complete:disabled,\n",
              "  .colab-df-quickchart-complete:disabled:hover {\n",
              "    background-color: var(--disabled-bg-color);\n",
              "    fill: var(--disabled-fill-color);\n",
              "    box-shadow: none;\n",
              "  }\n",
              "\n",
              "  .colab-df-spinner {\n",
              "    border: 2px solid var(--fill-color);\n",
              "    border-color: transparent;\n",
              "    border-bottom-color: var(--fill-color);\n",
              "    animation:\n",
              "      spin 1s steps(1) infinite;\n",
              "  }\n",
              "\n",
              "  @keyframes spin {\n",
              "    0% {\n",
              "      border-color: transparent;\n",
              "      border-bottom-color: var(--fill-color);\n",
              "      border-left-color: var(--fill-color);\n",
              "    }\n",
              "    20% {\n",
              "      border-color: transparent;\n",
              "      border-left-color: var(--fill-color);\n",
              "      border-top-color: var(--fill-color);\n",
              "    }\n",
              "    30% {\n",
              "      border-color: transparent;\n",
              "      border-left-color: var(--fill-color);\n",
              "      border-top-color: var(--fill-color);\n",
              "      border-right-color: var(--fill-color);\n",
              "    }\n",
              "    40% {\n",
              "      border-color: transparent;\n",
              "      border-right-color: var(--fill-color);\n",
              "      border-top-color: var(--fill-color);\n",
              "    }\n",
              "    60% {\n",
              "      border-color: transparent;\n",
              "      border-right-color: var(--fill-color);\n",
              "    }\n",
              "    80% {\n",
              "      border-color: transparent;\n",
              "      border-right-color: var(--fill-color);\n",
              "      border-bottom-color: var(--fill-color);\n",
              "    }\n",
              "    90% {\n",
              "      border-color: transparent;\n",
              "      border-bottom-color: var(--fill-color);\n",
              "    }\n",
              "  }\n",
              "</style>\n",
              "\n",
              "  <script>\n",
              "    async function quickchart(key) {\n",
              "      const quickchartButtonEl =\n",
              "        document.querySelector('#' + key + ' button');\n",
              "      quickchartButtonEl.disabled = true;  // To prevent multiple clicks.\n",
              "      quickchartButtonEl.classList.add('colab-df-spinner');\n",
              "      try {\n",
              "        const charts = await google.colab.kernel.invokeFunction(\n",
              "            'suggestCharts', [key], {});\n",
              "      } catch (error) {\n",
              "        console.error('Error during call to suggestCharts:', error);\n",
              "      }\n",
              "      quickchartButtonEl.classList.remove('colab-df-spinner');\n",
              "      quickchartButtonEl.classList.add('colab-df-quickchart-complete');\n",
              "    }\n",
              "    (() => {\n",
              "      let quickchartButtonEl =\n",
              "        document.querySelector('#df-9cff44f5-b805-4b3e-97c2-0c276db1d10a button');\n",
              "      quickchartButtonEl.style.display =\n",
              "        google.colab.kernel.accessAllowed ? 'block' : 'none';\n",
              "    })();\n",
              "  </script>\n",
              "</div>\n",
              "    </div>\n",
              "  </div>\n"
            ],
            "application/vnd.google.colaboratory.intrinsic+json": {
              "type": "dataframe",
              "variable_name": "df"
            }
          },
          "metadata": {},
          "execution_count": 1
        }
      ]
    },
    {
      "cell_type": "code",
      "source": [
        "from sklearn.preprocessing import MinMaxScaler\n",
        "import numpy as np\n",
        "import pandas as pd\n",
        "\n",
        "TARGET_COLUMN = 'temperature'\n",
        "\n",
        "# split data\n",
        "df_filtered = df.tail(4*7 * 24)\n",
        "df_train = df_filtered.iloc[:-24]  # First 7 days\n",
        "df_test = df_filtered.iloc[-24:]  # Last day\n",
        "\n",
        "X_train = df_train.drop(TARGET_COLUMN, axis=1)\n",
        "y_train = df_train[TARGET_COLUMN]\n",
        "X_test = df_test.drop(TARGET_COLUMN, axis=1)\n",
        "y_test = df_test[TARGET_COLUMN]\n",
        "\n",
        "\n",
        "# scale X data\n",
        "scaler = MinMaxScaler()\n",
        "X_train = scaler.fit_transform(X_train)\n",
        "X_test = scaler.transform(X_test)\n",
        "\n",
        "X_train = pd.DataFrame(X_train)\n",
        "y_train = pd.DataFrame(y_train)\n",
        "X_test = pd.DataFrame(X_test)\n",
        "y_test = pd.DataFrame(y_test)\n",
        "\n",
        "X_train = X_train.reset_index(drop=True)\n",
        "X_test = X_test.reset_index(drop=True)\n",
        "y_train = y_train.reset_index(drop=True)\n",
        "y_test = y_test.reset_index(drop=True)\n"
      ],
      "metadata": {
        "id": "TNkRhPkwHLMn"
      },
      "execution_count": 2,
      "outputs": []
    },
    {
      "cell_type": "code",
      "source": [
        "metrics_df = pd.DataFrame(columns=[\n",
        "    'MODEL', 'MAE', 'MSE', 'RMSE', 'MAPE', 'MDAPE', 'R2', 'Training_Length', 'Testing_Length'\n",
        "])"
      ],
      "metadata": {
        "id": "cUhS1sg7L_0a"
      },
      "execution_count": 3,
      "outputs": []
    },
    {
      "cell_type": "code",
      "source": [
        "from sklearn.linear_model import LinearRegression\n",
        "from sklearn.tree import DecisionTreeRegressor\n",
        "from sklearn.ensemble import RandomForestRegressor, GradientBoostingRegressor\n",
        "from sklearn.linear_model import Ridge, Lasso\n",
        "from xgboost import XGBRegressor\n",
        "from sklearn.metrics import mean_absolute_error, mean_squared_error, r2_score\n",
        "\n",
        "import time\n",
        "import numpy as np\n",
        "import pandas as pd\n",
        "\n",
        "# linear regression model\n",
        "linear_model = LinearRegression()\n",
        "start_time_lm = time.time()\n",
        "linear_model.fit(X_train, y_train)\n",
        "end_time_lm = time.time()\n",
        "training_time_lm = end_time_lm - start_time_lm\n",
        "y_pred_lm = linear_model.predict(X_test)\n",
        "\n",
        "mae_lm = mean_absolute_error(y_test, y_pred_lm)\n",
        "mse_lm = mean_squared_error(y_test, y_pred_lm)\n",
        "rmse_lm = np.sqrt(mse_lm)\n",
        "mape_lm = np.mean(np.abs((y_test - y_pred_lm) / y_test)) * 100\n",
        "mdape_lm = np.median(np.abs((y_test - y_pred_lm) / y_test)) * 100\n",
        "r2_lm = r2_score(y_test, y_pred_lm)\n",
        "\n",
        "metrics_df = metrics_df._append({\n",
        "    'MODEL': 'Linear Regression',\n",
        "    'MAE': mae_lm,\n",
        "    'MSE': mse_lm,\n",
        "    'RMSE': rmse_lm,\n",
        "    'MAPE': mape_lm,\n",
        "    'MDAPE': mdape_lm,\n",
        "    'R2': r2_lm,\n",
        "    'Training_Length': len(y_train),\n",
        "    'Testing_Length': len(y_test),\n",
        "    'Training_Time': training_time_lm\n",
        "}, ignore_index=True)\n",
        "\n",
        "\n",
        "decision_tree_model = DecisionTreeRegressor()\n",
        "start_time_dt = time.time()\n",
        "decision_tree_model.fit(X_train, y_train)\n",
        "end_time_dt = time.time()\n",
        "training_time_dt = end_time_dt - start_time_dt\n",
        "# Decision Tree model\n",
        "y_pred_dt = decision_tree_model.predict(X_test)\n",
        "# Decision Tree Metrics\n",
        "mae_dt = mean_absolute_error(y_test, y_pred_dt)\n",
        "mse_dt = mean_squared_error(y_test, y_pred_dt)\n",
        "rmse_dt = np.sqrt(mse_dt)\n",
        "mape_dt = np.mean(np.abs((y_test.values - y_pred_dt) / y_test.values)) * 100\n",
        "mdape_dt = np.median(np.abs((y_test.values - y_pred_dt) / y_test.values)) * 100\n",
        "r2_dt = r2_score(y_test, y_pred_dt)\n",
        "\n",
        "# Append metrics\n",
        "metrics_df = metrics_df._append({\n",
        "    'MODEL': 'Decision Tree',\n",
        "    'MAE': mae_dt,\n",
        "    'MSE': mse_dt,\n",
        "    'RMSE': rmse_dt,\n",
        "    'MAPE': mape_dt,\n",
        "    'MDAPE': mdape_dt,\n",
        "    'R2': r2_dt,\n",
        "    'Training_Length': len(y_train),\n",
        "    'Testing_Length': len(y_test),\n",
        "    'Training_Time': training_time_dt\n",
        "}, ignore_index=True)\n",
        "\n",
        "\n",
        "\n",
        "\n",
        "\n",
        "# Random Forest model\n",
        "#random_forest_model = RandomForestRegressor()\n",
        "random_forest_model = RandomForestRegressor(n_estimators = 10, criterion = 'squared_error',\n",
        "                       max_depth = None, min_samples_split = 2, min_samples_leaf = 1,\n",
        "                       n_jobs = None, random_state = None,\n",
        "                       verbose = 0, warm_start = False, ccp_alpha = 0.0, max_samples = None\n",
        "                       )\n",
        "start_time_rf = time.time()\n",
        "random_forest_model.fit(X_train, y_train)\n",
        "end_time_rf = time.time()\n",
        "training_time_rf = end_time_rf - start_time_rf\n",
        "\n",
        "y_pred_rf = random_forest_model.predict(X_test)\n",
        "\n",
        "# Random Forest metrics\n",
        "mae_rf = mean_absolute_error(y_test, y_pred_rf)\n",
        "mse_rf = mean_squared_error(y_test, y_pred_rf)\n",
        "rmse_rf = np.sqrt(mse_rf)\n",
        "mape_rf = np.mean(np.abs((y_test.values - y_pred_rf) / y_test.values)) * 100\n",
        "mdape_rf = np.median(np.abs((y_test.values - y_pred_rf) / y_test.values)) * 100\n",
        "r2_rf = r2_score(y_test, y_pred_rf)\n",
        "\n",
        "# Append metrics\n",
        "metrics_df = metrics_df._append({\n",
        "    'MODEL': 'Random Forest',\n",
        "    'MAE': mae_rf,\n",
        "    'MSE': mse_rf,\n",
        "    'RMSE': rmse_rf,\n",
        "    'MAPE': mape_rf,\n",
        "    'MDAPE': mdape_rf,\n",
        "    'R2': r2_rf,\n",
        "    'Training_Length': len(y_train),\n",
        "    'Testing_Length': len(y_test),\n",
        "    'Training_Time': training_time_rf\n",
        "}, ignore_index=True)\n",
        "\n",
        "\n",
        "gradient_boosting_model = GradientBoostingRegressor()\n",
        "start_time = time.time()\n",
        "gradient_boosting_model.fit(X_train, y_train)\n",
        "end_time = time.time()\n",
        "training_time_gb = end_time - start_time\n",
        "\n",
        "y_pred_gb = gradient_boosting_model.predict(X_test)\n",
        "\n",
        "# Gradient Boosting metrics\n",
        "mae_gb = mean_absolute_error(y_test, y_pred_gb)\n",
        "mse_gb = mean_squared_error(y_test, y_pred_gb)\n",
        "rmse_gb = np.sqrt(mse_gb)\n",
        "mape_gb = np.mean(np.abs((y_test.values - y_pred_gb) / y_test.values)) * 100\n",
        "mdape_gb = np.median(np.abs((y_test.values - y_pred_gb) / y_test.values)) * 100\n",
        "r2_gb = r2_score(y_test, y_pred_gb)\n",
        "\n",
        "metrics_df = metrics_df._append({\n",
        "    'MODEL': 'Gradient Boosting',\n",
        "    'MAE': mae_gb,\n",
        "    'MSE': mse_gb,\n",
        "    'RMSE': rmse_gb,\n",
        "    'MAPE': mape_gb,\n",
        "    'MDAPE': mdape_gb,\n",
        "    'R2': r2_gb,\n",
        "    'Training_Length': len(y_train),\n",
        "    'Testing_Length': len(y_test),\n",
        "    'Training_Time': training_time_gb\n",
        "}, ignore_index=True)\n",
        "\n",
        "\n",
        "\n",
        "# XGBoost Model\n",
        "start_time_xg = time.time()\n",
        "xgboost_model = XGBRegressor()\n",
        "xgboost_model.fit(X_train, y_train)\n",
        "end_time_xg = time.time()\n",
        "training_time_xg = end_time_xg - start_time_xg\n",
        "\n",
        "y_pred_xg = xgboost_model.predict(X_test)\n",
        "\n",
        "mae_xg = mean_absolute_error(y_test, y_pred_xg)\n",
        "mse_xg = mean_squared_error(y_test, y_pred_xg)\n",
        "rmse_xg = np.sqrt(mse_xg)\n",
        "mape_xg = np.mean(np.abs((y_test.values - y_pred_xg) / y_test.values)) * 100\n",
        "mdape_xg = np.median(np.abs((y_test.values - y_pred_xg) / y_test.values)) * 100\n",
        "r2_xg = r2_score(y_test, y_pred_xg)\n",
        "\n",
        "metrics_df = metrics_df._append({\n",
        "    'MODEL': 'XGBoost',\n",
        "    'MAE': mae_xg,\n",
        "    'MSE': mse_xg,\n",
        "    'RMSE': rmse_xg,\n",
        "    'MAPE': mape_xg,\n",
        "    'MDAPE': mdape_xg,\n",
        "    'R2': r2_xg,\n",
        "    'Training_Length': len(y_train),\n",
        "    'Testing_Length': len(y_test),\n",
        "    'Training_Time': training_time_xg\n",
        "}, ignore_index=True)\n",
        "\n",
        "print(metrics_df)"
      ],
      "metadata": {
        "colab": {
          "base_uri": "https://localhost:8080/"
        },
        "id": "nVmbXrJSL_yE",
        "outputId": "1bba5b99-4046-4b58-86cd-26f2821af407"
      },
      "execution_count": 7,
      "outputs": [
        {
          "output_type": "stream",
          "name": "stderr",
          "text": [
            "<ipython-input-7-fb472c3c4884>:86: DataConversionWarning: A column-vector y was passed when a 1d array was expected. Please change the shape of y to (n_samples,), for example using ravel().\n",
            "  random_forest_model.fit(X_train, y_train)\n",
            "/usr/local/lib/python3.10/dist-packages/sklearn/ensemble/_gb.py:437: DataConversionWarning: A column-vector y was passed when a 1d array was expected. Please change the shape of y to (n_samples, ), for example using ravel().\n",
            "  y = column_or_1d(y, warn=True)\n"
          ]
        }
      ]
    },
    {
      "cell_type": "code",
      "source": [
        "print(metrics_df)"
      ],
      "metadata": {
        "id": "cK70RaNR1pjv",
        "outputId": "d6e4a0c0-e64e-4d48-aefb-faa6bc783905",
        "colab": {
          "base_uri": "https://localhost:8080/"
        }
      },
      "execution_count": 8,
      "outputs": [
        {
          "output_type": "stream",
          "name": "stdout",
          "text": [
            "               MODEL       MAE       MSE      RMSE       MAPE      MDAPE  \\\n",
            "0  Linear Regression  0.738118  0.603878  0.777096   5.508551   4.984586   \n",
            "1      Decision Tree  0.953333  1.176250  1.084551   7.141432   6.603577   \n",
            "2      Random Forest  0.977250  1.168067  1.080771   8.024374   7.487377   \n",
            "3  Gradient Boosting  0.476206  0.287705  0.536381   6.154869   5.258491   \n",
            "4            XGBoost  2.010722  4.136822  2.033918  15.230754  15.305201   \n",
            "\n",
            "         R2 Training_Length Testing_Length  Training_Time  \n",
            "0 -0.114492             648             24       0.004886  \n",
            "1 -1.170838             648             24       0.007650  \n",
            "2 -1.155735             648             24       0.033237  \n",
            "3  0.469025             648             24       0.137758  \n",
            "4 -6.634746             648             24       5.274654  \n"
          ]
        }
      ]
    },
    {
      "cell_type": "code",
      "source": [
        "# Plotting\n",
        "plt.figure(figsize=(10, 6))\n",
        "plt.plot(y_test, label='Actual Values', color='blue')\n",
        "plt.plot(y_pred_lm, label='Predicted Values', color='red')\n",
        "plt.title('Actual vs Predicted Values')\n",
        "plt.xlabel('Sample Index')\n",
        "plt.ylabel(TARGET_COLUMN)\n",
        "plt.legend()\n",
        "plt.show()\n",
        "\n",
        "plt.figure(figsize=(10, 6))\n",
        "plt.plot(y_test, label='Actual Values', color='blue')\n",
        "plt.plot(y_pred_dt, label='Predicted Values', color='red')\n",
        "plt.title('Actual vs Predicted Values')\n",
        "plt.xlabel('Sample Index')\n",
        "plt.ylabel(TARGET_COLUMN)\n",
        "plt.legend()\n",
        "plt.show()\n",
        "\n",
        "plt.figure(figsize=(10, 6))\n",
        "plt.plot(y_test, label='Actual Values', color='blue')\n",
        "plt.plot(y_pred_rf, label='Predicted Values', color='red')\n",
        "plt.title('Actual vs Predicted Values')\n",
        "plt.xlabel('Sample Index')\n",
        "plt.ylabel(TARGET_COLUMN)\n",
        "plt.legend()\n",
        "plt.show()\n",
        "\n",
        "plt.figure(figsize=(10, 6))\n",
        "plt.plot(y_test, label='Actual Values', color='blue')\n",
        "plt.plot(y_pred_gb, label='Predicted Values', color='red')\n",
        "plt.title('Actual vs Predicted Values')\n",
        "plt.xlabel('Sample Index')\n",
        "plt.ylabel(TARGET_COLUMN)\n",
        "plt.legend()\n",
        "plt.show()\n",
        "\n",
        "plt.figure(figsize=(10, 6))\n",
        "plt.plot(y_test, label='Actual Values', color='blue')\n",
        "plt.plot(y_pred_xg, label='Predicted Values', color='red')\n",
        "plt.title('Actual vs Predicted Values')\n",
        "plt.xlabel('Sample Index')\n",
        "plt.ylabel(TARGET_COLUMN)\n",
        "plt.legend()\n",
        "plt.show()\n",
        "\n",
        "plt.figure(figsize=(10, 6))\n",
        "plt.plot(y_test, label='Actual Values', color='blue')\n",
        "plt.plot(y_pred_rnn, label='Predicted Values', color='red')\n",
        "plt.title('Actual vs Predicted Values')\n",
        "plt.xlabel('Sample Index')\n",
        "plt.ylabel(TARGET_COLUMN)\n",
        "plt.legend()\n",
        "plt.show()\n"
      ],
      "metadata": {
        "id": "ZzcTX--zEASi"
      },
      "execution_count": null,
      "outputs": []
    },
    {
      "cell_type": "code",
      "source": [
        "import tensorflow as tf\n",
        "from tensorflow.keras.models import Sequential\n",
        "from tensorflow.keras.layers import SimpleRNN, Dense\n",
        "\n",
        "# Number of features in your input\n",
        "n_features = X_train.shape[1]\n",
        "\n",
        "# Define the RNN model\n",
        "model = Sequential()\n",
        "model.add(SimpleRNN(50, activation='relu', return_sequences=True, input_shape=(n_features, 1)))\n",
        "model.add(SimpleRNN(50, activation='relu'))\n",
        "model.add(Dense(1))\n",
        "\n",
        "model.compile(optimizer='adam', loss='mean_squared_error')\n",
        "\n",
        "# Convert the DataFrame to NumPy array and reshape\n",
        "X_train_array = X_train.to_numpy().reshape((X_train.shape[0], X_train.shape[1], 1))\n",
        "X_test_array = X_test.to_numpy().reshape((X_test.shape[0], X_test.shape[1], 1))\n",
        "y_train_array = y_train.to_numpy()\n",
        "y_test_array = y_test.to_numpy()\n",
        "\n",
        "start_time_rnn = time.time()\n",
        "model.fit(X_train_array, y_train_array, epochs=100, batch_size=32, verbose=1)\n",
        "end_time_rnn = time.time()\n",
        "training_time_rnn = end_time_rnn - start_time_rnn\n",
        "\n",
        "# Predict\n",
        "y_pred_rnn = model.predict(X_test_array)\n",
        "\n",
        "# Calculate the metrics for RNN\n",
        "mae_rnn = mean_absolute_error(y_test_array, y_pred_rnn)\n",
        "mse_rnn = mean_squared_error(y_test_array, y_pred_rnn)\n",
        "rmse_rnn = np.sqrt(mse_rnn)\n",
        "mape_rnn = np.mean(np.abs((y_test_array - y_pred_rnn) / y_test_array)) * 100\n",
        "mdape_rnn = np.median(np.abs((y_test_array - y_pred_rnn) / y_test_array)) * 100\n",
        "r2_rnn = r2_score(y_test_array, y_pred_rnn)\n",
        "\n",
        "# Append metrics to the DataFrame\n",
        "metrics_df = metrics_df._append({\n",
        "    'MODEL': 'RNN',\n",
        "    'MAE': mae_rnn,\n",
        "    'MSE': mse_rnn,\n",
        "    'RMSE': rmse_rnn,\n",
        "    'MAPE': mape_rnn,\n",
        "    'MDAPE': mdape_rnn,\n",
        "    'R2': r2_rnn,\n",
        "    'Training_Length': len(y_train_array),\n",
        "    'Testing_Length': len(y_test_array),\n",
        "    'Training_Time': training_time_rnn  # Ensure you have calculated training_time_rnn\n",
        "}, ignore_index=True)\n",
        "\n",
        "print(metrics_df)\n",
        "\n",
        "\n",
        "\n"
      ],
      "metadata": {
        "id": "uNHwlExh5EVs",
        "outputId": "86f3cbfd-92e5-4be2-89d5-0a00c9f73624",
        "colab": {
          "base_uri": "https://localhost:8080/"
        }
      },
      "execution_count": 27,
      "outputs": [
        {
          "output_type": "stream",
          "name": "stdout",
          "text": [
            "Epoch 1/100\n",
            "21/21 [==============================] - 2s 14ms/step - loss: 161.5422\n",
            "Epoch 2/100\n",
            "21/21 [==============================] - 0s 16ms/step - loss: 23.1965\n",
            "Epoch 3/100\n",
            "21/21 [==============================] - 0s 15ms/step - loss: 7.0708\n",
            "Epoch 4/100\n",
            "21/21 [==============================] - 0s 16ms/step - loss: 4.6772\n",
            "Epoch 5/100\n",
            "21/21 [==============================] - 0s 15ms/step - loss: 4.1028\n",
            "Epoch 6/100\n",
            "21/21 [==============================] - 0s 14ms/step - loss: 3.8664\n",
            "Epoch 7/100\n",
            "21/21 [==============================] - 0s 16ms/step - loss: 3.3430\n",
            "Epoch 8/100\n",
            "21/21 [==============================] - 0s 16ms/step - loss: 2.9604\n",
            "Epoch 9/100\n",
            "21/21 [==============================] - 0s 16ms/step - loss: 2.3841\n",
            "Epoch 10/100\n",
            "21/21 [==============================] - 0s 16ms/step - loss: 2.1550\n",
            "Epoch 11/100\n",
            "21/21 [==============================] - 0s 15ms/step - loss: 1.9565\n",
            "Epoch 12/100\n",
            "21/21 [==============================] - 0s 15ms/step - loss: 1.8142\n",
            "Epoch 13/100\n",
            "21/21 [==============================] - 0s 16ms/step - loss: 1.7579\n",
            "Epoch 14/100\n",
            "21/21 [==============================] - 0s 16ms/step - loss: 1.6631\n",
            "Epoch 15/100\n",
            "21/21 [==============================] - 0s 16ms/step - loss: 1.5478\n",
            "Epoch 16/100\n",
            "21/21 [==============================] - 0s 15ms/step - loss: 1.5051\n",
            "Epoch 17/100\n",
            "21/21 [==============================] - 0s 16ms/step - loss: 1.4816\n",
            "Epoch 18/100\n",
            "21/21 [==============================] - 0s 17ms/step - loss: 1.3893\n",
            "Epoch 19/100\n",
            "21/21 [==============================] - 0s 15ms/step - loss: 1.3312\n",
            "Epoch 20/100\n",
            "21/21 [==============================] - 0s 14ms/step - loss: 1.2818\n",
            "Epoch 21/100\n",
            "21/21 [==============================] - 0s 15ms/step - loss: 1.2906\n",
            "Epoch 22/100\n",
            "21/21 [==============================] - 0s 15ms/step - loss: 1.2622\n",
            "Epoch 23/100\n",
            "21/21 [==============================] - 0s 15ms/step - loss: 1.2518\n",
            "Epoch 24/100\n",
            "21/21 [==============================] - 0s 15ms/step - loss: 1.1284\n",
            "Epoch 25/100\n",
            "21/21 [==============================] - 0s 16ms/step - loss: 1.0965\n",
            "Epoch 26/100\n",
            "21/21 [==============================] - 0s 15ms/step - loss: 1.0424\n",
            "Epoch 27/100\n",
            "21/21 [==============================] - 0s 14ms/step - loss: 1.0065\n",
            "Epoch 28/100\n",
            "21/21 [==============================] - 0s 14ms/step - loss: 0.9587\n",
            "Epoch 29/100\n",
            "21/21 [==============================] - 0s 15ms/step - loss: 0.9261\n",
            "Epoch 30/100\n",
            "21/21 [==============================] - 0s 15ms/step - loss: 0.8838\n",
            "Epoch 31/100\n",
            "21/21 [==============================] - 0s 14ms/step - loss: 0.8267\n",
            "Epoch 32/100\n",
            "21/21 [==============================] - 0s 14ms/step - loss: 0.8752\n",
            "Epoch 33/100\n",
            "21/21 [==============================] - 0s 15ms/step - loss: 0.7674\n",
            "Epoch 34/100\n",
            "21/21 [==============================] - 0s 15ms/step - loss: 0.7208\n",
            "Epoch 35/100\n",
            "21/21 [==============================] - 0s 14ms/step - loss: 0.7356\n",
            "Epoch 36/100\n",
            "21/21 [==============================] - 0s 15ms/step - loss: 0.6655\n",
            "Epoch 37/100\n",
            "21/21 [==============================] - 0s 14ms/step - loss: 0.6600\n",
            "Epoch 38/100\n",
            "21/21 [==============================] - 0s 14ms/step - loss: 0.6350\n",
            "Epoch 39/100\n",
            "21/21 [==============================] - 0s 14ms/step - loss: 0.6142\n",
            "Epoch 40/100\n",
            "21/21 [==============================] - 0s 14ms/step - loss: 0.6236\n",
            "Epoch 41/100\n",
            "21/21 [==============================] - 0s 15ms/step - loss: 0.7855\n",
            "Epoch 42/100\n",
            "21/21 [==============================] - 0s 15ms/step - loss: 0.6041\n",
            "Epoch 43/100\n",
            "21/21 [==============================] - 0s 14ms/step - loss: 0.6191\n",
            "Epoch 44/100\n",
            "21/21 [==============================] - 0s 15ms/step - loss: 0.5774\n",
            "Epoch 45/100\n",
            "21/21 [==============================] - 0s 15ms/step - loss: 0.5756\n",
            "Epoch 46/100\n",
            "21/21 [==============================] - 0s 15ms/step - loss: 0.5523\n",
            "Epoch 47/100\n",
            "21/21 [==============================] - 0s 15ms/step - loss: 0.5386\n",
            "Epoch 48/100\n",
            "21/21 [==============================] - 0s 15ms/step - loss: 0.4901\n",
            "Epoch 49/100\n",
            "21/21 [==============================] - 0s 16ms/step - loss: 0.5087\n",
            "Epoch 50/100\n",
            "21/21 [==============================] - 0s 15ms/step - loss: 0.5150\n",
            "Epoch 51/100\n",
            "21/21 [==============================] - 0s 16ms/step - loss: 0.4975\n",
            "Epoch 52/100\n",
            "21/21 [==============================] - 0s 15ms/step - loss: 0.5361\n",
            "Epoch 53/100\n",
            "21/21 [==============================] - 0s 16ms/step - loss: 0.4778\n",
            "Epoch 54/100\n",
            "21/21 [==============================] - 0s 16ms/step - loss: 0.5306\n",
            "Epoch 55/100\n",
            "21/21 [==============================] - 0s 16ms/step - loss: 0.4387\n",
            "Epoch 56/100\n",
            "21/21 [==============================] - 0s 15ms/step - loss: 0.4380\n",
            "Epoch 57/100\n",
            "21/21 [==============================] - 0s 15ms/step - loss: 0.4236\n",
            "Epoch 58/100\n",
            "21/21 [==============================] - 0s 15ms/step - loss: 0.4695\n",
            "Epoch 59/100\n",
            "21/21 [==============================] - 0s 15ms/step - loss: 0.4524\n",
            "Epoch 60/100\n",
            "21/21 [==============================] - 0s 15ms/step - loss: 0.4067\n",
            "Epoch 61/100\n",
            "21/21 [==============================] - 0s 14ms/step - loss: 0.4632\n",
            "Epoch 62/100\n",
            "21/21 [==============================] - 0s 15ms/step - loss: 0.4447\n",
            "Epoch 63/100\n",
            "21/21 [==============================] - 0s 15ms/step - loss: 0.4213\n",
            "Epoch 64/100\n",
            "21/21 [==============================] - 0s 14ms/step - loss: 0.4302\n",
            "Epoch 65/100\n",
            "21/21 [==============================] - 0s 15ms/step - loss: 0.4396\n",
            "Epoch 66/100\n",
            "21/21 [==============================] - 0s 15ms/step - loss: 0.3786\n",
            "Epoch 67/100\n",
            "21/21 [==============================] - 0s 15ms/step - loss: 0.4107\n",
            "Epoch 68/100\n",
            "21/21 [==============================] - 0s 14ms/step - loss: 0.3863\n",
            "Epoch 69/100\n",
            "21/21 [==============================] - 0s 14ms/step - loss: 0.3562\n",
            "Epoch 70/100\n",
            "21/21 [==============================] - 0s 15ms/step - loss: 0.3810\n",
            "Epoch 71/100\n",
            "21/21 [==============================] - 0s 14ms/step - loss: 0.3651\n",
            "Epoch 72/100\n",
            "21/21 [==============================] - 0s 15ms/step - loss: 0.4294\n",
            "Epoch 73/100\n",
            "21/21 [==============================] - 0s 15ms/step - loss: 0.3574\n",
            "Epoch 74/100\n",
            "21/21 [==============================] - 0s 15ms/step - loss: 0.4568\n",
            "Epoch 75/100\n",
            "21/21 [==============================] - 0s 15ms/step - loss: 0.3815\n",
            "Epoch 76/100\n",
            "21/21 [==============================] - 0s 15ms/step - loss: 0.4148\n",
            "Epoch 77/100\n",
            "21/21 [==============================] - 0s 16ms/step - loss: 0.4133\n",
            "Epoch 78/100\n",
            "21/21 [==============================] - 0s 15ms/step - loss: 0.3538\n",
            "Epoch 79/100\n",
            "21/21 [==============================] - 0s 15ms/step - loss: 0.4394\n",
            "Epoch 80/100\n",
            "21/21 [==============================] - 0s 15ms/step - loss: 0.3246\n",
            "Epoch 81/100\n",
            "21/21 [==============================] - 0s 15ms/step - loss: 0.4140\n",
            "Epoch 82/100\n",
            "21/21 [==============================] - 0s 15ms/step - loss: 0.3663\n",
            "Epoch 83/100\n",
            "21/21 [==============================] - 0s 15ms/step - loss: 0.3211\n",
            "Epoch 84/100\n",
            "21/21 [==============================] - 0s 16ms/step - loss: 0.3479\n",
            "Epoch 85/100\n",
            "21/21 [==============================] - 0s 14ms/step - loss: 0.4478\n",
            "Epoch 86/100\n",
            "21/21 [==============================] - 0s 15ms/step - loss: 0.3112\n",
            "Epoch 87/100\n",
            "21/21 [==============================] - 0s 15ms/step - loss: 0.3850\n",
            "Epoch 88/100\n",
            "21/21 [==============================] - 0s 14ms/step - loss: 0.3218\n",
            "Epoch 89/100\n",
            "21/21 [==============================] - 0s 16ms/step - loss: 0.3084\n",
            "Epoch 90/100\n",
            "21/21 [==============================] - 0s 15ms/step - loss: 0.2938\n",
            "Epoch 91/100\n",
            "21/21 [==============================] - 0s 16ms/step - loss: 0.4179\n",
            "Epoch 92/100\n",
            "21/21 [==============================] - 0s 17ms/step - loss: 0.4465\n",
            "Epoch 93/100\n",
            "21/21 [==============================] - 0s 16ms/step - loss: 0.4176\n",
            "Epoch 94/100\n",
            "21/21 [==============================] - 0s 16ms/step - loss: 0.3308\n",
            "Epoch 95/100\n",
            "21/21 [==============================] - 0s 16ms/step - loss: 0.3243\n",
            "Epoch 96/100\n",
            "21/21 [==============================] - 0s 15ms/step - loss: 0.3228\n",
            "Epoch 97/100\n",
            "21/21 [==============================] - 0s 15ms/step - loss: 0.2949\n",
            "Epoch 98/100\n",
            "21/21 [==============================] - 0s 14ms/step - loss: 0.3116\n",
            "Epoch 99/100\n",
            "21/21 [==============================] - 0s 15ms/step - loss: 0.3063\n",
            "Epoch 100/100\n",
            "21/21 [==============================] - 0s 15ms/step - loss: 0.2599\n"
          ]
        },
        {
          "output_type": "stream",
          "name": "stderr",
          "text": [
            "WARNING:tensorflow:5 out of the last 5 calls to <function Model.make_predict_function.<locals>.predict_function at 0x7f6122725480> triggered tf.function retracing. Tracing is expensive and the excessive number of tracings could be due to (1) creating @tf.function repeatedly in a loop, (2) passing tensors with different shapes, (3) passing Python objects instead of tensors. For (1), please define your @tf.function outside of the loop. For (2), @tf.function has reduce_retracing=True option that can avoid unnecessary retracing. For (3), please refer to https://www.tensorflow.org/guide/function#controlling_retracing and https://www.tensorflow.org/api_docs/python/tf/function for  more details.\n"
          ]
        },
        {
          "output_type": "stream",
          "name": "stdout",
          "text": [
            "1/1 [==============================] - 0s 223ms/step\n",
            "               MODEL       MAE       MSE      RMSE       MAPE      MDAPE  \\\n",
            "0  Linear Regression  0.738118  0.603878  0.777096   5.508551   4.984586   \n",
            "1      Decision Tree  0.953333  1.176250  1.084551   7.141432   6.603577   \n",
            "2      Random Forest  0.977250  1.168067  1.080771   8.024374   7.487377   \n",
            "3  Gradient Boosting  0.476206  0.287705  0.536381   6.154869   5.258491   \n",
            "4            XGBoost  2.010722  4.136822  2.033918  15.230754  15.305201   \n",
            "5                RNN  0.230552  0.064449  0.253868   1.713285   1.764463   \n",
            "6                RNN  0.436532  0.274851  0.524263   3.311078   2.654768   \n",
            "7                RNN  0.637668  0.500448  0.707424   4.655668   4.767175   \n",
            "8                RNN  0.221040  0.074830  0.273551   1.647594   1.309810   \n",
            "\n",
            "         R2 Training_Length Testing_Length  Training_Time  \n",
            "0 -0.114492             648             24       0.004886  \n",
            "1 -1.170838             648             24       0.007650  \n",
            "2 -1.155735             648             24       0.033237  \n",
            "3  0.469025             648             24       0.137758  \n",
            "4 -6.634746             648             24       5.274654  \n",
            "5  0.881056             648             24      33.437200  \n",
            "6  0.492746             648             24      33.181767  \n",
            "7  0.076394             648             24      32.740815  \n",
            "8  0.861896             648             24      33.973024  \n"
          ]
        }
      ]
    },
    {
      "cell_type": "code",
      "source": [
        "!pip install keras-tuner\n",
        "\n",
        "import tensorflow as tf\n",
        "from tensorflow.keras.models import Sequential\n",
        "from tensorflow.keras.layers import SimpleRNN, Dense\n",
        "from keras_tuner import BayesianOptimization\n",
        "from sklearn.metrics import mean_absolute_error, mean_squared_error, r2_score\n",
        "from tensorflow.keras.callbacks import EarlyStopping\n",
        "\n",
        "early_stopping = EarlyStopping(monitor='val_loss', patience=5, restore_best_weights=True)\n",
        "\n",
        "def build_model(hp):\n",
        "    model = Sequential()\n",
        "    model.add(SimpleRNN(\n",
        "        units=hp.Int('units', min_value=30, max_value=100, step=10),\n",
        "        activation='relu',\n",
        "        return_sequences=True,\n",
        "        input_shape=(X_train.shape[1], 1))\n",
        "    )\n",
        "    model.add(SimpleRNN(\n",
        "        units=hp.Int('units', min_value=30, max_value=100, step=10),\n",
        "        activation='relu')\n",
        "    )\n",
        "    model.add(Dense(1))\n",
        "    model.compile(optimizer='adam', loss='mean_squared_error')\n",
        "    return model\n",
        "\n",
        "# Convert the DataFrame to NumPy array and reshape\n",
        "X_train_array = X_train.to_numpy().reshape((X_train.shape[0], X_train.shape[1], 1))\n",
        "X_test_array = X_test.to_numpy().reshape((X_test.shape[0], X_test.shape[1], 1))\n",
        "y_train_array = y_train.to_numpy()\n",
        "y_test_array = y_test.to_numpy()\n",
        "\n",
        "# Initialize the BayesianOptimization tuner\n",
        "tuner = BayesianOptimization(\n",
        "    build_model,\n",
        "    objective='val_loss',\n",
        "    max_trials=30,\n",
        "    executions_per_trial=2,\n",
        "    directory='my_dir',\n",
        "    project_name='hyperparam_tuning'\n",
        "    )\n",
        "\n",
        "tuner.search(X_train_array, y_train_array, epochs=100, validation_split=0.2, verbose=1, callbacks=[early_stopping])\n",
        "\n",
        "# Get the optimal hyperparameters\n",
        "best_hps = tuner.get_best_hyperparameters(num_trials=1)[0]\n",
        "\n",
        "# Build the model with the best hyperparameters and train it\n",
        "model = tuner.hypermodel.build(best_hps)\n",
        "start_time_rnn = time.time()\n",
        "model.fit(X_train_array, y_train_array, epochs=100, batch_size=32, verbose=1, callbacks=[early_stopping])\n",
        "end_time_rnn = time.time()\n",
        "training_time_rnn = end_time_rnn - start_time_rnn\n",
        "\n",
        "# Predict\n",
        "y_pred_rnn = model.predict(X_test_array)\n",
        "\n",
        "# Calculate the metrics for RNN\n",
        "mae_rnn = mean_absolute_error(y_test_array, y_pred_rnn)\n",
        "mse_rnn = mean_squared_error(y_test_array, y_pred_rnn)\n",
        "rmse_rnn = np.sqrt(mse_rnn)\n",
        "mape_rnn = np.mean(np.abs((y_test_array - y_pred_rnn) / y_test_array)) * 100\n",
        "mdape_rnn = np.median(np.abs((y_test_array - y_pred_rnn) / y_test_array)) * 100\n",
        "r2_rnn = r2_score(y_test_array, y_pred_rnn)\n",
        "\n",
        "# Append metrics to the DataFrame\n",
        "metrics_df = metrics_df._append({\n",
        "    'MODEL': 'RNN',\n",
        "    'MAE': mae_rnn,\n",
        "    'MSE': mse_rnn,\n",
        "    'RMSE': rmse_rnn,\n",
        "    'MAPE': mape_rnn,\n",
        "    'MDAPE': mdape_rnn,\n",
        "    'R2': r2_rnn,\n",
        "    'Training_Length': len(y_train_array),\n",
        "    'Testing_Length': len(y_test_array),\n",
        "    'Training_Time': training_time_rnn\n",
        "}, ignore_index=True)\n",
        "\n",
        "print(metrics_df)\n"
      ],
      "metadata": {
        "id": "R-GatQt05EGl",
        "outputId": "6e21511f-b71b-4a32-e8cf-fbbb564f98c3",
        "colab": {
          "base_uri": "https://localhost:8080/"
        }
      },
      "execution_count": 26,
      "outputs": [
        {
          "output_type": "stream",
          "name": "stdout",
          "text": [
            "Trial 68 Complete [00h 00m 16s]\n",
            "val_loss: 1.0705606341362\n",
            "\n",
            "Best val_loss So Far: 0.5338453650474548\n",
            "Total elapsed time: 00h 15m 38s\n",
            "Epoch 1/100\n",
            "21/21 [==============================] - ETA: 0s - loss: 81.7272"
          ]
        },
        {
          "output_type": "stream",
          "name": "stderr",
          "text": [
            "WARNING:tensorflow:Early stopping conditioned on metric `val_loss` which is not available. Available metrics are: loss\n"
          ]
        },
        {
          "output_type": "stream",
          "name": "stdout",
          "text": [
            "\b\b\b\b\b\b\b\b\b\b\b\b\b\b\b\b\b\b\b\b\b\b\b\b\b\b\b\b\b\b\b\b\b\b\b\b\b\b\b\b\b\b\b\b\b\b\b\b\b\b\b\b\b\b\b\b\b\b\b\b\b\b\b\b\r21/21 [==============================] - 2s 15ms/step - loss: 81.7272\n",
            "Epoch 2/100\n",
            "20/21 [===========================>..] - ETA: 0s - loss: 9.6977 "
          ]
        },
        {
          "output_type": "stream",
          "name": "stderr",
          "text": [
            "WARNING:tensorflow:Early stopping conditioned on metric `val_loss` which is not available. Available metrics are: loss\n"
          ]
        },
        {
          "output_type": "stream",
          "name": "stdout",
          "text": [
            "\b\b\b\b\b\b\b\b\b\b\b\b\b\b\b\b\b\b\b\b\b\b\b\b\b\b\b\b\b\b\b\b\b\b\b\b\b\b\b\b\b\b\b\b\b\b\b\b\b\b\b\b\b\b\b\b\b\b\b\b\b\b\b\r21/21 [==============================] - 0s 15ms/step - loss: 9.6545\n",
            "Epoch 3/100\n",
            "21/21 [==============================] - ETA: 0s - loss: 5.4903"
          ]
        },
        {
          "output_type": "stream",
          "name": "stderr",
          "text": [
            "WARNING:tensorflow:Early stopping conditioned on metric `val_loss` which is not available. Available metrics are: loss\n"
          ]
        },
        {
          "output_type": "stream",
          "name": "stdout",
          "text": [
            "\b\b\b\b\b\b\b\b\b\b\b\b\b\b\b\b\b\b\b\b\b\b\b\b\b\b\b\b\b\b\b\b\b\b\b\b\b\b\b\b\b\b\b\b\b\b\b\b\b\b\b\b\b\b\b\b\b\b\b\b\b\b\b\r21/21 [==============================] - 0s 14ms/step - loss: 5.4903\n",
            "Epoch 4/100\n",
            "21/21 [==============================] - ETA: 0s - loss: 4.9527"
          ]
        },
        {
          "output_type": "stream",
          "name": "stderr",
          "text": [
            "WARNING:tensorflow:Early stopping conditioned on metric `val_loss` which is not available. Available metrics are: loss\n"
          ]
        },
        {
          "output_type": "stream",
          "name": "stdout",
          "text": [
            "\b\b\b\b\b\b\b\b\b\b\b\b\b\b\b\b\b\b\b\b\b\b\b\b\b\b\b\b\b\b\b\b\b\b\b\b\b\b\b\b\b\b\b\b\b\b\b\b\b\b\b\b\b\b\b\b\b\b\b\b\b\b\b\r21/21 [==============================] - 0s 14ms/step - loss: 4.9527\n",
            "Epoch 5/100\n",
            "21/21 [==============================] - ETA: 0s - loss: 4.2746"
          ]
        },
        {
          "output_type": "stream",
          "name": "stderr",
          "text": [
            "WARNING:tensorflow:Early stopping conditioned on metric `val_loss` which is not available. Available metrics are: loss\n"
          ]
        },
        {
          "output_type": "stream",
          "name": "stdout",
          "text": [
            "\b\b\b\b\b\b\b\b\b\b\b\b\b\b\b\b\b\b\b\b\b\b\b\b\b\b\b\b\b\b\b\b\b\b\b\b\b\b\b\b\b\b\b\b\b\b\b\b\b\b\b\b\b\b\b\b\b\b\b\b\b\b\b\r21/21 [==============================] - 0s 15ms/step - loss: 4.2746\n",
            "Epoch 6/100\n",
            "21/21 [==============================] - ETA: 0s - loss: 3.6797"
          ]
        },
        {
          "output_type": "stream",
          "name": "stderr",
          "text": [
            "WARNING:tensorflow:Early stopping conditioned on metric `val_loss` which is not available. Available metrics are: loss\n"
          ]
        },
        {
          "output_type": "stream",
          "name": "stdout",
          "text": [
            "\b\b\b\b\b\b\b\b\b\b\b\b\b\b\b\b\b\b\b\b\b\b\b\b\b\b\b\b\b\b\b\b\b\b\b\b\b\b\b\b\b\b\b\b\b\b\b\b\b\b\b\b\b\b\b\b\b\b\b\b\b\b\b\r21/21 [==============================] - 0s 15ms/step - loss: 3.6797\n",
            "Epoch 7/100\n",
            "21/21 [==============================] - ETA: 0s - loss: 2.7652"
          ]
        },
        {
          "output_type": "stream",
          "name": "stderr",
          "text": [
            "WARNING:tensorflow:Early stopping conditioned on metric `val_loss` which is not available. Available metrics are: loss\n"
          ]
        },
        {
          "output_type": "stream",
          "name": "stdout",
          "text": [
            "\b\b\b\b\b\b\b\b\b\b\b\b\b\b\b\b\b\b\b\b\b\b\b\b\b\b\b\b\b\b\b\b\b\b\b\b\b\b\b\b\b\b\b\b\b\b\b\b\b\b\b\b\b\b\b\b\b\b\b\b\b\b\b\r21/21 [==============================] - 0s 14ms/step - loss: 2.7652\n",
            "Epoch 8/100\n",
            "20/21 [===========================>..] - ETA: 0s - loss: 2.2599"
          ]
        },
        {
          "output_type": "stream",
          "name": "stderr",
          "text": [
            "WARNING:tensorflow:Early stopping conditioned on metric `val_loss` which is not available. Available metrics are: loss\n"
          ]
        },
        {
          "output_type": "stream",
          "name": "stdout",
          "text": [
            "\b\b\b\b\b\b\b\b\b\b\b\b\b\b\b\b\b\b\b\b\b\b\b\b\b\b\b\b\b\b\b\b\b\b\b\b\b\b\b\b\b\b\b\b\b\b\b\b\b\b\b\b\b\b\b\b\b\b\b\b\b\b\b\r21/21 [==============================] - 0s 15ms/step - loss: 2.2896\n",
            "Epoch 9/100\n",
            "20/21 [===========================>..] - ETA: 0s - loss: 2.3915"
          ]
        },
        {
          "output_type": "stream",
          "name": "stderr",
          "text": [
            "WARNING:tensorflow:Early stopping conditioned on metric `val_loss` which is not available. Available metrics are: loss\n"
          ]
        },
        {
          "output_type": "stream",
          "name": "stdout",
          "text": [
            "\b\b\b\b\b\b\b\b\b\b\b\b\b\b\b\b\b\b\b\b\b\b\b\b\b\b\b\b\b\b\b\b\b\b\b\b\b\b\b\b\b\b\b\b\b\b\b\b\b\b\b\b\b\b\b\b\b\b\b\b\b\b\b\r21/21 [==============================] - 0s 16ms/step - loss: 2.3992\n",
            "Epoch 10/100\n",
            "21/21 [==============================] - ETA: 0s - loss: 2.1098"
          ]
        },
        {
          "output_type": "stream",
          "name": "stderr",
          "text": [
            "WARNING:tensorflow:Early stopping conditioned on metric `val_loss` which is not available. Available metrics are: loss\n"
          ]
        },
        {
          "output_type": "stream",
          "name": "stdout",
          "text": [
            "\b\b\b\b\b\b\b\b\b\b\b\b\b\b\b\b\b\b\b\b\b\b\b\b\b\b\b\b\b\b\b\b\b\b\b\b\b\b\b\b\b\b\b\b\b\b\b\b\b\b\b\b\b\b\b\b\b\b\b\b\b\b\b\r21/21 [==============================] - 0s 15ms/step - loss: 2.1098\n",
            "Epoch 11/100\n",
            "21/21 [==============================] - ETA: 0s - loss: 2.0093"
          ]
        },
        {
          "output_type": "stream",
          "name": "stderr",
          "text": [
            "WARNING:tensorflow:Early stopping conditioned on metric `val_loss` which is not available. Available metrics are: loss\n"
          ]
        },
        {
          "output_type": "stream",
          "name": "stdout",
          "text": [
            "\b\b\b\b\b\b\b\b\b\b\b\b\b\b\b\b\b\b\b\b\b\b\b\b\b\b\b\b\b\b\b\b\b\b\b\b\b\b\b\b\b\b\b\b\b\b\b\b\b\b\b\b\b\b\b\b\b\b\b\b\b\b\b\r21/21 [==============================] - 0s 15ms/step - loss: 2.0093\n",
            "Epoch 12/100\n",
            "20/21 [===========================>..] - ETA: 0s - loss: 1.9629"
          ]
        },
        {
          "output_type": "stream",
          "name": "stderr",
          "text": [
            "WARNING:tensorflow:Early stopping conditioned on metric `val_loss` which is not available. Available metrics are: loss\n"
          ]
        },
        {
          "output_type": "stream",
          "name": "stdout",
          "text": [
            "\b\b\b\b\b\b\b\b\b\b\b\b\b\b\b\b\b\b\b\b\b\b\b\b\b\b\b\b\b\b\b\b\b\b\b\b\b\b\b\b\b\b\b\b\b\b\b\b\b\b\b\b\b\b\b\b\b\b\b\b\b\b\b\r21/21 [==============================] - 0s 16ms/step - loss: 1.9665\n",
            "Epoch 13/100\n",
            "21/21 [==============================] - ETA: 0s - loss: 1.9332"
          ]
        },
        {
          "output_type": "stream",
          "name": "stderr",
          "text": [
            "WARNING:tensorflow:Early stopping conditioned on metric `val_loss` which is not available. Available metrics are: loss\n"
          ]
        },
        {
          "output_type": "stream",
          "name": "stdout",
          "text": [
            "\b\b\b\b\b\b\b\b\b\b\b\b\b\b\b\b\b\b\b\b\b\b\b\b\b\b\b\b\b\b\b\b\b\b\b\b\b\b\b\b\b\b\b\b\b\b\b\b\b\b\b\b\b\b\b\b\b\b\b\b\b\b\b\r21/21 [==============================] - 0s 15ms/step - loss: 1.9332\n",
            "Epoch 14/100\n",
            "21/21 [==============================] - ETA: 0s - loss: 1.8978"
          ]
        },
        {
          "output_type": "stream",
          "name": "stderr",
          "text": [
            "WARNING:tensorflow:Early stopping conditioned on metric `val_loss` which is not available. Available metrics are: loss\n"
          ]
        },
        {
          "output_type": "stream",
          "name": "stdout",
          "text": [
            "\b\b\b\b\b\b\b\b\b\b\b\b\b\b\b\b\b\b\b\b\b\b\b\b\b\b\b\b\b\b\b\b\b\b\b\b\b\b\b\b\b\b\b\b\b\b\b\b\b\b\b\b\b\b\b\b\b\b\b\b\b\b\b\r21/21 [==============================] - 0s 14ms/step - loss: 1.8978\n",
            "Epoch 15/100\n",
            "21/21 [==============================] - ETA: 0s - loss: 1.7795"
          ]
        },
        {
          "output_type": "stream",
          "name": "stderr",
          "text": [
            "WARNING:tensorflow:Early stopping conditioned on metric `val_loss` which is not available. Available metrics are: loss\n"
          ]
        },
        {
          "output_type": "stream",
          "name": "stdout",
          "text": [
            "\b\b\b\b\b\b\b\b\b\b\b\b\b\b\b\b\b\b\b\b\b\b\b\b\b\b\b\b\b\b\b\b\b\b\b\b\b\b\b\b\b\b\b\b\b\b\b\b\b\b\b\b\b\b\b\b\b\b\b\b\b\b\b\r21/21 [==============================] - 0s 15ms/step - loss: 1.7795\n",
            "Epoch 16/100\n",
            "21/21 [==============================] - ETA: 0s - loss: 1.7924"
          ]
        },
        {
          "output_type": "stream",
          "name": "stderr",
          "text": [
            "WARNING:tensorflow:Early stopping conditioned on metric `val_loss` which is not available. Available metrics are: loss\n"
          ]
        },
        {
          "output_type": "stream",
          "name": "stdout",
          "text": [
            "\b\b\b\b\b\b\b\b\b\b\b\b\b\b\b\b\b\b\b\b\b\b\b\b\b\b\b\b\b\b\b\b\b\b\b\b\b\b\b\b\b\b\b\b\b\b\b\b\b\b\b\b\b\b\b\b\b\b\b\b\b\b\b\r21/21 [==============================] - 0s 14ms/step - loss: 1.7924\n",
            "Epoch 17/100\n",
            "21/21 [==============================] - ETA: 0s - loss: 1.9690"
          ]
        },
        {
          "output_type": "stream",
          "name": "stderr",
          "text": [
            "WARNING:tensorflow:Early stopping conditioned on metric `val_loss` which is not available. Available metrics are: loss\n"
          ]
        },
        {
          "output_type": "stream",
          "name": "stdout",
          "text": [
            "\b\b\b\b\b\b\b\b\b\b\b\b\b\b\b\b\b\b\b\b\b\b\b\b\b\b\b\b\b\b\b\b\b\b\b\b\b\b\b\b\b\b\b\b\b\b\b\b\b\b\b\b\b\b\b\b\b\b\b\b\b\b\b\r21/21 [==============================] - 0s 15ms/step - loss: 1.9690\n",
            "Epoch 18/100\n",
            "20/21 [===========================>..] - ETA: 0s - loss: 1.8527"
          ]
        },
        {
          "output_type": "stream",
          "name": "stderr",
          "text": [
            "WARNING:tensorflow:Early stopping conditioned on metric `val_loss` which is not available. Available metrics are: loss\n"
          ]
        },
        {
          "output_type": "stream",
          "name": "stdout",
          "text": [
            "\b\b\b\b\b\b\b\b\b\b\b\b\b\b\b\b\b\b\b\b\b\b\b\b\b\b\b\b\b\b\b\b\b\b\b\b\b\b\b\b\b\b\b\b\b\b\b\b\b\b\b\b\b\b\b\b\b\b\b\b\b\b\b\r21/21 [==============================] - 0s 15ms/step - loss: 1.8516\n",
            "Epoch 19/100\n",
            "21/21 [==============================] - ETA: 0s - loss: 2.0310"
          ]
        },
        {
          "output_type": "stream",
          "name": "stderr",
          "text": [
            "WARNING:tensorflow:Early stopping conditioned on metric `val_loss` which is not available. Available metrics are: loss\n"
          ]
        },
        {
          "output_type": "stream",
          "name": "stdout",
          "text": [
            "\b\b\b\b\b\b\b\b\b\b\b\b\b\b\b\b\b\b\b\b\b\b\b\b\b\b\b\b\b\b\b\b\b\b\b\b\b\b\b\b\b\b\b\b\b\b\b\b\b\b\b\b\b\b\b\b\b\b\b\b\b\b\b\r21/21 [==============================] - 0s 14ms/step - loss: 2.0310\n",
            "Epoch 20/100\n",
            "21/21 [==============================] - ETA: 0s - loss: 1.6248"
          ]
        },
        {
          "output_type": "stream",
          "name": "stderr",
          "text": [
            "WARNING:tensorflow:Early stopping conditioned on metric `val_loss` which is not available. Available metrics are: loss\n"
          ]
        },
        {
          "output_type": "stream",
          "name": "stdout",
          "text": [
            "\b\b\b\b\b\b\b\b\b\b\b\b\b\b\b\b\b\b\b\b\b\b\b\b\b\b\b\b\b\b\b\b\b\b\b\b\b\b\b\b\b\b\b\b\b\b\b\b\b\b\b\b\b\b\b\b\b\b\b\b\b\b\b\r21/21 [==============================] - 0s 14ms/step - loss: 1.6248\n",
            "Epoch 21/100\n",
            "18/21 [========================>.....] - ETA: 0s - loss: 1.5500"
          ]
        },
        {
          "output_type": "stream",
          "name": "stderr",
          "text": [
            "WARNING:tensorflow:Early stopping conditioned on metric `val_loss` which is not available. Available metrics are: loss\n"
          ]
        },
        {
          "output_type": "stream",
          "name": "stdout",
          "text": [
            "\b\b\b\b\b\b\b\b\b\b\b\b\b\b\b\b\b\b\b\b\b\b\b\b\b\b\b\b\b\b\b\b\b\b\b\b\b\b\b\b\b\b\b\b\b\b\b\b\b\b\b\b\b\b\b\b\b\b\b\b\b\b\b\r21/21 [==============================] - 0s 14ms/step - loss: 1.5500\n",
            "Epoch 22/100\n",
            "18/21 [========================>.....] - ETA: 0s - loss: 1.5481"
          ]
        },
        {
          "output_type": "stream",
          "name": "stderr",
          "text": [
            "WARNING:tensorflow:Early stopping conditioned on metric `val_loss` which is not available. Available metrics are: loss\n"
          ]
        },
        {
          "output_type": "stream",
          "name": "stdout",
          "text": [
            "\b\b\b\b\b\b\b\b\b\b\b\b\b\b\b\b\b\b\b\b\b\b\b\b\b\b\b\b\b\b\b\b\b\b\b\b\b\b\b\b\b\b\b\b\b\b\b\b\b\b\b\b\b\b\b\b\b\b\b\b\b\b\b\r21/21 [==============================] - 0s 14ms/step - loss: 1.5553\n",
            "Epoch 23/100\n",
            "21/21 [==============================] - ETA: 0s - loss: 1.4941"
          ]
        },
        {
          "output_type": "stream",
          "name": "stderr",
          "text": [
            "WARNING:tensorflow:Early stopping conditioned on metric `val_loss` which is not available. Available metrics are: loss\n"
          ]
        },
        {
          "output_type": "stream",
          "name": "stdout",
          "text": [
            "\b\b\b\b\b\b\b\b\b\b\b\b\b\b\b\b\b\b\b\b\b\b\b\b\b\b\b\b\b\b\b\b\b\b\b\b\b\b\b\b\b\b\b\b\b\b\b\b\b\b\b\b\b\b\b\b\b\b\b\b\b\b\b\r21/21 [==============================] - 0s 14ms/step - loss: 1.4941\n",
            "Epoch 24/100\n",
            "21/21 [==============================] - ETA: 0s - loss: 1.2696"
          ]
        },
        {
          "output_type": "stream",
          "name": "stderr",
          "text": [
            "WARNING:tensorflow:Early stopping conditioned on metric `val_loss` which is not available. Available metrics are: loss\n"
          ]
        },
        {
          "output_type": "stream",
          "name": "stdout",
          "text": [
            "\b\b\b\b\b\b\b\b\b\b\b\b\b\b\b\b\b\b\b\b\b\b\b\b\b\b\b\b\b\b\b\b\b\b\b\b\b\b\b\b\b\b\b\b\b\b\b\b\b\b\b\b\b\b\b\b\b\b\b\b\b\b\b\r21/21 [==============================] - 0s 14ms/step - loss: 1.2696\n",
            "Epoch 25/100\n",
            "21/21 [==============================] - ETA: 0s - loss: 1.2858"
          ]
        },
        {
          "output_type": "stream",
          "name": "stderr",
          "text": [
            "WARNING:tensorflow:Early stopping conditioned on metric `val_loss` which is not available. Available metrics are: loss\n"
          ]
        },
        {
          "output_type": "stream",
          "name": "stdout",
          "text": [
            "\b\b\b\b\b\b\b\b\b\b\b\b\b\b\b\b\b\b\b\b\b\b\b\b\b\b\b\b\b\b\b\b\b\b\b\b\b\b\b\b\b\b\b\b\b\b\b\b\b\b\b\b\b\b\b\b\b\b\b\b\b\b\b\r21/21 [==============================] - 0s 15ms/step - loss: 1.2858\n",
            "Epoch 26/100\n",
            "21/21 [==============================] - ETA: 0s - loss: 1.2026"
          ]
        },
        {
          "output_type": "stream",
          "name": "stderr",
          "text": [
            "WARNING:tensorflow:Early stopping conditioned on metric `val_loss` which is not available. Available metrics are: loss\n"
          ]
        },
        {
          "output_type": "stream",
          "name": "stdout",
          "text": [
            "\b\b\b\b\b\b\b\b\b\b\b\b\b\b\b\b\b\b\b\b\b\b\b\b\b\b\b\b\b\b\b\b\b\b\b\b\b\b\b\b\b\b\b\b\b\b\b\b\b\b\b\b\b\b\b\b\b\b\b\b\b\b\b\r21/21 [==============================] - 0s 15ms/step - loss: 1.2026\n",
            "Epoch 27/100\n",
            "21/21 [==============================] - ETA: 0s - loss: 1.0728"
          ]
        },
        {
          "output_type": "stream",
          "name": "stderr",
          "text": [
            "WARNING:tensorflow:Early stopping conditioned on metric `val_loss` which is not available. Available metrics are: loss\n"
          ]
        },
        {
          "output_type": "stream",
          "name": "stdout",
          "text": [
            "\b\b\b\b\b\b\b\b\b\b\b\b\b\b\b\b\b\b\b\b\b\b\b\b\b\b\b\b\b\b\b\b\b\b\b\b\b\b\b\b\b\b\b\b\b\b\b\b\b\b\b\b\b\b\b\b\b\b\b\b\b\b\b\r21/21 [==============================] - 0s 14ms/step - loss: 1.0728\n",
            "Epoch 28/100\n",
            "21/21 [==============================] - ETA: 0s - loss: 1.0497"
          ]
        },
        {
          "output_type": "stream",
          "name": "stderr",
          "text": [
            "WARNING:tensorflow:Early stopping conditioned on metric `val_loss` which is not available. Available metrics are: loss\n"
          ]
        },
        {
          "output_type": "stream",
          "name": "stdout",
          "text": [
            "\b\b\b\b\b\b\b\b\b\b\b\b\b\b\b\b\b\b\b\b\b\b\b\b\b\b\b\b\b\b\b\b\b\b\b\b\b\b\b\b\b\b\b\b\b\b\b\b\b\b\b\b\b\b\b\b\b\b\b\b\b\b\b\r21/21 [==============================] - 0s 15ms/step - loss: 1.0497\n",
            "Epoch 29/100\n",
            "21/21 [==============================] - ETA: 0s - loss: 0.9825"
          ]
        },
        {
          "output_type": "stream",
          "name": "stderr",
          "text": [
            "WARNING:tensorflow:Early stopping conditioned on metric `val_loss` which is not available. Available metrics are: loss\n"
          ]
        },
        {
          "output_type": "stream",
          "name": "stdout",
          "text": [
            "\b\b\b\b\b\b\b\b\b\b\b\b\b\b\b\b\b\b\b\b\b\b\b\b\b\b\b\b\b\b\b\b\b\b\b\b\b\b\b\b\b\b\b\b\b\b\b\b\b\b\b\b\b\b\b\b\b\b\b\b\b\b\b\r21/21 [==============================] - 0s 15ms/step - loss: 0.9825\n",
            "Epoch 30/100\n",
            "21/21 [==============================] - ETA: 0s - loss: 0.9507"
          ]
        },
        {
          "output_type": "stream",
          "name": "stderr",
          "text": [
            "WARNING:tensorflow:Early stopping conditioned on metric `val_loss` which is not available. Available metrics are: loss\n"
          ]
        },
        {
          "output_type": "stream",
          "name": "stdout",
          "text": [
            "\b\b\b\b\b\b\b\b\b\b\b\b\b\b\b\b\b\b\b\b\b\b\b\b\b\b\b\b\b\b\b\b\b\b\b\b\b\b\b\b\b\b\b\b\b\b\b\b\b\b\b\b\b\b\b\b\b\b\b\b\b\b\b\r21/21 [==============================] - 0s 14ms/step - loss: 0.9507\n",
            "Epoch 31/100\n",
            "21/21 [==============================] - ETA: 0s - loss: 0.7736"
          ]
        },
        {
          "output_type": "stream",
          "name": "stderr",
          "text": [
            "WARNING:tensorflow:Early stopping conditioned on metric `val_loss` which is not available. Available metrics are: loss\n"
          ]
        },
        {
          "output_type": "stream",
          "name": "stdout",
          "text": [
            "\b\b\b\b\b\b\b\b\b\b\b\b\b\b\b\b\b\b\b\b\b\b\b\b\b\b\b\b\b\b\b\b\b\b\b\b\b\b\b\b\b\b\b\b\b\b\b\b\b\b\b\b\b\b\b\b\b\b\b\b\b\b\b\r21/21 [==============================] - 0s 14ms/step - loss: 0.7736\n",
            "Epoch 32/100\n",
            "21/21 [==============================] - ETA: 0s - loss: 0.7788"
          ]
        },
        {
          "output_type": "stream",
          "name": "stderr",
          "text": [
            "WARNING:tensorflow:Early stopping conditioned on metric `val_loss` which is not available. Available metrics are: loss\n"
          ]
        },
        {
          "output_type": "stream",
          "name": "stdout",
          "text": [
            "\b\b\b\b\b\b\b\b\b\b\b\b\b\b\b\b\b\b\b\b\b\b\b\b\b\b\b\b\b\b\b\b\b\b\b\b\b\b\b\b\b\b\b\b\b\b\b\b\b\b\b\b\b\b\b\b\b\b\b\b\b\b\b\r21/21 [==============================] - 0s 15ms/step - loss: 0.7788\n",
            "Epoch 33/100\n",
            "21/21 [==============================] - ETA: 0s - loss: 0.6674"
          ]
        },
        {
          "output_type": "stream",
          "name": "stderr",
          "text": [
            "WARNING:tensorflow:Early stopping conditioned on metric `val_loss` which is not available. Available metrics are: loss\n"
          ]
        },
        {
          "output_type": "stream",
          "name": "stdout",
          "text": [
            "\b\b\b\b\b\b\b\b\b\b\b\b\b\b\b\b\b\b\b\b\b\b\b\b\b\b\b\b\b\b\b\b\b\b\b\b\b\b\b\b\b\b\b\b\b\b\b\b\b\b\b\b\b\b\b\b\b\b\b\b\b\b\b\r21/21 [==============================] - 0s 14ms/step - loss: 0.6674\n",
            "Epoch 34/100\n",
            "21/21 [==============================] - ETA: 0s - loss: 0.6535"
          ]
        },
        {
          "output_type": "stream",
          "name": "stderr",
          "text": [
            "WARNING:tensorflow:Early stopping conditioned on metric `val_loss` which is not available. Available metrics are: loss\n"
          ]
        },
        {
          "output_type": "stream",
          "name": "stdout",
          "text": [
            "\b\b\b\b\b\b\b\b\b\b\b\b\b\b\b\b\b\b\b\b\b\b\b\b\b\b\b\b\b\b\b\b\b\b\b\b\b\b\b\b\b\b\b\b\b\b\b\b\b\b\b\b\b\b\b\b\b\b\b\b\b\b\b\r21/21 [==============================] - 0s 14ms/step - loss: 0.6535\n",
            "Epoch 35/100\n",
            "20/21 [===========================>..] - ETA: 0s - loss: 0.7036"
          ]
        },
        {
          "output_type": "stream",
          "name": "stderr",
          "text": [
            "WARNING:tensorflow:Early stopping conditioned on metric `val_loss` which is not available. Available metrics are: loss\n"
          ]
        },
        {
          "output_type": "stream",
          "name": "stdout",
          "text": [
            "\b\b\b\b\b\b\b\b\b\b\b\b\b\b\b\b\b\b\b\b\b\b\b\b\b\b\b\b\b\b\b\b\b\b\b\b\b\b\b\b\b\b\b\b\b\b\b\b\b\b\b\b\b\b\b\b\b\b\b\b\b\b\b\r21/21 [==============================] - 0s 15ms/step - loss: 0.7015\n",
            "Epoch 36/100\n",
            "21/21 [==============================] - ETA: 0s - loss: 0.6574"
          ]
        },
        {
          "output_type": "stream",
          "name": "stderr",
          "text": [
            "WARNING:tensorflow:Early stopping conditioned on metric `val_loss` which is not available. Available metrics are: loss\n"
          ]
        },
        {
          "output_type": "stream",
          "name": "stdout",
          "text": [
            "\b\b\b\b\b\b\b\b\b\b\b\b\b\b\b\b\b\b\b\b\b\b\b\b\b\b\b\b\b\b\b\b\b\b\b\b\b\b\b\b\b\b\b\b\b\b\b\b\b\b\b\b\b\b\b\b\b\b\b\b\b\b\b\r21/21 [==============================] - 0s 14ms/step - loss: 0.6574\n",
            "Epoch 37/100\n",
            "21/21 [==============================] - ETA: 0s - loss: 0.6179"
          ]
        },
        {
          "output_type": "stream",
          "name": "stderr",
          "text": [
            "WARNING:tensorflow:Early stopping conditioned on metric `val_loss` which is not available. Available metrics are: loss\n"
          ]
        },
        {
          "output_type": "stream",
          "name": "stdout",
          "text": [
            "\b\b\b\b\b\b\b\b\b\b\b\b\b\b\b\b\b\b\b\b\b\b\b\b\b\b\b\b\b\b\b\b\b\b\b\b\b\b\b\b\b\b\b\b\b\b\b\b\b\b\b\b\b\b\b\b\b\b\b\b\b\b\b\r21/21 [==============================] - 0s 14ms/step - loss: 0.6179\n",
            "Epoch 38/100\n",
            "21/21 [==============================] - ETA: 0s - loss: 0.7333"
          ]
        },
        {
          "output_type": "stream",
          "name": "stderr",
          "text": [
            "WARNING:tensorflow:Early stopping conditioned on metric `val_loss` which is not available. Available metrics are: loss\n"
          ]
        },
        {
          "output_type": "stream",
          "name": "stdout",
          "text": [
            "\b\b\b\b\b\b\b\b\b\b\b\b\b\b\b\b\b\b\b\b\b\b\b\b\b\b\b\b\b\b\b\b\b\b\b\b\b\b\b\b\b\b\b\b\b\b\b\b\b\b\b\b\b\b\b\b\b\b\b\b\b\b\b\r21/21 [==============================] - 0s 14ms/step - loss: 0.7333\n",
            "Epoch 39/100\n",
            "21/21 [==============================] - ETA: 0s - loss: 0.6906"
          ]
        },
        {
          "output_type": "stream",
          "name": "stderr",
          "text": [
            "WARNING:tensorflow:Early stopping conditioned on metric `val_loss` which is not available. Available metrics are: loss\n"
          ]
        },
        {
          "output_type": "stream",
          "name": "stdout",
          "text": [
            "\b\b\b\b\b\b\b\b\b\b\b\b\b\b\b\b\b\b\b\b\b\b\b\b\b\b\b\b\b\b\b\b\b\b\b\b\b\b\b\b\b\b\b\b\b\b\b\b\b\b\b\b\b\b\b\b\b\b\b\b\b\b\b\r21/21 [==============================] - 0s 14ms/step - loss: 0.6906\n",
            "Epoch 40/100\n",
            "21/21 [==============================] - ETA: 0s - loss: 0.6933"
          ]
        },
        {
          "output_type": "stream",
          "name": "stderr",
          "text": [
            "WARNING:tensorflow:Early stopping conditioned on metric `val_loss` which is not available. Available metrics are: loss\n"
          ]
        },
        {
          "output_type": "stream",
          "name": "stdout",
          "text": [
            "\b\b\b\b\b\b\b\b\b\b\b\b\b\b\b\b\b\b\b\b\b\b\b\b\b\b\b\b\b\b\b\b\b\b\b\b\b\b\b\b\b\b\b\b\b\b\b\b\b\b\b\b\b\b\b\b\b\b\b\b\b\b\b\r21/21 [==============================] - 0s 14ms/step - loss: 0.6933\n",
            "Epoch 41/100\n",
            "21/21 [==============================] - ETA: 0s - loss: 0.6249"
          ]
        },
        {
          "output_type": "stream",
          "name": "stderr",
          "text": [
            "WARNING:tensorflow:Early stopping conditioned on metric `val_loss` which is not available. Available metrics are: loss\n"
          ]
        },
        {
          "output_type": "stream",
          "name": "stdout",
          "text": [
            "\b\b\b\b\b\b\b\b\b\b\b\b\b\b\b\b\b\b\b\b\b\b\b\b\b\b\b\b\b\b\b\b\b\b\b\b\b\b\b\b\b\b\b\b\b\b\b\b\b\b\b\b\b\b\b\b\b\b\b\b\b\b\b\r21/21 [==============================] - 0s 14ms/step - loss: 0.6249\n",
            "Epoch 42/100\n",
            "21/21 [==============================] - ETA: 0s - loss: 0.5512"
          ]
        },
        {
          "output_type": "stream",
          "name": "stderr",
          "text": [
            "WARNING:tensorflow:Early stopping conditioned on metric `val_loss` which is not available. Available metrics are: loss\n"
          ]
        },
        {
          "output_type": "stream",
          "name": "stdout",
          "text": [
            "\b\b\b\b\b\b\b\b\b\b\b\b\b\b\b\b\b\b\b\b\b\b\b\b\b\b\b\b\b\b\b\b\b\b\b\b\b\b\b\b\b\b\b\b\b\b\b\b\b\b\b\b\b\b\b\b\b\b\b\b\b\b\b\r21/21 [==============================] - 0s 14ms/step - loss: 0.5512\n",
            "Epoch 43/100\n",
            "21/21 [==============================] - ETA: 0s - loss: 0.4952"
          ]
        },
        {
          "output_type": "stream",
          "name": "stderr",
          "text": [
            "WARNING:tensorflow:Early stopping conditioned on metric `val_loss` which is not available. Available metrics are: loss\n"
          ]
        },
        {
          "output_type": "stream",
          "name": "stdout",
          "text": [
            "\b\b\b\b\b\b\b\b\b\b\b\b\b\b\b\b\b\b\b\b\b\b\b\b\b\b\b\b\b\b\b\b\b\b\b\b\b\b\b\b\b\b\b\b\b\b\b\b\b\b\b\b\b\b\b\b\b\b\b\b\b\b\b\r21/21 [==============================] - 0s 13ms/step - loss: 0.4952\n",
            "Epoch 44/100\n",
            "18/21 [========================>.....] - ETA: 0s - loss: 0.5861"
          ]
        },
        {
          "output_type": "stream",
          "name": "stderr",
          "text": [
            "WARNING:tensorflow:Early stopping conditioned on metric `val_loss` which is not available. Available metrics are: loss\n"
          ]
        },
        {
          "output_type": "stream",
          "name": "stdout",
          "text": [
            "\b\b\b\b\b\b\b\b\b\b\b\b\b\b\b\b\b\b\b\b\b\b\b\b\b\b\b\b\b\b\b\b\b\b\b\b\b\b\b\b\b\b\b\b\b\b\b\b\b\b\b\b\b\b\b\b\b\b\b\b\b\b\b\r21/21 [==============================] - 0s 13ms/step - loss: 0.6106\n",
            "Epoch 45/100\n",
            "21/21 [==============================] - ETA: 0s - loss: 0.7454"
          ]
        },
        {
          "output_type": "stream",
          "name": "stderr",
          "text": [
            "WARNING:tensorflow:Early stopping conditioned on metric `val_loss` which is not available. Available metrics are: loss\n"
          ]
        },
        {
          "output_type": "stream",
          "name": "stdout",
          "text": [
            "\b\b\b\b\b\b\b\b\b\b\b\b\b\b\b\b\b\b\b\b\b\b\b\b\b\b\b\b\b\b\b\b\b\b\b\b\b\b\b\b\b\b\b\b\b\b\b\b\b\b\b\b\b\b\b\b\b\b\b\b\b\b\b\r21/21 [==============================] - 0s 14ms/step - loss: 0.7454\n",
            "Epoch 46/100\n",
            "20/21 [===========================>..] - ETA: 0s - loss: 0.5496"
          ]
        },
        {
          "output_type": "stream",
          "name": "stderr",
          "text": [
            "WARNING:tensorflow:Early stopping conditioned on metric `val_loss` which is not available. Available metrics are: loss\n"
          ]
        },
        {
          "output_type": "stream",
          "name": "stdout",
          "text": [
            "\b\b\b\b\b\b\b\b\b\b\b\b\b\b\b\b\b\b\b\b\b\b\b\b\b\b\b\b\b\b\b\b\b\b\b\b\b\b\b\b\b\b\b\b\b\b\b\b\b\b\b\b\b\b\b\b\b\b\b\b\b\b\b\r21/21 [==============================] - 0s 14ms/step - loss: 0.5498\n",
            "Epoch 47/100\n",
            "21/21 [==============================] - ETA: 0s - loss: 0.6291"
          ]
        },
        {
          "output_type": "stream",
          "name": "stderr",
          "text": [
            "WARNING:tensorflow:Early stopping conditioned on metric `val_loss` which is not available. Available metrics are: loss\n"
          ]
        },
        {
          "output_type": "stream",
          "name": "stdout",
          "text": [
            "\b\b\b\b\b\b\b\b\b\b\b\b\b\b\b\b\b\b\b\b\b\b\b\b\b\b\b\b\b\b\b\b\b\b\b\b\b\b\b\b\b\b\b\b\b\b\b\b\b\b\b\b\b\b\b\b\b\b\b\b\b\b\b\r21/21 [==============================] - 0s 14ms/step - loss: 0.6291\n",
            "Epoch 48/100\n",
            "21/21 [==============================] - ETA: 0s - loss: 0.4520"
          ]
        },
        {
          "output_type": "stream",
          "name": "stderr",
          "text": [
            "WARNING:tensorflow:Early stopping conditioned on metric `val_loss` which is not available. Available metrics are: loss\n"
          ]
        },
        {
          "output_type": "stream",
          "name": "stdout",
          "text": [
            "\b\b\b\b\b\b\b\b\b\b\b\b\b\b\b\b\b\b\b\b\b\b\b\b\b\b\b\b\b\b\b\b\b\b\b\b\b\b\b\b\b\b\b\b\b\b\b\b\b\b\b\b\b\b\b\b\b\b\b\b\b\b\b\r21/21 [==============================] - 0s 14ms/step - loss: 0.4520\n",
            "Epoch 49/100\n",
            "21/21 [==============================] - ETA: 0s - loss: 0.4855"
          ]
        },
        {
          "output_type": "stream",
          "name": "stderr",
          "text": [
            "WARNING:tensorflow:Early stopping conditioned on metric `val_loss` which is not available. Available metrics are: loss\n"
          ]
        },
        {
          "output_type": "stream",
          "name": "stdout",
          "text": [
            "\b\b\b\b\b\b\b\b\b\b\b\b\b\b\b\b\b\b\b\b\b\b\b\b\b\b\b\b\b\b\b\b\b\b\b\b\b\b\b\b\b\b\b\b\b\b\b\b\b\b\b\b\b\b\b\b\b\b\b\b\b\b\b\r21/21 [==============================] - 0s 14ms/step - loss: 0.4855\n",
            "Epoch 50/100\n",
            "21/21 [==============================] - ETA: 0s - loss: 0.5218"
          ]
        },
        {
          "output_type": "stream",
          "name": "stderr",
          "text": [
            "WARNING:tensorflow:Early stopping conditioned on metric `val_loss` which is not available. Available metrics are: loss\n"
          ]
        },
        {
          "output_type": "stream",
          "name": "stdout",
          "text": [
            "\b\b\b\b\b\b\b\b\b\b\b\b\b\b\b\b\b\b\b\b\b\b\b\b\b\b\b\b\b\b\b\b\b\b\b\b\b\b\b\b\b\b\b\b\b\b\b\b\b\b\b\b\b\b\b\b\b\b\b\b\b\b\b\r21/21 [==============================] - 0s 14ms/step - loss: 0.5218\n",
            "Epoch 51/100\n",
            "19/21 [==========================>...] - ETA: 0s - loss: 0.4152"
          ]
        },
        {
          "output_type": "stream",
          "name": "stderr",
          "text": [
            "WARNING:tensorflow:Early stopping conditioned on metric `val_loss` which is not available. Available metrics are: loss\n"
          ]
        },
        {
          "output_type": "stream",
          "name": "stdout",
          "text": [
            "\b\b\b\b\b\b\b\b\b\b\b\b\b\b\b\b\b\b\b\b\b\b\b\b\b\b\b\b\b\b\b\b\b\b\b\b\b\b\b\b\b\b\b\b\b\b\b\b\b\b\b\b\b\b\b\b\b\b\b\b\b\b\b\r21/21 [==============================] - 0s 13ms/step - loss: 0.4278\n",
            "Epoch 52/100\n",
            "18/21 [========================>.....] - ETA: 0s - loss: 0.4191"
          ]
        },
        {
          "output_type": "stream",
          "name": "stderr",
          "text": [
            "WARNING:tensorflow:Early stopping conditioned on metric `val_loss` which is not available. Available metrics are: loss\n"
          ]
        },
        {
          "output_type": "stream",
          "name": "stdout",
          "text": [
            "\b\b\b\b\b\b\b\b\b\b\b\b\b\b\b\b\b\b\b\b\b\b\b\b\b\b\b\b\b\b\b\b\b\b\b\b\b\b\b\b\b\b\b\b\b\b\b\b\b\b\b\b\b\b\b\b\b\b\b\b\b\b\b\r21/21 [==============================] - 0s 14ms/step - loss: 0.4123\n",
            "Epoch 53/100\n",
            "21/21 [==============================] - ETA: 0s - loss: 0.4249"
          ]
        },
        {
          "output_type": "stream",
          "name": "stderr",
          "text": [
            "WARNING:tensorflow:Early stopping conditioned on metric `val_loss` which is not available. Available metrics are: loss\n"
          ]
        },
        {
          "output_type": "stream",
          "name": "stdout",
          "text": [
            "\b\b\b\b\b\b\b\b\b\b\b\b\b\b\b\b\b\b\b\b\b\b\b\b\b\b\b\b\b\b\b\b\b\b\b\b\b\b\b\b\b\b\b\b\b\b\b\b\b\b\b\b\b\b\b\b\b\b\b\b\b\b\b\r21/21 [==============================] - 0s 14ms/step - loss: 0.4249\n",
            "Epoch 54/100\n",
            "21/21 [==============================] - ETA: 0s - loss: 0.4271"
          ]
        },
        {
          "output_type": "stream",
          "name": "stderr",
          "text": [
            "WARNING:tensorflow:Early stopping conditioned on metric `val_loss` which is not available. Available metrics are: loss\n"
          ]
        },
        {
          "output_type": "stream",
          "name": "stdout",
          "text": [
            "\b\b\b\b\b\b\b\b\b\b\b\b\b\b\b\b\b\b\b\b\b\b\b\b\b\b\b\b\b\b\b\b\b\b\b\b\b\b\b\b\b\b\b\b\b\b\b\b\b\b\b\b\b\b\b\b\b\b\b\b\b\b\b\r21/21 [==============================] - 0s 14ms/step - loss: 0.4271\n",
            "Epoch 55/100\n",
            "21/21 [==============================] - ETA: 0s - loss: 0.4180"
          ]
        },
        {
          "output_type": "stream",
          "name": "stderr",
          "text": [
            "WARNING:tensorflow:Early stopping conditioned on metric `val_loss` which is not available. Available metrics are: loss\n"
          ]
        },
        {
          "output_type": "stream",
          "name": "stdout",
          "text": [
            "\b\b\b\b\b\b\b\b\b\b\b\b\b\b\b\b\b\b\b\b\b\b\b\b\b\b\b\b\b\b\b\b\b\b\b\b\b\b\b\b\b\b\b\b\b\b\b\b\b\b\b\b\b\b\b\b\b\b\b\b\b\b\b\r21/21 [==============================] - 0s 14ms/step - loss: 0.4180\n",
            "Epoch 56/100\n",
            "20/21 [===========================>..] - ETA: 0s - loss: 0.5462"
          ]
        },
        {
          "output_type": "stream",
          "name": "stderr",
          "text": [
            "WARNING:tensorflow:Early stopping conditioned on metric `val_loss` which is not available. Available metrics are: loss\n"
          ]
        },
        {
          "output_type": "stream",
          "name": "stdout",
          "text": [
            "\b\b\b\b\b\b\b\b\b\b\b\b\b\b\b\b\b\b\b\b\b\b\b\b\b\b\b\b\b\b\b\b\b\b\b\b\b\b\b\b\b\b\b\b\b\b\b\b\b\b\b\b\b\b\b\b\b\b\b\b\b\b\b\r21/21 [==============================] - 0s 15ms/step - loss: 0.5427\n",
            "Epoch 57/100\n",
            "21/21 [==============================] - ETA: 0s - loss: 0.3600"
          ]
        },
        {
          "output_type": "stream",
          "name": "stderr",
          "text": [
            "WARNING:tensorflow:Early stopping conditioned on metric `val_loss` which is not available. Available metrics are: loss\n"
          ]
        },
        {
          "output_type": "stream",
          "name": "stdout",
          "text": [
            "\b\b\b\b\b\b\b\b\b\b\b\b\b\b\b\b\b\b\b\b\b\b\b\b\b\b\b\b\b\b\b\b\b\b\b\b\b\b\b\b\b\b\b\b\b\b\b\b\b\b\b\b\b\b\b\b\b\b\b\b\b\b\b\r21/21 [==============================] - 0s 15ms/step - loss: 0.3600\n",
            "Epoch 58/100\n",
            "21/21 [==============================] - ETA: 0s - loss: 0.3829"
          ]
        },
        {
          "output_type": "stream",
          "name": "stderr",
          "text": [
            "WARNING:tensorflow:Early stopping conditioned on metric `val_loss` which is not available. Available metrics are: loss\n"
          ]
        },
        {
          "output_type": "stream",
          "name": "stdout",
          "text": [
            "\b\b\b\b\b\b\b\b\b\b\b\b\b\b\b\b\b\b\b\b\b\b\b\b\b\b\b\b\b\b\b\b\b\b\b\b\b\b\b\b\b\b\b\b\b\b\b\b\b\b\b\b\b\b\b\b\b\b\b\b\b\b\b\r21/21 [==============================] - 0s 15ms/step - loss: 0.3829\n",
            "Epoch 59/100\n",
            "18/21 [========================>.....] - ETA: 0s - loss: 0.3274"
          ]
        },
        {
          "output_type": "stream",
          "name": "stderr",
          "text": [
            "WARNING:tensorflow:Early stopping conditioned on metric `val_loss` which is not available. Available metrics are: loss\n"
          ]
        },
        {
          "output_type": "stream",
          "name": "stdout",
          "text": [
            "\b\b\b\b\b\b\b\b\b\b\b\b\b\b\b\b\b\b\b\b\b\b\b\b\b\b\b\b\b\b\b\b\b\b\b\b\b\b\b\b\b\b\b\b\b\b\b\b\b\b\b\b\b\b\b\b\b\b\b\b\b\b\b\r21/21 [==============================] - 0s 14ms/step - loss: 0.3187\n",
            "Epoch 60/100\n",
            "21/21 [==============================] - ETA: 0s - loss: 0.3158"
          ]
        },
        {
          "output_type": "stream",
          "name": "stderr",
          "text": [
            "WARNING:tensorflow:Early stopping conditioned on metric `val_loss` which is not available. Available metrics are: loss\n"
          ]
        },
        {
          "output_type": "stream",
          "name": "stdout",
          "text": [
            "\b\b\b\b\b\b\b\b\b\b\b\b\b\b\b\b\b\b\b\b\b\b\b\b\b\b\b\b\b\b\b\b\b\b\b\b\b\b\b\b\b\b\b\b\b\b\b\b\b\b\b\b\b\b\b\b\b\b\b\b\b\b\b\r21/21 [==============================] - 0s 15ms/step - loss: 0.3158\n",
            "Epoch 61/100\n",
            "21/21 [==============================] - ETA: 0s - loss: 0.3984"
          ]
        },
        {
          "output_type": "stream",
          "name": "stderr",
          "text": [
            "WARNING:tensorflow:Early stopping conditioned on metric `val_loss` which is not available. Available metrics are: loss\n"
          ]
        },
        {
          "output_type": "stream",
          "name": "stdout",
          "text": [
            "\b\b\b\b\b\b\b\b\b\b\b\b\b\b\b\b\b\b\b\b\b\b\b\b\b\b\b\b\b\b\b\b\b\b\b\b\b\b\b\b\b\b\b\b\b\b\b\b\b\b\b\b\b\b\b\b\b\b\b\b\b\b\b\r21/21 [==============================] - 0s 15ms/step - loss: 0.3984\n",
            "Epoch 62/100\n",
            "21/21 [==============================] - ETA: 0s - loss: 0.3399"
          ]
        },
        {
          "output_type": "stream",
          "name": "stderr",
          "text": [
            "WARNING:tensorflow:Early stopping conditioned on metric `val_loss` which is not available. Available metrics are: loss\n"
          ]
        },
        {
          "output_type": "stream",
          "name": "stdout",
          "text": [
            "\b\b\b\b\b\b\b\b\b\b\b\b\b\b\b\b\b\b\b\b\b\b\b\b\b\b\b\b\b\b\b\b\b\b\b\b\b\b\b\b\b\b\b\b\b\b\b\b\b\b\b\b\b\b\b\b\b\b\b\b\b\b\b\r21/21 [==============================] - 0s 15ms/step - loss: 0.3399\n",
            "Epoch 63/100\n",
            "21/21 [==============================] - ETA: 0s - loss: 0.3117"
          ]
        },
        {
          "output_type": "stream",
          "name": "stderr",
          "text": [
            "WARNING:tensorflow:Early stopping conditioned on metric `val_loss` which is not available. Available metrics are: loss\n"
          ]
        },
        {
          "output_type": "stream",
          "name": "stdout",
          "text": [
            "\b\b\b\b\b\b\b\b\b\b\b\b\b\b\b\b\b\b\b\b\b\b\b\b\b\b\b\b\b\b\b\b\b\b\b\b\b\b\b\b\b\b\b\b\b\b\b\b\b\b\b\b\b\b\b\b\b\b\b\b\b\b\b\r21/21 [==============================] - 0s 15ms/step - loss: 0.3117\n",
            "Epoch 64/100\n",
            "21/21 [==============================] - ETA: 0s - loss: 0.3553"
          ]
        },
        {
          "output_type": "stream",
          "name": "stderr",
          "text": [
            "WARNING:tensorflow:Early stopping conditioned on metric `val_loss` which is not available. Available metrics are: loss\n"
          ]
        },
        {
          "output_type": "stream",
          "name": "stdout",
          "text": [
            "\b\b\b\b\b\b\b\b\b\b\b\b\b\b\b\b\b\b\b\b\b\b\b\b\b\b\b\b\b\b\b\b\b\b\b\b\b\b\b\b\b\b\b\b\b\b\b\b\b\b\b\b\b\b\b\b\b\b\b\b\b\b\b\r21/21 [==============================] - 0s 15ms/step - loss: 0.3553\n",
            "Epoch 65/100\n",
            "19/21 [==========================>...] - ETA: 0s - loss: 0.3470"
          ]
        },
        {
          "output_type": "stream",
          "name": "stderr",
          "text": [
            "WARNING:tensorflow:Early stopping conditioned on metric `val_loss` which is not available. Available metrics are: loss\n"
          ]
        },
        {
          "output_type": "stream",
          "name": "stdout",
          "text": [
            "\b\b\b\b\b\b\b\b\b\b\b\b\b\b\b\b\b\b\b\b\b\b\b\b\b\b\b\b\b\b\b\b\b\b\b\b\b\b\b\b\b\b\b\b\b\b\b\b\b\b\b\b\b\b\b\b\b\b\b\b\b\b\b\r21/21 [==============================] - 0s 15ms/step - loss: 0.3452\n",
            "Epoch 66/100\n",
            "20/21 [===========================>..] - ETA: 0s - loss: 0.3401"
          ]
        },
        {
          "output_type": "stream",
          "name": "stderr",
          "text": [
            "WARNING:tensorflow:Early stopping conditioned on metric `val_loss` which is not available. Available metrics are: loss\n"
          ]
        },
        {
          "output_type": "stream",
          "name": "stdout",
          "text": [
            "\b\b\b\b\b\b\b\b\b\b\b\b\b\b\b\b\b\b\b\b\b\b\b\b\b\b\b\b\b\b\b\b\b\b\b\b\b\b\b\b\b\b\b\b\b\b\b\b\b\b\b\b\b\b\b\b\b\b\b\b\b\b\b\r21/21 [==============================] - 0s 16ms/step - loss: 0.3412\n",
            "Epoch 67/100\n",
            "21/21 [==============================] - ETA: 0s - loss: 0.3023"
          ]
        },
        {
          "output_type": "stream",
          "name": "stderr",
          "text": [
            "WARNING:tensorflow:Early stopping conditioned on metric `val_loss` which is not available. Available metrics are: loss\n"
          ]
        },
        {
          "output_type": "stream",
          "name": "stdout",
          "text": [
            "\b\b\b\b\b\b\b\b\b\b\b\b\b\b\b\b\b\b\b\b\b\b\b\b\b\b\b\b\b\b\b\b\b\b\b\b\b\b\b\b\b\b\b\b\b\b\b\b\b\b\b\b\b\b\b\b\b\b\b\b\b\b\b\r21/21 [==============================] - 0s 15ms/step - loss: 0.3023\n",
            "Epoch 68/100\n",
            "21/21 [==============================] - ETA: 0s - loss: 0.2730"
          ]
        },
        {
          "output_type": "stream",
          "name": "stderr",
          "text": [
            "WARNING:tensorflow:Early stopping conditioned on metric `val_loss` which is not available. Available metrics are: loss\n"
          ]
        },
        {
          "output_type": "stream",
          "name": "stdout",
          "text": [
            "\b\b\b\b\b\b\b\b\b\b\b\b\b\b\b\b\b\b\b\b\b\b\b\b\b\b\b\b\b\b\b\b\b\b\b\b\b\b\b\b\b\b\b\b\b\b\b\b\b\b\b\b\b\b\b\b\b\b\b\b\b\b\b\r21/21 [==============================] - 0s 17ms/step - loss: 0.2730\n",
            "Epoch 69/100\n",
            "21/21 [==============================] - ETA: 0s - loss: 0.4167"
          ]
        },
        {
          "output_type": "stream",
          "name": "stderr",
          "text": [
            "WARNING:tensorflow:Early stopping conditioned on metric `val_loss` which is not available. Available metrics are: loss\n"
          ]
        },
        {
          "output_type": "stream",
          "name": "stdout",
          "text": [
            "\b\b\b\b\b\b\b\b\b\b\b\b\b\b\b\b\b\b\b\b\b\b\b\b\b\b\b\b\b\b\b\b\b\b\b\b\b\b\b\b\b\b\b\b\b\b\b\b\b\b\b\b\b\b\b\b\b\b\b\b\b\b\b\r21/21 [==============================] - 0s 15ms/step - loss: 0.4167\n",
            "Epoch 70/100\n",
            "19/21 [==========================>...] - ETA: 0s - loss: 0.3427"
          ]
        },
        {
          "output_type": "stream",
          "name": "stderr",
          "text": [
            "WARNING:tensorflow:Early stopping conditioned on metric `val_loss` which is not available. Available metrics are: loss\n"
          ]
        },
        {
          "output_type": "stream",
          "name": "stdout",
          "text": [
            "\b\b\b\b\b\b\b\b\b\b\b\b\b\b\b\b\b\b\b\b\b\b\b\b\b\b\b\b\b\b\b\b\b\b\b\b\b\b\b\b\b\b\b\b\b\b\b\b\b\b\b\b\b\b\b\b\b\b\b\b\b\b\b\r21/21 [==============================] - 0s 16ms/step - loss: 0.3346\n",
            "Epoch 71/100\n",
            "18/21 [========================>.....] - ETA: 0s - loss: 0.3100"
          ]
        },
        {
          "output_type": "stream",
          "name": "stderr",
          "text": [
            "WARNING:tensorflow:Early stopping conditioned on metric `val_loss` which is not available. Available metrics are: loss\n"
          ]
        },
        {
          "output_type": "stream",
          "name": "stdout",
          "text": [
            "\b\b\b\b\b\b\b\b\b\b\b\b\b\b\b\b\b\b\b\b\b\b\b\b\b\b\b\b\b\b\b\b\b\b\b\b\b\b\b\b\b\b\b\b\b\b\b\b\b\b\b\b\b\b\b\b\b\b\b\b\b\b\b\r21/21 [==============================] - 0s 16ms/step - loss: 0.3029\n",
            "Epoch 72/100\n",
            "20/21 [===========================>..] - ETA: 0s - loss: 0.3168"
          ]
        },
        {
          "output_type": "stream",
          "name": "stderr",
          "text": [
            "WARNING:tensorflow:Early stopping conditioned on metric `val_loss` which is not available. Available metrics are: loss\n"
          ]
        },
        {
          "output_type": "stream",
          "name": "stdout",
          "text": [
            "\b\b\b\b\b\b\b\b\b\b\b\b\b\b\b\b\b\b\b\b\b\b\b\b\b\b\b\b\b\b\b\b\b\b\b\b\b\b\b\b\b\b\b\b\b\b\b\b\b\b\b\b\b\b\b\b\b\b\b\b\b\b\b\r21/21 [==============================] - 0s 15ms/step - loss: 0.3165\n",
            "Epoch 73/100\n",
            "21/21 [==============================] - ETA: 0s - loss: 0.3897"
          ]
        },
        {
          "output_type": "stream",
          "name": "stderr",
          "text": [
            "WARNING:tensorflow:Early stopping conditioned on metric `val_loss` which is not available. Available metrics are: loss\n"
          ]
        },
        {
          "output_type": "stream",
          "name": "stdout",
          "text": [
            "\b\b\b\b\b\b\b\b\b\b\b\b\b\b\b\b\b\b\b\b\b\b\b\b\b\b\b\b\b\b\b\b\b\b\b\b\b\b\b\b\b\b\b\b\b\b\b\b\b\b\b\b\b\b\b\b\b\b\b\b\b\b\b\r21/21 [==============================] - 0s 14ms/step - loss: 0.3897\n",
            "Epoch 74/100\n",
            "21/21 [==============================] - ETA: 0s - loss: 0.2740"
          ]
        },
        {
          "output_type": "stream",
          "name": "stderr",
          "text": [
            "WARNING:tensorflow:Early stopping conditioned on metric `val_loss` which is not available. Available metrics are: loss\n"
          ]
        },
        {
          "output_type": "stream",
          "name": "stdout",
          "text": [
            "\b\b\b\b\b\b\b\b\b\b\b\b\b\b\b\b\b\b\b\b\b\b\b\b\b\b\b\b\b\b\b\b\b\b\b\b\b\b\b\b\b\b\b\b\b\b\b\b\b\b\b\b\b\b\b\b\b\b\b\b\b\b\b\r21/21 [==============================] - 0s 15ms/step - loss: 0.2740\n",
            "Epoch 75/100\n",
            "21/21 [==============================] - ETA: 0s - loss: 0.2778"
          ]
        },
        {
          "output_type": "stream",
          "name": "stderr",
          "text": [
            "WARNING:tensorflow:Early stopping conditioned on metric `val_loss` which is not available. Available metrics are: loss\n"
          ]
        },
        {
          "output_type": "stream",
          "name": "stdout",
          "text": [
            "\b\b\b\b\b\b\b\b\b\b\b\b\b\b\b\b\b\b\b\b\b\b\b\b\b\b\b\b\b\b\b\b\b\b\b\b\b\b\b\b\b\b\b\b\b\b\b\b\b\b\b\b\b\b\b\b\b\b\b\b\b\b\b\r21/21 [==============================] - 0s 15ms/step - loss: 0.2778\n",
            "Epoch 76/100\n",
            "21/21 [==============================] - ETA: 0s - loss: 0.2769"
          ]
        },
        {
          "output_type": "stream",
          "name": "stderr",
          "text": [
            "WARNING:tensorflow:Early stopping conditioned on metric `val_loss` which is not available. Available metrics are: loss\n"
          ]
        },
        {
          "output_type": "stream",
          "name": "stdout",
          "text": [
            "\b\b\b\b\b\b\b\b\b\b\b\b\b\b\b\b\b\b\b\b\b\b\b\b\b\b\b\b\b\b\b\b\b\b\b\b\b\b\b\b\b\b\b\b\b\b\b\b\b\b\b\b\b\b\b\b\b\b\b\b\b\b\b\r21/21 [==============================] - 0s 14ms/step - loss: 0.2769\n",
            "Epoch 77/100\n",
            "21/21 [==============================] - ETA: 0s - loss: 0.3458"
          ]
        },
        {
          "output_type": "stream",
          "name": "stderr",
          "text": [
            "WARNING:tensorflow:Early stopping conditioned on metric `val_loss` which is not available. Available metrics are: loss\n"
          ]
        },
        {
          "output_type": "stream",
          "name": "stdout",
          "text": [
            "\b\b\b\b\b\b\b\b\b\b\b\b\b\b\b\b\b\b\b\b\b\b\b\b\b\b\b\b\b\b\b\b\b\b\b\b\b\b\b\b\b\b\b\b\b\b\b\b\b\b\b\b\b\b\b\b\b\b\b\b\b\b\b\r21/21 [==============================] - 0s 14ms/step - loss: 0.3458\n",
            "Epoch 78/100\n",
            "21/21 [==============================] - ETA: 0s - loss: 0.4758"
          ]
        },
        {
          "output_type": "stream",
          "name": "stderr",
          "text": [
            "WARNING:tensorflow:Early stopping conditioned on metric `val_loss` which is not available. Available metrics are: loss\n"
          ]
        },
        {
          "output_type": "stream",
          "name": "stdout",
          "text": [
            "\b\b\b\b\b\b\b\b\b\b\b\b\b\b\b\b\b\b\b\b\b\b\b\b\b\b\b\b\b\b\b\b\b\b\b\b\b\b\b\b\b\b\b\b\b\b\b\b\b\b\b\b\b\b\b\b\b\b\b\b\b\b\b\r21/21 [==============================] - 0s 15ms/step - loss: 0.4758\n",
            "Epoch 79/100\n",
            "21/21 [==============================] - ETA: 0s - loss: 0.2997"
          ]
        },
        {
          "output_type": "stream",
          "name": "stderr",
          "text": [
            "WARNING:tensorflow:Early stopping conditioned on metric `val_loss` which is not available. Available metrics are: loss\n"
          ]
        },
        {
          "output_type": "stream",
          "name": "stdout",
          "text": [
            "\b\b\b\b\b\b\b\b\b\b\b\b\b\b\b\b\b\b\b\b\b\b\b\b\b\b\b\b\b\b\b\b\b\b\b\b\b\b\b\b\b\b\b\b\b\b\b\b\b\b\b\b\b\b\b\b\b\b\b\b\b\b\b\r21/21 [==============================] - 0s 14ms/step - loss: 0.2997\n",
            "Epoch 80/100\n",
            "21/21 [==============================] - ETA: 0s - loss: 0.3175"
          ]
        },
        {
          "output_type": "stream",
          "name": "stderr",
          "text": [
            "WARNING:tensorflow:Early stopping conditioned on metric `val_loss` which is not available. Available metrics are: loss\n"
          ]
        },
        {
          "output_type": "stream",
          "name": "stdout",
          "text": [
            "\b\b\b\b\b\b\b\b\b\b\b\b\b\b\b\b\b\b\b\b\b\b\b\b\b\b\b\b\b\b\b\b\b\b\b\b\b\b\b\b\b\b\b\b\b\b\b\b\b\b\b\b\b\b\b\b\b\b\b\b\b\b\b\r21/21 [==============================] - 0s 14ms/step - loss: 0.3175\n",
            "Epoch 81/100\n",
            "21/21 [==============================] - ETA: 0s - loss: 0.3934"
          ]
        },
        {
          "output_type": "stream",
          "name": "stderr",
          "text": [
            "WARNING:tensorflow:Early stopping conditioned on metric `val_loss` which is not available. Available metrics are: loss\n"
          ]
        },
        {
          "output_type": "stream",
          "name": "stdout",
          "text": [
            "\b\b\b\b\b\b\b\b\b\b\b\b\b\b\b\b\b\b\b\b\b\b\b\b\b\b\b\b\b\b\b\b\b\b\b\b\b\b\b\b\b\b\b\b\b\b\b\b\b\b\b\b\b\b\b\b\b\b\b\b\b\b\b\r21/21 [==============================] - 0s 14ms/step - loss: 0.3934\n",
            "Epoch 82/100\n",
            "20/21 [===========================>..] - ETA: 0s - loss: 0.3446"
          ]
        },
        {
          "output_type": "stream",
          "name": "stderr",
          "text": [
            "WARNING:tensorflow:Early stopping conditioned on metric `val_loss` which is not available. Available metrics are: loss\n"
          ]
        },
        {
          "output_type": "stream",
          "name": "stdout",
          "text": [
            "\b\b\b\b\b\b\b\b\b\b\b\b\b\b\b\b\b\b\b\b\b\b\b\b\b\b\b\b\b\b\b\b\b\b\b\b\b\b\b\b\b\b\b\b\b\b\b\b\b\b\b\b\b\b\b\b\b\b\b\b\b\b\b\r21/21 [==============================] - 0s 15ms/step - loss: 0.3435\n",
            "Epoch 83/100\n",
            "21/21 [==============================] - ETA: 0s - loss: 0.5581"
          ]
        },
        {
          "output_type": "stream",
          "name": "stderr",
          "text": [
            "WARNING:tensorflow:Early stopping conditioned on metric `val_loss` which is not available. Available metrics are: loss\n"
          ]
        },
        {
          "output_type": "stream",
          "name": "stdout",
          "text": [
            "\b\b\b\b\b\b\b\b\b\b\b\b\b\b\b\b\b\b\b\b\b\b\b\b\b\b\b\b\b\b\b\b\b\b\b\b\b\b\b\b\b\b\b\b\b\b\b\b\b\b\b\b\b\b\b\b\b\b\b\b\b\b\b\r21/21 [==============================] - 0s 14ms/step - loss: 0.5581\n",
            "Epoch 84/100\n",
            "21/21 [==============================] - ETA: 0s - loss: 0.2676"
          ]
        },
        {
          "output_type": "stream",
          "name": "stderr",
          "text": [
            "WARNING:tensorflow:Early stopping conditioned on metric `val_loss` which is not available. Available metrics are: loss\n"
          ]
        },
        {
          "output_type": "stream",
          "name": "stdout",
          "text": [
            "\b\b\b\b\b\b\b\b\b\b\b\b\b\b\b\b\b\b\b\b\b\b\b\b\b\b\b\b\b\b\b\b\b\b\b\b\b\b\b\b\b\b\b\b\b\b\b\b\b\b\b\b\b\b\b\b\b\b\b\b\b\b\b\r21/21 [==============================] - 0s 14ms/step - loss: 0.2676\n",
            "Epoch 85/100\n",
            "21/21 [==============================] - ETA: 0s - loss: 0.2427"
          ]
        },
        {
          "output_type": "stream",
          "name": "stderr",
          "text": [
            "WARNING:tensorflow:Early stopping conditioned on metric `val_loss` which is not available. Available metrics are: loss\n"
          ]
        },
        {
          "output_type": "stream",
          "name": "stdout",
          "text": [
            "\b\b\b\b\b\b\b\b\b\b\b\b\b\b\b\b\b\b\b\b\b\b\b\b\b\b\b\b\b\b\b\b\b\b\b\b\b\b\b\b\b\b\b\b\b\b\b\b\b\b\b\b\b\b\b\b\b\b\b\b\b\b\b\r21/21 [==============================] - 0s 14ms/step - loss: 0.2427\n",
            "Epoch 86/100\n",
            "20/21 [===========================>..] - ETA: 0s - loss: 0.2656"
          ]
        },
        {
          "output_type": "stream",
          "name": "stderr",
          "text": [
            "WARNING:tensorflow:Early stopping conditioned on metric `val_loss` which is not available. Available metrics are: loss\n"
          ]
        },
        {
          "output_type": "stream",
          "name": "stdout",
          "text": [
            "\b\b\b\b\b\b\b\b\b\b\b\b\b\b\b\b\b\b\b\b\b\b\b\b\b\b\b\b\b\b\b\b\b\b\b\b\b\b\b\b\b\b\b\b\b\b\b\b\b\b\b\b\b\b\b\b\b\b\b\b\b\b\b\r21/21 [==============================] - 0s 15ms/step - loss: 0.2649\n",
            "Epoch 87/100\n",
            "21/21 [==============================] - ETA: 0s - loss: 0.2647"
          ]
        },
        {
          "output_type": "stream",
          "name": "stderr",
          "text": [
            "WARNING:tensorflow:Early stopping conditioned on metric `val_loss` which is not available. Available metrics are: loss\n"
          ]
        },
        {
          "output_type": "stream",
          "name": "stdout",
          "text": [
            "\b\b\b\b\b\b\b\b\b\b\b\b\b\b\b\b\b\b\b\b\b\b\b\b\b\b\b\b\b\b\b\b\b\b\b\b\b\b\b\b\b\b\b\b\b\b\b\b\b\b\b\b\b\b\b\b\b\b\b\b\b\b\b\r21/21 [==============================] - 0s 14ms/step - loss: 0.2647\n",
            "Epoch 88/100\n",
            "21/21 [==============================] - ETA: 0s - loss: 0.3090"
          ]
        },
        {
          "output_type": "stream",
          "name": "stderr",
          "text": [
            "WARNING:tensorflow:Early stopping conditioned on metric `val_loss` which is not available. Available metrics are: loss\n"
          ]
        },
        {
          "output_type": "stream",
          "name": "stdout",
          "text": [
            "\b\b\b\b\b\b\b\b\b\b\b\b\b\b\b\b\b\b\b\b\b\b\b\b\b\b\b\b\b\b\b\b\b\b\b\b\b\b\b\b\b\b\b\b\b\b\b\b\b\b\b\b\b\b\b\b\b\b\b\b\b\b\b\r21/21 [==============================] - 0s 15ms/step - loss: 0.3090\n",
            "Epoch 89/100\n",
            "21/21 [==============================] - ETA: 0s - loss: 0.3525"
          ]
        },
        {
          "output_type": "stream",
          "name": "stderr",
          "text": [
            "WARNING:tensorflow:Early stopping conditioned on metric `val_loss` which is not available. Available metrics are: loss\n"
          ]
        },
        {
          "output_type": "stream",
          "name": "stdout",
          "text": [
            "\b\b\b\b\b\b\b\b\b\b\b\b\b\b\b\b\b\b\b\b\b\b\b\b\b\b\b\b\b\b\b\b\b\b\b\b\b\b\b\b\b\b\b\b\b\b\b\b\b\b\b\b\b\b\b\b\b\b\b\b\b\b\b\r21/21 [==============================] - 0s 14ms/step - loss: 0.3525\n",
            "Epoch 90/100\n",
            "21/21 [==============================] - ETA: 0s - loss: 0.3319"
          ]
        },
        {
          "output_type": "stream",
          "name": "stderr",
          "text": [
            "WARNING:tensorflow:Early stopping conditioned on metric `val_loss` which is not available. Available metrics are: loss\n"
          ]
        },
        {
          "output_type": "stream",
          "name": "stdout",
          "text": [
            "\b\b\b\b\b\b\b\b\b\b\b\b\b\b\b\b\b\b\b\b\b\b\b\b\b\b\b\b\b\b\b\b\b\b\b\b\b\b\b\b\b\b\b\b\b\b\b\b\b\b\b\b\b\b\b\b\b\b\b\b\b\b\b\r21/21 [==============================] - 0s 14ms/step - loss: 0.3319\n",
            "Epoch 91/100\n",
            "21/21 [==============================] - ETA: 0s - loss: 0.2396"
          ]
        },
        {
          "output_type": "stream",
          "name": "stderr",
          "text": [
            "WARNING:tensorflow:Early stopping conditioned on metric `val_loss` which is not available. Available metrics are: loss\n"
          ]
        },
        {
          "output_type": "stream",
          "name": "stdout",
          "text": [
            "\b\b\b\b\b\b\b\b\b\b\b\b\b\b\b\b\b\b\b\b\b\b\b\b\b\b\b\b\b\b\b\b\b\b\b\b\b\b\b\b\b\b\b\b\b\b\b\b\b\b\b\b\b\b\b\b\b\b\b\b\b\b\b\r21/21 [==============================] - 0s 14ms/step - loss: 0.2396\n",
            "Epoch 92/100\n",
            "21/21 [==============================] - ETA: 0s - loss: 0.2011"
          ]
        },
        {
          "output_type": "stream",
          "name": "stderr",
          "text": [
            "WARNING:tensorflow:Early stopping conditioned on metric `val_loss` which is not available. Available metrics are: loss\n"
          ]
        },
        {
          "output_type": "stream",
          "name": "stdout",
          "text": [
            "\b\b\b\b\b\b\b\b\b\b\b\b\b\b\b\b\b\b\b\b\b\b\b\b\b\b\b\b\b\b\b\b\b\b\b\b\b\b\b\b\b\b\b\b\b\b\b\b\b\b\b\b\b\b\b\b\b\b\b\b\b\b\b\r21/21 [==============================] - 0s 15ms/step - loss: 0.2011\n",
            "Epoch 93/100\n",
            "21/21 [==============================] - ETA: 0s - loss: 0.2249"
          ]
        },
        {
          "output_type": "stream",
          "name": "stderr",
          "text": [
            "WARNING:tensorflow:Early stopping conditioned on metric `val_loss` which is not available. Available metrics are: loss\n"
          ]
        },
        {
          "output_type": "stream",
          "name": "stdout",
          "text": [
            "\b\b\b\b\b\b\b\b\b\b\b\b\b\b\b\b\b\b\b\b\b\b\b\b\b\b\b\b\b\b\b\b\b\b\b\b\b\b\b\b\b\b\b\b\b\b\b\b\b\b\b\b\b\b\b\b\b\b\b\b\b\b\b\r21/21 [==============================] - 0s 14ms/step - loss: 0.2249\n",
            "Epoch 94/100\n",
            "21/21 [==============================] - ETA: 0s - loss: 0.1989"
          ]
        },
        {
          "output_type": "stream",
          "name": "stderr",
          "text": [
            "WARNING:tensorflow:Early stopping conditioned on metric `val_loss` which is not available. Available metrics are: loss\n"
          ]
        },
        {
          "output_type": "stream",
          "name": "stdout",
          "text": [
            "\b\b\b\b\b\b\b\b\b\b\b\b\b\b\b\b\b\b\b\b\b\b\b\b\b\b\b\b\b\b\b\b\b\b\b\b\b\b\b\b\b\b\b\b\b\b\b\b\b\b\b\b\b\b\b\b\b\b\b\b\b\b\b\r21/21 [==============================] - 0s 14ms/step - loss: 0.1989\n",
            "Epoch 95/100\n",
            "18/21 [========================>.....] - ETA: 0s - loss: 0.1985"
          ]
        },
        {
          "output_type": "stream",
          "name": "stderr",
          "text": [
            "WARNING:tensorflow:Early stopping conditioned on metric `val_loss` which is not available. Available metrics are: loss\n"
          ]
        },
        {
          "output_type": "stream",
          "name": "stdout",
          "text": [
            "\b\b\b\b\b\b\b\b\b\b\b\b\b\b\b\b\b\b\b\b\b\b\b\b\b\b\b\b\b\b\b\b\b\b\b\b\b\b\b\b\b\b\b\b\b\b\b\b\b\b\b\b\b\b\b\b\b\b\b\b\b\b\b\r21/21 [==============================] - 0s 14ms/step - loss: 0.2045\n",
            "Epoch 96/100\n",
            "21/21 [==============================] - ETA: 0s - loss: 0.2037"
          ]
        },
        {
          "output_type": "stream",
          "name": "stderr",
          "text": [
            "WARNING:tensorflow:Early stopping conditioned on metric `val_loss` which is not available. Available metrics are: loss\n"
          ]
        },
        {
          "output_type": "stream",
          "name": "stdout",
          "text": [
            "\b\b\b\b\b\b\b\b\b\b\b\b\b\b\b\b\b\b\b\b\b\b\b\b\b\b\b\b\b\b\b\b\b\b\b\b\b\b\b\b\b\b\b\b\b\b\b\b\b\b\b\b\b\b\b\b\b\b\b\b\b\b\b\r21/21 [==============================] - 0s 13ms/step - loss: 0.2037\n",
            "Epoch 97/100\n",
            "18/21 [========================>.....] - ETA: 0s - loss: 0.2242"
          ]
        },
        {
          "output_type": "stream",
          "name": "stderr",
          "text": [
            "WARNING:tensorflow:Early stopping conditioned on metric `val_loss` which is not available. Available metrics are: loss\n"
          ]
        },
        {
          "output_type": "stream",
          "name": "stdout",
          "text": [
            "\b\b\b\b\b\b\b\b\b\b\b\b\b\b\b\b\b\b\b\b\b\b\b\b\b\b\b\b\b\b\b\b\b\b\b\b\b\b\b\b\b\b\b\b\b\b\b\b\b\b\b\b\b\b\b\b\b\b\b\b\b\b\b\r21/21 [==============================] - 0s 14ms/step - loss: 0.2179\n",
            "Epoch 98/100\n",
            "21/21 [==============================] - ETA: 0s - loss: 0.1751"
          ]
        },
        {
          "output_type": "stream",
          "name": "stderr",
          "text": [
            "WARNING:tensorflow:Early stopping conditioned on metric `val_loss` which is not available. Available metrics are: loss\n"
          ]
        },
        {
          "output_type": "stream",
          "name": "stdout",
          "text": [
            "\b\b\b\b\b\b\b\b\b\b\b\b\b\b\b\b\b\b\b\b\b\b\b\b\b\b\b\b\b\b\b\b\b\b\b\b\b\b\b\b\b\b\b\b\b\b\b\b\b\b\b\b\b\b\b\b\b\b\b\b\b\b\b\r21/21 [==============================] - 0s 14ms/step - loss: 0.1751\n",
            "Epoch 99/100\n",
            "21/21 [==============================] - ETA: 0s - loss: 0.2073"
          ]
        },
        {
          "output_type": "stream",
          "name": "stderr",
          "text": [
            "WARNING:tensorflow:Early stopping conditioned on metric `val_loss` which is not available. Available metrics are: loss\n"
          ]
        },
        {
          "output_type": "stream",
          "name": "stdout",
          "text": [
            "\b\b\b\b\b\b\b\b\b\b\b\b\b\b\b\b\b\b\b\b\b\b\b\b\b\b\b\b\b\b\b\b\b\b\b\b\b\b\b\b\b\b\b\b\b\b\b\b\b\b\b\b\b\b\b\b\b\b\b\b\b\b\b\r21/21 [==============================] - 0s 14ms/step - loss: 0.2073\n",
            "Epoch 100/100\n",
            "21/21 [==============================] - ETA: 0s - loss: 0.2966"
          ]
        },
        {
          "output_type": "stream",
          "name": "stderr",
          "text": [
            "WARNING:tensorflow:Early stopping conditioned on metric `val_loss` which is not available. Available metrics are: loss\n"
          ]
        },
        {
          "output_type": "stream",
          "name": "stdout",
          "text": [
            "21/21 [==============================] - 0s 15ms/step - loss: 0.2966\n",
            "1/1 [==============================] - 0s 224ms/step\n",
            "               MODEL       MAE       MSE      RMSE       MAPE      MDAPE  \\\n",
            "0  Linear Regression  0.738118  0.603878  0.777096   5.508551   4.984586   \n",
            "1      Decision Tree  0.953333  1.176250  1.084551   7.141432   6.603577   \n",
            "2      Random Forest  0.977250  1.168067  1.080771   8.024374   7.487377   \n",
            "3  Gradient Boosting  0.476206  0.287705  0.536381   6.154869   5.258491   \n",
            "4            XGBoost  2.010722  4.136822  2.033918  15.230754  15.305201   \n",
            "5                RNN  0.230552  0.064449  0.253868   1.713285   1.764463   \n",
            "6                RNN  0.436532  0.274851  0.524263   3.311078   2.654768   \n",
            "7                RNN  0.637668  0.500448  0.707424   4.655668   4.767175   \n",
            "\n",
            "         R2 Training_Length Testing_Length  Training_Time  \n",
            "0 -0.114492             648             24       0.004886  \n",
            "1 -1.170838             648             24       0.007650  \n",
            "2 -1.155735             648             24       0.033237  \n",
            "3  0.469025             648             24       0.137758  \n",
            "4 -6.634746             648             24       5.274654  \n",
            "5  0.881056             648             24      33.437200  \n",
            "6  0.492746             648             24      33.181767  \n",
            "7  0.076394             648             24      32.740815  \n"
          ]
        }
      ]
    },
    {
      "cell_type": "code",
      "source": [
        "print(\"Best Hyperparameters found:\")\n",
        "print(f\"Units for first SimpleRNN layer: {best_hps.get('units')}\")\n"
      ],
      "metadata": {
        "id": "pGKR8uFR5EAl",
        "outputId": "37a7efa0-2780-4b9f-e240-511f3de64acc",
        "colab": {
          "base_uri": "https://localhost:8080/"
        }
      },
      "execution_count": 28,
      "outputs": [
        {
          "output_type": "stream",
          "name": "stdout",
          "text": [
            "Best Hyperparameters found:\n",
            "Units for first SimpleRNN layer: 100\n"
          ]
        }
      ]
    },
    {
      "cell_type": "code",
      "source": [
        "import tensorflow as tf\n",
        "from tensorflow.keras.models import Sequential\n",
        "from tensorflow.keras.layers import SimpleRNN, Dense, Dropout\n",
        "from keras_tuner import BayesianOptimization\n",
        "from sklearn.metrics import mean_absolute_error, mean_squared_error, r2_score\n",
        "from tensorflow.keras.callbacks import EarlyStopping\n",
        "\n",
        "# Early stopping callback\n",
        "early_stopping = EarlyStopping(monitor='loss', patience=5, restore_best_weights=True)\n",
        "\n",
        "def build_model(hp):\n",
        "    model = Sequential()\n",
        "    num_rnn_layers = hp.Int('num_rnn_layers', 1, 3)\n",
        "\n",
        "    for i in range(num_rnn_layers):\n",
        "        if i == 0:\n",
        "            # First RNN layer with input_shape\n",
        "            model.add(SimpleRNN(\n",
        "                units=hp.Int(f'units_{i}', min_value=30, max_value=100, step=10),\n",
        "                activation='relu',\n",
        "                return_sequences=(i < num_rnn_layers - 1),\n",
        "                input_shape=(X_train.shape[1], 1)\n",
        "            ))\n",
        "        else:\n",
        "            # Subsequent RNN layers without specifying input_shape\n",
        "            model.add(SimpleRNN(\n",
        "                units=hp.Int(f'units_{i}', min_value=30, max_value=100, step=10),\n",
        "                activation='relu',\n",
        "                return_sequences=(i < num_rnn_layers - 1)\n",
        "            ))\n",
        "\n",
        "        # Add Dropout layers\n",
        "        model.add(Dropout(rate=hp.Float(f'dropout_rate_{i}', 0.2, 0.5, step=0.1)))\n",
        "\n",
        "    model.add(Dense(1))\n",
        "\n",
        "    lr = hp.Float('learning_rate', min_value=1e-4, max_value=1e-2, sampling='log')\n",
        "    model.compile(optimizer=tf.keras.optimizers.Adam(learning_rate=lr), loss='mean_squared_error')\n",
        "    return model\n",
        "\n",
        "\n",
        "# Convert the DataFrame to NumPy array and reshape\n",
        "X_train_array = X_train.to_numpy().reshape((X_train.shape[0], X_train.shape[1], 1))\n",
        "X_test_array = X_test.to_numpy().reshape((X_test.shape[0], X_test.shape[1], 1))\n",
        "y_train_array = y_train.to_numpy()\n",
        "y_test_array = y_test.to_numpy()\n",
        "\n",
        "# Initialize the BayesianOptimization tuner\n",
        "tuner = BayesianOptimization(\n",
        "    build_model,\n",
        "    objective='val_loss',\n",
        "    max_trials=100,\n",
        "    executions_per_trial=2,\n",
        "    directory='my_di23',\n",
        "    project_name='hyperparam_tuning23'\n",
        ")\n",
        "\n",
        "tuner.search(X_train_array, y_train_array, epochs=100, validation_split=0.2, verbose=1, callbacks=[early_stopping])\n",
        "\n",
        "\n",
        "# Get the optimal hyperparameters\n",
        "best_hps = tuner.get_best_hyperparameters(num_trials=1)[0]\n",
        "\n",
        "# Build the model with the best hyperparameters and train it\n",
        "model = tuner.hypermodel.build(best_hps)\n",
        "start_time_rnn = time.time()\n",
        "model.fit(X_train_array, y_train_array, epochs=100, batch_size=32, verbose=1, callbacks=[early_stopping])\n",
        "end_time_rnn = time.time()\n",
        "training_time_rnn = end_time_rnn - start_time_rnn\n",
        "\n",
        "# Predict\n",
        "y_pred_rnn = model.predict(X_test_array)\n",
        "\n",
        "# Calculate the metrics for RNN\n",
        "mae_rnn = mean_absolute_error(y_test_array, y_pred_rnn)\n",
        "mse_rnn = mean_squared_error(y_test_array, y_pred_rnn)\n",
        "rmse_rnn = np.sqrt(mse_rnn)\n",
        "mape_rnn = np.mean(np.abs((y_test_array - y_pred_rnn) / y_test_array)) * 100\n",
        "mdape_rnn = np.median(np.abs((y_test_array - y_pred_rnn) / y_test_array)) * 100\n",
        "r2_rnn = r2_score(y_test_array, y_pred_rnn)\n",
        "\n",
        "# Append metrics to the DataFrame\n",
        "metrics_df = metrics_df._append({\n",
        "    'MODEL': 'RNN',\n",
        "    'MAE': mae_rnn,\n",
        "    'MSE': mse_rnn,\n",
        "    'RMSE': rmse_rnn,\n",
        "    'MAPE': mape_rnn,\n",
        "    'MDAPE': mdape_rnn,\n",
        "    'R2': r2_rnn,\n",
        "    'Training_Length': len(y_train_array),\n",
        "    'Testing_Length': len(y_test_array),\n",
        "    'Training_Time': training_time_rnn\n",
        "}, ignore_index=True)\n",
        "\n",
        "print(metrics_df)\n"
      ],
      "metadata": {
        "id": "tcNPHxb55D9e",
        "outputId": "7119dd25-7131-4aaa-9a34-ef1694cb1af4",
        "colab": {
          "base_uri": "https://localhost:8080/"
        }
      },
      "execution_count": 36,
      "outputs": [
        {
          "output_type": "stream",
          "name": "stdout",
          "text": [
            "Trial 100 Complete [00h 00m 46s]\n",
            "val_loss: 0.5167260617017746\n",
            "\n",
            "Best val_loss So Far: 0.2498452365398407\n",
            "Total elapsed time: 00h 58m 59s\n",
            "Epoch 1/100\n",
            "21/21 [==============================] - 3s 25ms/step - loss: 63.6103\n",
            "Epoch 2/100\n",
            "21/21 [==============================] - 0s 22ms/step - loss: 15.6689\n",
            "Epoch 3/100\n",
            "21/21 [==============================] - 0s 23ms/step - loss: 10.2999\n",
            "Epoch 4/100\n",
            "21/21 [==============================] - 0s 23ms/step - loss: 9.7673\n",
            "Epoch 5/100\n",
            "21/21 [==============================] - 0s 23ms/step - loss: 7.5785\n",
            "Epoch 6/100\n",
            "21/21 [==============================] - 0s 23ms/step - loss: 7.1592\n",
            "Epoch 7/100\n",
            "21/21 [==============================] - 0s 22ms/step - loss: 7.0499\n",
            "Epoch 8/100\n",
            "21/21 [==============================] - 0s 22ms/step - loss: 6.8766\n",
            "Epoch 9/100\n",
            "21/21 [==============================] - 0s 23ms/step - loss: 5.0031\n",
            "Epoch 10/100\n",
            "21/21 [==============================] - 0s 24ms/step - loss: 5.4256\n",
            "Epoch 11/100\n",
            "21/21 [==============================] - 0s 22ms/step - loss: 5.4451\n",
            "Epoch 12/100\n",
            "21/21 [==============================] - 1s 24ms/step - loss: 7.0739\n",
            "Epoch 13/100\n",
            "21/21 [==============================] - 0s 22ms/step - loss: 6.1069\n",
            "Epoch 14/100\n",
            "21/21 [==============================] - 0s 22ms/step - loss: 5.4115\n",
            "1/1 [==============================] - 0s 311ms/step\n",
            "                MODEL       MAE       MSE      RMSE       MAPE      MDAPE  \\\n",
            "0   Linear Regression  0.738118  0.603878  0.777096   5.508551   4.984586   \n",
            "1       Decision Tree  0.953333  1.176250  1.084551   7.141432   6.603577   \n",
            "2       Random Forest  0.977250  1.168067  1.080771   8.024374   7.487377   \n",
            "3   Gradient Boosting  0.476206  0.287705  0.536381   6.154869   5.258491   \n",
            "4             XGBoost  2.010722  4.136822  2.033918  15.230754  15.305201   \n",
            "5                 RNN  0.230552  0.064449  0.253868   1.713285   1.764463   \n",
            "6                 RNN  0.436532  0.274851  0.524263   3.311078   2.654768   \n",
            "7                 RNN  0.637668  0.500448  0.707424   4.655668   4.767175   \n",
            "8                 RNN  0.221040  0.074830  0.273551   1.647594   1.309810   \n",
            "9                 RNN  0.468385  0.295207  0.543329   3.373779   3.276482   \n",
            "10                RNN  1.840534  3.522025  1.876706  13.500885  14.311659   \n",
            "\n",
            "          R2 Training_Length Testing_Length  Training_Time  \n",
            "0  -0.114492             648             24       0.004886  \n",
            "1  -1.170838             648             24       0.007650  \n",
            "2  -1.155735             648             24       0.033237  \n",
            "3   0.469025             648             24       0.137758  \n",
            "4  -6.634746             648             24       5.274654  \n",
            "5   0.881056             648             24      33.437200  \n",
            "6   0.492746             648             24      33.181767  \n",
            "7   0.076394             648             24      32.740815  \n",
            "8   0.861896             648             24      33.973024  \n",
            "9   0.455179             648             24      17.021162  \n",
            "10 -5.500101             648             24       9.733644  \n"
          ]
        }
      ]
    },
    {
      "cell_type": "code",
      "source": [],
      "metadata": {
        "id": "F1fvpETy5D6V"
      },
      "execution_count": null,
      "outputs": []
    },
    {
      "cell_type": "code",
      "source": [],
      "metadata": {
        "id": "MJUG9fu35D3N"
      },
      "execution_count": null,
      "outputs": []
    },
    {
      "cell_type": "code",
      "source": [],
      "metadata": {
        "id": "dy-MIJGI5D0F"
      },
      "execution_count": null,
      "outputs": []
    },
    {
      "cell_type": "code",
      "source": [],
      "metadata": {
        "id": "7THGUg-s5DxA"
      },
      "execution_count": null,
      "outputs": []
    },
    {
      "cell_type": "code",
      "source": [],
      "metadata": {
        "id": "b0TI7V3U5DuI"
      },
      "execution_count": null,
      "outputs": []
    },
    {
      "cell_type": "code",
      "source": [],
      "metadata": {
        "id": "oIYqkUCf5Drf"
      },
      "execution_count": null,
      "outputs": []
    },
    {
      "cell_type": "code",
      "source": [],
      "metadata": {
        "id": "SvrZlQgy5Doa"
      },
      "execution_count": null,
      "outputs": []
    },
    {
      "cell_type": "code",
      "source": [],
      "metadata": {
        "id": "tuT-6ADK5Dlx"
      },
      "execution_count": null,
      "outputs": []
    },
    {
      "cell_type": "code",
      "source": [],
      "metadata": {
        "id": "lngqReEX5Diq"
      },
      "execution_count": null,
      "outputs": []
    },
    {
      "cell_type": "code",
      "source": [],
      "metadata": {
        "id": "KZRZYUKf5DdO"
      },
      "execution_count": null,
      "outputs": []
    },
    {
      "cell_type": "code",
      "source": [],
      "metadata": {
        "id": "BJUTzkdr5Da2"
      },
      "execution_count": null,
      "outputs": []
    },
    {
      "cell_type": "code",
      "source": [],
      "metadata": {
        "id": "ZiSDrHFa5DYQ"
      },
      "execution_count": null,
      "outputs": []
    },
    {
      "cell_type": "code",
      "source": [],
      "metadata": {
        "id": "a1ny6_Po5DV4"
      },
      "execution_count": null,
      "outputs": []
    },
    {
      "cell_type": "code",
      "source": [],
      "metadata": {
        "id": "dF0QtOCM5DTk"
      },
      "execution_count": null,
      "outputs": []
    },
    {
      "cell_type": "code",
      "source": [],
      "metadata": {
        "id": "R3e2Qi4q5DQ_"
      },
      "execution_count": null,
      "outputs": []
    },
    {
      "cell_type": "code",
      "source": [],
      "metadata": {
        "id": "HpgSLf6p5DO6"
      },
      "execution_count": null,
      "outputs": []
    },
    {
      "cell_type": "code",
      "source": [],
      "metadata": {
        "id": "X_TtM7Aa5DMi"
      },
      "execution_count": null,
      "outputs": []
    },
    {
      "cell_type": "code",
      "source": [],
      "metadata": {
        "id": "q1Uhi7KM5DKN"
      },
      "execution_count": null,
      "outputs": []
    },
    {
      "cell_type": "code",
      "source": [],
      "metadata": {
        "id": "SQ1hjgQq5DIF"
      },
      "execution_count": null,
      "outputs": []
    },
    {
      "cell_type": "code",
      "source": [],
      "metadata": {
        "id": "73ceezc05DFg"
      },
      "execution_count": null,
      "outputs": []
    },
    {
      "cell_type": "code",
      "source": [],
      "metadata": {
        "id": "sP0iA85I5DDZ"
      },
      "execution_count": null,
      "outputs": []
    },
    {
      "cell_type": "code",
      "source": [],
      "metadata": {
        "id": "-U3fVWnK5DBE"
      },
      "execution_count": null,
      "outputs": []
    },
    {
      "cell_type": "code",
      "source": [],
      "metadata": {
        "id": "9xgQ8KmG5C-9"
      },
      "execution_count": null,
      "outputs": []
    },
    {
      "cell_type": "code",
      "source": [],
      "metadata": {
        "id": "KjIf5Me15C9E"
      },
      "execution_count": null,
      "outputs": []
    },
    {
      "cell_type": "code",
      "source": [],
      "metadata": {
        "id": "tJz54MRj5C6k"
      },
      "execution_count": null,
      "outputs": []
    },
    {
      "cell_type": "code",
      "source": [],
      "metadata": {
        "id": "jcdgyxgV5C4N"
      },
      "execution_count": null,
      "outputs": []
    },
    {
      "cell_type": "code",
      "source": [],
      "metadata": {
        "id": "0A_N20Ey5C13"
      },
      "execution_count": null,
      "outputs": []
    },
    {
      "cell_type": "code",
      "source": [
        "from google.colab import drive\n",
        "import pandas as pd\n",
        "import numpy as np\n",
        "from sklearn.linear_model import LinearRegression\n",
        "from sklearn.tree import DecisionTreeRegressor\n",
        "from sklearn.ensemble import RandomForestRegressor, GradientBoostingRegressor\n",
        "from xgboost import XGBRegressor\n",
        "from sklearn.svm import SVR\n",
        "from sklearn.linear_model import Ridge, Lasso\n",
        "import matplotlib.pyplot as plt\n",
        "import seaborn as sns\n",
        "from sklearn.metrics import mean_absolute_error, mean_squared_error, r2_score\n",
        "from sklearn.preprocessing import MinMaxScaler\n",
        "from keras.models import Sequential\n",
        "from keras.layers import SimpleRNN, Dense\n",
        "\n",
        "\n",
        "# Function to create RNN sequences:\n",
        "def create_sequences(X, y, n_steps):\n",
        "    Xs, ys = [], []\n",
        "    for i in range(len(X) - n_steps):\n",
        "        Xs.append(X[i:(i + n_steps)])\n",
        "        ys.append(y[i + n_steps])\n",
        "    return np.array(Xs), np.array(ys).reshape(-1, 1)\n",
        "\n",
        "# Create sequences for RNN\n",
        "n_steps = 5  # Adjust this based on your dataset\n",
        "X_train_seq, y_train_seq = create_sequences(X_train, y_train, n_steps)\n",
        "X_valid_seq, y_valid_seq = create_sequences(X_test, y_test, n_steps)\n",
        "\n",
        "model_rnn = Sequential()\n",
        "model_rnn.add(SimpleRNN(50, activation='relu', return_sequences=True, input_shape=(n_steps, X_train_seq.shape[2])))\n",
        "model_rnn.add(SimpleRNN(50, activation='relu'))\n",
        "model_rnn.add(Dense(1))\n",
        "model_rnn.compile(optimizer='adam', loss='mean_squared_error')\n",
        "\n",
        "\n",
        "# Train RNN\n",
        "start_time_rnn = time.time()\n",
        "#model_rnn.fit(X_train_seq, y_train_seq, epochs=10, batch_size=32, verbose=1)\n",
        "history = model_rnn.fit(\n",
        "    X_train_seq, y_train_seq,\n",
        "    epochs = 500,  # More epochs\n",
        "    batch_size=32,\n",
        "    validation_split=0.1,\n",
        "    verbose=1,\n",
        "    shuffle=False\n",
        ")\n",
        "\n",
        "end_time_rnn = time.time()\n",
        "training_time_rnn = end_time_rnn - start_time_rnn\n",
        "\n",
        "# Evaluate RNN\n",
        "y_pred_rnn = model_rnn.predict(X_valid_seq)\n",
        "y_pred_rnn = y_pred_rnn.flatten()\n",
        "\n",
        "y_test_aligned = y_test[-len(y_pred_rnn):]\n",
        "\n",
        "mae_rnn = mean_absolute_error(y_test_aligned, y_pred_rnn)\n",
        "mse_rnn = mean_squared_error(y_test_aligned, y_pred_rnn)\n",
        "rmse_rnn = np.sqrt(mse_rnn)\n",
        "mape_rnn = np.mean(np.abs((y_test_aligned - y_pred_rnn) / y_test_aligned)) * 100\n",
        "mdape_rnn = np.median(np.abs((y_test_aligned - y_pred_rnn) / y_test_aligned)) * 100\n",
        "r2_rnn = r2_score(y_test_aligned, y_pred_rnn)\n",
        "\n",
        "metrics_df = metrics_df.append({\n",
        "    'MODEL': 'RNN',\n",
        "    'MAE': mae_rnn,\n",
        "    'MSE': mse_rnn,\n",
        "    'RMSE': rmse_rnn,\n",
        "    'MAPE': mape_rnn,\n",
        "    'MDAPE': mdape_rnn,\n",
        "    'R2': r2_rnn,\n",
        "    'Training_Length': len(y_train),\n",
        "    'Testing_Length': len(y_test_aligned),\n",
        "    'Training_Time': training_time_rnn\n",
        "}, ignore_index=True)\n"
      ],
      "metadata": {
        "id": "fYSbZqR0lV3I",
        "colab": {
          "base_uri": "https://localhost:8080/",
          "height": 478
        },
        "outputId": "ea5856a9-b3fd-48a7-f22b-74a80be60ae5"
      },
      "execution_count": 9,
      "outputs": [
        {
          "output_type": "error",
          "ename": "KeyError",
          "evalue": "5",
          "traceback": [
            "\u001b[0;31m---------------------------------------------------------------------------\u001b[0m",
            "\u001b[0;31mKeyError\u001b[0m                                  Traceback (most recent call last)",
            "\u001b[0;32m/usr/local/lib/python3.10/dist-packages/pandas/core/indexes/base.py\u001b[0m in \u001b[0;36mget_loc\u001b[0;34m(self, key)\u001b[0m\n\u001b[1;32m   3652\u001b[0m         \u001b[0;32mtry\u001b[0m\u001b[0;34m:\u001b[0m\u001b[0;34m\u001b[0m\u001b[0;34m\u001b[0m\u001b[0m\n\u001b[0;32m-> 3653\u001b[0;31m             \u001b[0;32mreturn\u001b[0m \u001b[0mself\u001b[0m\u001b[0;34m.\u001b[0m\u001b[0m_engine\u001b[0m\u001b[0;34m.\u001b[0m\u001b[0mget_loc\u001b[0m\u001b[0;34m(\u001b[0m\u001b[0mcasted_key\u001b[0m\u001b[0;34m)\u001b[0m\u001b[0;34m\u001b[0m\u001b[0;34m\u001b[0m\u001b[0m\n\u001b[0m\u001b[1;32m   3654\u001b[0m         \u001b[0;32mexcept\u001b[0m \u001b[0mKeyError\u001b[0m \u001b[0;32mas\u001b[0m \u001b[0merr\u001b[0m\u001b[0;34m:\u001b[0m\u001b[0;34m\u001b[0m\u001b[0;34m\u001b[0m\u001b[0m\n",
            "\u001b[0;32m/usr/local/lib/python3.10/dist-packages/pandas/_libs/index.pyx\u001b[0m in \u001b[0;36mpandas._libs.index.IndexEngine.get_loc\u001b[0;34m()\u001b[0m\n",
            "\u001b[0;32m/usr/local/lib/python3.10/dist-packages/pandas/_libs/index.pyx\u001b[0m in \u001b[0;36mpandas._libs.index.IndexEngine.get_loc\u001b[0;34m()\u001b[0m\n",
            "\u001b[0;32mpandas/_libs/hashtable_class_helper.pxi\u001b[0m in \u001b[0;36mpandas._libs.hashtable.PyObjectHashTable.get_item\u001b[0;34m()\u001b[0m\n",
            "\u001b[0;32mpandas/_libs/hashtable_class_helper.pxi\u001b[0m in \u001b[0;36mpandas._libs.hashtable.PyObjectHashTable.get_item\u001b[0;34m()\u001b[0m\n",
            "\u001b[0;31mKeyError\u001b[0m: 5",
            "\nThe above exception was the direct cause of the following exception:\n",
            "\u001b[0;31mKeyError\u001b[0m                                  Traceback (most recent call last)",
            "\u001b[0;32m<ipython-input-9-215280d5d3d5>\u001b[0m in \u001b[0;36m<cell line: 28>\u001b[0;34m()\u001b[0m\n\u001b[1;32m     26\u001b[0m \u001b[0;31m# Create sequences for RNN\u001b[0m\u001b[0;34m\u001b[0m\u001b[0;34m\u001b[0m\u001b[0m\n\u001b[1;32m     27\u001b[0m \u001b[0mn_steps\u001b[0m \u001b[0;34m=\u001b[0m \u001b[0;36m5\u001b[0m  \u001b[0;31m# Adjust this based on your dataset\u001b[0m\u001b[0;34m\u001b[0m\u001b[0;34m\u001b[0m\u001b[0m\n\u001b[0;32m---> 28\u001b[0;31m \u001b[0mX_train_seq\u001b[0m\u001b[0;34m,\u001b[0m \u001b[0my_train_seq\u001b[0m \u001b[0;34m=\u001b[0m \u001b[0mcreate_sequences\u001b[0m\u001b[0;34m(\u001b[0m\u001b[0mX_train\u001b[0m\u001b[0;34m,\u001b[0m \u001b[0my_train\u001b[0m\u001b[0;34m,\u001b[0m \u001b[0mn_steps\u001b[0m\u001b[0;34m)\u001b[0m\u001b[0;34m\u001b[0m\u001b[0;34m\u001b[0m\u001b[0m\n\u001b[0m\u001b[1;32m     29\u001b[0m \u001b[0mX_valid_seq\u001b[0m\u001b[0;34m,\u001b[0m \u001b[0my_valid_seq\u001b[0m \u001b[0;34m=\u001b[0m \u001b[0mcreate_sequences\u001b[0m\u001b[0;34m(\u001b[0m\u001b[0mX_test\u001b[0m\u001b[0;34m,\u001b[0m \u001b[0my_test\u001b[0m\u001b[0;34m,\u001b[0m \u001b[0mn_steps\u001b[0m\u001b[0;34m)\u001b[0m\u001b[0;34m\u001b[0m\u001b[0;34m\u001b[0m\u001b[0m\n\u001b[1;32m     30\u001b[0m \u001b[0;34m\u001b[0m\u001b[0m\n",
            "\u001b[0;32m<ipython-input-9-215280d5d3d5>\u001b[0m in \u001b[0;36mcreate_sequences\u001b[0;34m(X, y, n_steps)\u001b[0m\n\u001b[1;32m     21\u001b[0m     \u001b[0;32mfor\u001b[0m \u001b[0mi\u001b[0m \u001b[0;32min\u001b[0m \u001b[0mrange\u001b[0m\u001b[0;34m(\u001b[0m\u001b[0mlen\u001b[0m\u001b[0;34m(\u001b[0m\u001b[0mX\u001b[0m\u001b[0;34m)\u001b[0m \u001b[0;34m-\u001b[0m \u001b[0mn_steps\u001b[0m\u001b[0;34m)\u001b[0m\u001b[0;34m:\u001b[0m\u001b[0;34m\u001b[0m\u001b[0;34m\u001b[0m\u001b[0m\n\u001b[1;32m     22\u001b[0m         \u001b[0mXs\u001b[0m\u001b[0;34m.\u001b[0m\u001b[0mappend\u001b[0m\u001b[0;34m(\u001b[0m\u001b[0mX\u001b[0m\u001b[0;34m[\u001b[0m\u001b[0mi\u001b[0m\u001b[0;34m:\u001b[0m\u001b[0;34m(\u001b[0m\u001b[0mi\u001b[0m \u001b[0;34m+\u001b[0m \u001b[0mn_steps\u001b[0m\u001b[0;34m)\u001b[0m\u001b[0;34m]\u001b[0m\u001b[0;34m)\u001b[0m\u001b[0;34m\u001b[0m\u001b[0;34m\u001b[0m\u001b[0m\n\u001b[0;32m---> 23\u001b[0;31m         \u001b[0mys\u001b[0m\u001b[0;34m.\u001b[0m\u001b[0mappend\u001b[0m\u001b[0;34m(\u001b[0m\u001b[0my\u001b[0m\u001b[0;34m[\u001b[0m\u001b[0mi\u001b[0m \u001b[0;34m+\u001b[0m \u001b[0mn_steps\u001b[0m\u001b[0;34m]\u001b[0m\u001b[0;34m)\u001b[0m\u001b[0;34m\u001b[0m\u001b[0;34m\u001b[0m\u001b[0m\n\u001b[0m\u001b[1;32m     24\u001b[0m     \u001b[0;32mreturn\u001b[0m \u001b[0mnp\u001b[0m\u001b[0;34m.\u001b[0m\u001b[0marray\u001b[0m\u001b[0;34m(\u001b[0m\u001b[0mXs\u001b[0m\u001b[0;34m)\u001b[0m\u001b[0;34m,\u001b[0m \u001b[0mnp\u001b[0m\u001b[0;34m.\u001b[0m\u001b[0marray\u001b[0m\u001b[0;34m(\u001b[0m\u001b[0mys\u001b[0m\u001b[0;34m)\u001b[0m\u001b[0;34m.\u001b[0m\u001b[0mreshape\u001b[0m\u001b[0;34m(\u001b[0m\u001b[0;34m-\u001b[0m\u001b[0;36m1\u001b[0m\u001b[0;34m,\u001b[0m \u001b[0;36m1\u001b[0m\u001b[0;34m)\u001b[0m\u001b[0;34m\u001b[0m\u001b[0;34m\u001b[0m\u001b[0m\n\u001b[1;32m     25\u001b[0m \u001b[0;34m\u001b[0m\u001b[0m\n",
            "\u001b[0;32m/usr/local/lib/python3.10/dist-packages/pandas/core/frame.py\u001b[0m in \u001b[0;36m__getitem__\u001b[0;34m(self, key)\u001b[0m\n\u001b[1;32m   3759\u001b[0m             \u001b[0;32mif\u001b[0m \u001b[0mself\u001b[0m\u001b[0;34m.\u001b[0m\u001b[0mcolumns\u001b[0m\u001b[0;34m.\u001b[0m\u001b[0mnlevels\u001b[0m \u001b[0;34m>\u001b[0m \u001b[0;36m1\u001b[0m\u001b[0;34m:\u001b[0m\u001b[0;34m\u001b[0m\u001b[0;34m\u001b[0m\u001b[0m\n\u001b[1;32m   3760\u001b[0m                 \u001b[0;32mreturn\u001b[0m \u001b[0mself\u001b[0m\u001b[0;34m.\u001b[0m\u001b[0m_getitem_multilevel\u001b[0m\u001b[0;34m(\u001b[0m\u001b[0mkey\u001b[0m\u001b[0;34m)\u001b[0m\u001b[0;34m\u001b[0m\u001b[0;34m\u001b[0m\u001b[0m\n\u001b[0;32m-> 3761\u001b[0;31m             \u001b[0mindexer\u001b[0m \u001b[0;34m=\u001b[0m \u001b[0mself\u001b[0m\u001b[0;34m.\u001b[0m\u001b[0mcolumns\u001b[0m\u001b[0;34m.\u001b[0m\u001b[0mget_loc\u001b[0m\u001b[0;34m(\u001b[0m\u001b[0mkey\u001b[0m\u001b[0;34m)\u001b[0m\u001b[0;34m\u001b[0m\u001b[0;34m\u001b[0m\u001b[0m\n\u001b[0m\u001b[1;32m   3762\u001b[0m             \u001b[0;32mif\u001b[0m \u001b[0mis_integer\u001b[0m\u001b[0;34m(\u001b[0m\u001b[0mindexer\u001b[0m\u001b[0;34m)\u001b[0m\u001b[0;34m:\u001b[0m\u001b[0;34m\u001b[0m\u001b[0;34m\u001b[0m\u001b[0m\n\u001b[1;32m   3763\u001b[0m                 \u001b[0mindexer\u001b[0m \u001b[0;34m=\u001b[0m \u001b[0;34m[\u001b[0m\u001b[0mindexer\u001b[0m\u001b[0;34m]\u001b[0m\u001b[0;34m\u001b[0m\u001b[0;34m\u001b[0m\u001b[0m\n",
            "\u001b[0;32m/usr/local/lib/python3.10/dist-packages/pandas/core/indexes/base.py\u001b[0m in \u001b[0;36mget_loc\u001b[0;34m(self, key)\u001b[0m\n\u001b[1;32m   3653\u001b[0m             \u001b[0;32mreturn\u001b[0m \u001b[0mself\u001b[0m\u001b[0;34m.\u001b[0m\u001b[0m_engine\u001b[0m\u001b[0;34m.\u001b[0m\u001b[0mget_loc\u001b[0m\u001b[0;34m(\u001b[0m\u001b[0mcasted_key\u001b[0m\u001b[0;34m)\u001b[0m\u001b[0;34m\u001b[0m\u001b[0;34m\u001b[0m\u001b[0m\n\u001b[1;32m   3654\u001b[0m         \u001b[0;32mexcept\u001b[0m \u001b[0mKeyError\u001b[0m \u001b[0;32mas\u001b[0m \u001b[0merr\u001b[0m\u001b[0;34m:\u001b[0m\u001b[0;34m\u001b[0m\u001b[0;34m\u001b[0m\u001b[0m\n\u001b[0;32m-> 3655\u001b[0;31m             \u001b[0;32mraise\u001b[0m \u001b[0mKeyError\u001b[0m\u001b[0;34m(\u001b[0m\u001b[0mkey\u001b[0m\u001b[0;34m)\u001b[0m \u001b[0;32mfrom\u001b[0m \u001b[0merr\u001b[0m\u001b[0;34m\u001b[0m\u001b[0;34m\u001b[0m\u001b[0m\n\u001b[0m\u001b[1;32m   3656\u001b[0m         \u001b[0;32mexcept\u001b[0m \u001b[0mTypeError\u001b[0m\u001b[0;34m:\u001b[0m\u001b[0;34m\u001b[0m\u001b[0;34m\u001b[0m\u001b[0m\n\u001b[1;32m   3657\u001b[0m             \u001b[0;31m# If we have a listlike key, _check_indexing_error will raise\u001b[0m\u001b[0;34m\u001b[0m\u001b[0;34m\u001b[0m\u001b[0m\n",
            "\u001b[0;31mKeyError\u001b[0m: 5"
          ]
        }
      ]
    },
    {
      "cell_type": "code",
      "source": [],
      "metadata": {
        "id": "lxyyl7nalWza"
      },
      "execution_count": null,
      "outputs": []
    },
    {
      "cell_type": "code",
      "source": [
        "from keras.models import Sequential\n",
        "from keras.layers import LSTM, Dropout, Dense\n",
        "from keras import optimizers\n",
        "from keras.callbacks import EarlyStopping\n",
        "from sklearn.metrics import mean_squared_error, mean_absolute_error\n",
        "import plotly.graph_objects as go\n",
        "import numpy as np\n",
        "\n",
        "# Assuming these values are defined as per your dataset\n",
        "sequence_length = 24  # Assuming 24 hours data is used as one sequence\n",
        "forecast_length = 1   # Assuming we are predicting 1 step at a time\n",
        "\n",
        "# Reshape X_train and X_test for LSTM\n",
        "# This requires converting the DataFrame to a 3D array with shape [samples, sequence_length, features]\n",
        "# The following is a basic reshaping procedure and might need to be adjusted according to your specific data and task\n",
        "def create_sequences(X, y, sequence_length):\n",
        "    Xs, ys = [], []\n",
        "    for i in range(len(X) - sequence_length):\n",
        "        Xs.append(X.iloc[i:(i + sequence_length)].values)\n",
        "        ys.append(y.iloc[i + sequence_length])\n",
        "    return np.array(Xs), np.array(ys)\n",
        "\n",
        "X_train_seq, y_train_seq = create_sequences(X_train, y_train, sequence_length)\n",
        "X_test_seq, y_test_seq = create_sequences(X_test, y_test, sequence_length)\n",
        "\n",
        "# Build the model\n",
        "model = Sequential([\n",
        "    LSTM(100, return_sequences=True, input_shape=(sequence_length, X_train_seq.shape[2])),\n",
        "    Dropout(0.1),\n",
        "    LSTM(100, return_sequences=True),\n",
        "    Dropout(0.1),\n",
        "    LSTM(100, return_sequences=False),\n",
        "    Dropout(0.1),\n",
        "    Dense(forecast_length)\n",
        "])\n",
        "\n",
        "# Compile the model\n",
        "model.compile(optimizer=optimizers.Adam(learning_rate=0.001), loss='mse', metrics=['mae'])\n",
        "\n",
        "# Early Stopping\n",
        "early_stopping = EarlyStopping(monitor='val_loss', min_delta=0.0001, patience=6, verbose=1, mode='min')\n",
        "\n",
        "# Fit the model\n",
        "history = model.fit(X_train_seq, y_train_seq, epochs=25, validation_split=0.1, callbacks=[early_stopping], batch_size=32, verbose=1)\n",
        "\n",
        "# Model evaluation\n",
        "test_loss, test_metric = model.evaluate(X_test_seq, y_test_seq, verbose=1)\n",
        "print(f\"Test Loss: {test_loss}\")\n",
        "print(f\"Test MAE: {test_metric}\")\n",
        "\n",
        "# Prediction\n",
        "# Adjust last_sequence and actual_temp based on the new data shape\n",
        "last_sequence = X_test_seq[-1].reshape((1, sequence_length, X_test_seq.shape[2]))\n",
        "predicted_temp = model.predict(last_sequence)\n",
        "actual_temp = y_test_seq[-1]\n",
        "\n",
        "# Inverse transform if the target variable was scaled\n",
        "predicted_temperature_values = predicted_temp\n",
        "actual_temperature = actual_temp\n",
        "\n",
        "# Calculate metrics\n",
        "rmse = np.sqrt(mean_squared_error([actual_temperature], [predicted_temperature_values]))\n",
        "mae = mean_absolute_error([actual_temperature], [predicted_temperature_values])\n",
        "\n",
        "print(f\"RMSE: {rmse}\")\n",
        "print(f\"MAE: {mae}\")\n",
        "\n",
        "# Assuming 'predicted_datetimes' is defined correctly as per your data\n",
        "fig = go.Figure()\n",
        "fig.add_trace(go.Scattergl(x=predicted_datetimes, y=actual_temperature.flatten(), mode='lines', name='Actual Temps'))\n",
        "fig.add_trace(go.Scattergl(x=predicted_datetimes, y=predicted_temperature_values.flatten(), mode='lines', name='Predicted Temps'))\n",
        "fig.update_layout(title='Predictions vs Actual Values', xaxis_title='Date', yaxis_title='Temperature')\n",
        "fig.show()\n"
      ],
      "metadata": {
        "colab": {
          "base_uri": "https://localhost:8080/",
          "height": 776
        },
        "id": "6EGNLpBNovrx",
        "outputId": "b9364734-a6b5-42c5-faf7-308cd83cc66e"
      },
      "execution_count": null,
      "outputs": [
        {
          "output_type": "stream",
          "name": "stdout",
          "text": [
            "Epoch 1/25\n",
            "18/18 [==============================] - 16s 172ms/step - loss: 80.4010 - mae: 7.7766 - val_loss: 3.0227 - val_mae: 1.5874\n",
            "Epoch 2/25\n",
            "18/18 [==============================] - 1s 66ms/step - loss: 6.4944 - mae: 2.1039 - val_loss: 1.4049 - val_mae: 1.0178\n",
            "Epoch 3/25\n",
            "18/18 [==============================] - 1s 63ms/step - loss: 6.0574 - mae: 2.0299 - val_loss: 0.6451 - val_mae: 0.6400\n",
            "Epoch 4/25\n",
            "18/18 [==============================] - 1s 65ms/step - loss: 6.0912 - mae: 2.0826 - val_loss: 0.5043 - val_mae: 0.5456\n",
            "Epoch 5/25\n",
            "18/18 [==============================] - 1s 66ms/step - loss: 5.9175 - mae: 2.0473 - val_loss: 0.5603 - val_mae: 0.5811\n",
            "Epoch 6/25\n",
            "18/18 [==============================] - 1s 66ms/step - loss: 5.9822 - mae: 2.0427 - val_loss: 0.5655 - val_mae: 0.5847\n",
            "Epoch 7/25\n",
            "18/18 [==============================] - 1s 67ms/step - loss: 5.9692 - mae: 2.0350 - val_loss: 0.5184 - val_mae: 0.5529\n",
            "Epoch 8/25\n",
            "18/18 [==============================] - 2s 91ms/step - loss: 5.7470 - mae: 2.0149 - val_loss: 0.5654 - val_mae: 0.5846\n",
            "Epoch 9/25\n",
            "18/18 [==============================] - 2s 102ms/step - loss: 5.8643 - mae: 2.0458 - val_loss: 0.5583 - val_mae: 0.5797\n",
            "Epoch 10/25\n",
            "18/18 [==============================] - 1s 81ms/step - loss: 5.8756 - mae: 2.0644 - val_loss: 0.5283 - val_mae: 0.5588\n",
            "Epoch 10: early stopping\n"
          ]
        },
        {
          "output_type": "error",
          "ename": "ValueError",
          "evalue": "Expected input data to be non-empty.",
          "traceback": [
            "\u001b[0;31m---------------------------------------------------------------------------\u001b[0m",
            "\u001b[0;31mValueError\u001b[0m                                Traceback (most recent call last)",
            "\u001b[0;32m<ipython-input-61-74b7bc97170d>\u001b[0m in \u001b[0;36m<cell line: 47>\u001b[0;34m()\u001b[0m\n\u001b[1;32m     45\u001b[0m \u001b[0;34m\u001b[0m\u001b[0m\n\u001b[1;32m     46\u001b[0m \u001b[0;31m# Model evaluation\u001b[0m\u001b[0;34m\u001b[0m\u001b[0;34m\u001b[0m\u001b[0m\n\u001b[0;32m---> 47\u001b[0;31m \u001b[0mtest_loss\u001b[0m\u001b[0;34m,\u001b[0m \u001b[0mtest_metric\u001b[0m \u001b[0;34m=\u001b[0m \u001b[0mmodel\u001b[0m\u001b[0;34m.\u001b[0m\u001b[0mevaluate\u001b[0m\u001b[0;34m(\u001b[0m\u001b[0mX_test_seq\u001b[0m\u001b[0;34m,\u001b[0m \u001b[0my_test_seq\u001b[0m\u001b[0;34m,\u001b[0m \u001b[0mverbose\u001b[0m\u001b[0;34m=\u001b[0m\u001b[0;36m1\u001b[0m\u001b[0;34m)\u001b[0m\u001b[0;34m\u001b[0m\u001b[0;34m\u001b[0m\u001b[0m\n\u001b[0m\u001b[1;32m     48\u001b[0m \u001b[0mprint\u001b[0m\u001b[0;34m(\u001b[0m\u001b[0;34mf\"Test Loss: {test_loss}\"\u001b[0m\u001b[0;34m)\u001b[0m\u001b[0;34m\u001b[0m\u001b[0;34m\u001b[0m\u001b[0m\n\u001b[1;32m     49\u001b[0m \u001b[0mprint\u001b[0m\u001b[0;34m(\u001b[0m\u001b[0;34mf\"Test MAE: {test_metric}\"\u001b[0m\u001b[0;34m)\u001b[0m\u001b[0;34m\u001b[0m\u001b[0;34m\u001b[0m\u001b[0m\n",
            "\u001b[0;32m/usr/local/lib/python3.10/dist-packages/keras/src/utils/traceback_utils.py\u001b[0m in \u001b[0;36merror_handler\u001b[0;34m(*args, **kwargs)\u001b[0m\n\u001b[1;32m     68\u001b[0m             \u001b[0;31m# To get the full stack trace, call:\u001b[0m\u001b[0;34m\u001b[0m\u001b[0;34m\u001b[0m\u001b[0m\n\u001b[1;32m     69\u001b[0m             \u001b[0;31m# `tf.debugging.disable_traceback_filtering()`\u001b[0m\u001b[0;34m\u001b[0m\u001b[0;34m\u001b[0m\u001b[0m\n\u001b[0;32m---> 70\u001b[0;31m             \u001b[0;32mraise\u001b[0m \u001b[0me\u001b[0m\u001b[0;34m.\u001b[0m\u001b[0mwith_traceback\u001b[0m\u001b[0;34m(\u001b[0m\u001b[0mfiltered_tb\u001b[0m\u001b[0;34m)\u001b[0m \u001b[0;32mfrom\u001b[0m \u001b[0;32mNone\u001b[0m\u001b[0;34m\u001b[0m\u001b[0;34m\u001b[0m\u001b[0m\n\u001b[0m\u001b[1;32m     71\u001b[0m         \u001b[0;32mfinally\u001b[0m\u001b[0;34m:\u001b[0m\u001b[0;34m\u001b[0m\u001b[0;34m\u001b[0m\u001b[0m\n\u001b[1;32m     72\u001b[0m             \u001b[0;32mdel\u001b[0m \u001b[0mfiltered_tb\u001b[0m\u001b[0;34m\u001b[0m\u001b[0;34m\u001b[0m\u001b[0m\n",
            "\u001b[0;32m/usr/local/lib/python3.10/dist-packages/keras/src/engine/data_adapter.py\u001b[0m in \u001b[0;36m__init__\u001b[0;34m(self, x, y, sample_weight, batch_size, steps_per_epoch, initial_epoch, epochs, shuffle, class_weight, max_queue_size, workers, use_multiprocessing, model, steps_per_execution, distribute, pss_evaluation_shards)\u001b[0m\n\u001b[1;32m   1317\u001b[0m \u001b[0;34m\u001b[0m\u001b[0m\n\u001b[1;32m   1318\u001b[0m         \u001b[0;32mif\u001b[0m \u001b[0mself\u001b[0m\u001b[0;34m.\u001b[0m\u001b[0m_inferred_steps\u001b[0m \u001b[0;34m==\u001b[0m \u001b[0;36m0\u001b[0m\u001b[0;34m:\u001b[0m\u001b[0;34m\u001b[0m\u001b[0;34m\u001b[0m\u001b[0m\n\u001b[0;32m-> 1319\u001b[0;31m             \u001b[0;32mraise\u001b[0m \u001b[0mValueError\u001b[0m\u001b[0;34m(\u001b[0m\u001b[0;34m\"Expected input data to be non-empty.\"\u001b[0m\u001b[0;34m)\u001b[0m\u001b[0;34m\u001b[0m\u001b[0;34m\u001b[0m\u001b[0m\n\u001b[0m\u001b[1;32m   1320\u001b[0m \u001b[0;34m\u001b[0m\u001b[0m\n\u001b[1;32m   1321\u001b[0m     def _configure_dataset_and_inferred_steps(\n",
            "\u001b[0;31mValueError\u001b[0m: Expected input data to be non-empty."
          ]
        }
      ]
    },
    {
      "cell_type": "code",
      "source": [],
      "metadata": {
        "id": "j8XPAxXOovp1"
      },
      "execution_count": null,
      "outputs": []
    },
    {
      "cell_type": "code",
      "source": [],
      "metadata": {
        "id": "TBCOlbGuovno"
      },
      "execution_count": null,
      "outputs": []
    },
    {
      "cell_type": "code",
      "source": [],
      "metadata": {
        "id": "CssPv12govli"
      },
      "execution_count": null,
      "outputs": []
    },
    {
      "cell_type": "code",
      "source": [],
      "metadata": {
        "id": "zp6_T0dgovji"
      },
      "execution_count": null,
      "outputs": []
    },
    {
      "cell_type": "code",
      "source": [],
      "metadata": {
        "id": "qJe_mOzHovhf"
      },
      "execution_count": null,
      "outputs": []
    },
    {
      "cell_type": "code",
      "source": [],
      "metadata": {
        "id": "SVCrzj_Tovfa"
      },
      "execution_count": null,
      "outputs": []
    },
    {
      "cell_type": "code",
      "source": [],
      "metadata": {
        "id": "Z-z07ZyfovdO"
      },
      "execution_count": null,
      "outputs": []
    },
    {
      "cell_type": "code",
      "source": [],
      "metadata": {
        "id": "Q3D4RRsPovcB"
      },
      "execution_count": null,
      "outputs": []
    },
    {
      "cell_type": "code",
      "source": [
        "# Plotting\n",
        "plt.figure(figsize=(10, 6))\n",
        "plt.plot(y_test, label='Actual Values', color='blue')\n",
        "plt.plot(y_pred_lm, label='Predicted Values', color='red')\n",
        "plt.title('Actual vs Predicted Values')\n",
        "plt.xlabel('Sample Index')\n",
        "plt.ylabel(TARGET_COLUMN)\n",
        "plt.legend()\n",
        "plt.show()\n",
        "\n",
        "plt.figure(figsize=(10, 6))\n",
        "plt.plot(y_test, label='Actual Values', color='blue')\n",
        "plt.plot(y_pred_dt, label='Predicted Values', color='red')\n",
        "plt.title('Actual vs Predicted Values')\n",
        "plt.xlabel('Sample Index')\n",
        "plt.ylabel(TARGET_COLUMN)\n",
        "plt.legend()\n",
        "plt.show()\n",
        "\n",
        "plt.figure(figsize=(10, 6))\n",
        "plt.plot(y_test, label='Actual Values', color='blue')\n",
        "plt.plot(y_pred_rf, label='Predicted Values', color='red')\n",
        "plt.title('Actual vs Predicted Values')\n",
        "plt.xlabel('Sample Index')\n",
        "plt.ylabel(TARGET_COLUMN)\n",
        "plt.legend()\n",
        "plt.show()\n",
        "\n",
        "plt.figure(figsize=(10, 6))\n",
        "plt.plot(y_test, label='Actual Values', color='blue')\n",
        "plt.plot(y_pred_gb, label='Predicted Values', color='red')\n",
        "plt.title('Actual vs Predicted Values')\n",
        "plt.xlabel('Sample Index')\n",
        "plt.ylabel(TARGET_COLUMN)\n",
        "plt.legend()\n",
        "plt.show()\n",
        "\n",
        "plt.figure(figsize=(10, 6))\n",
        "plt.plot(y_test, label='Actual Values', color='blue')\n",
        "plt.plot(y_pred_xg, label='Predicted Values', color='red')\n",
        "plt.title('Actual vs Predicted Values')\n",
        "plt.xlabel('Sample Index')\n",
        "plt.ylabel(TARGET_COLUMN)\n",
        "plt.legend()\n",
        "plt.show()\n",
        "\n",
        "plt.figure(figsize=(10, 6))\n",
        "plt.plot(y_test, label='Actual Values', color='blue')\n",
        "plt.plot(y_pred_rnn, label='Predicted Values', color='red')\n",
        "plt.title('Actual vs Predicted Values')\n",
        "plt.xlabel('Sample Index')\n",
        "plt.ylabel(TARGET_COLUMN)\n",
        "plt.legend()\n",
        "plt.show()\n"
      ],
      "metadata": {
        "colab": {
          "base_uri": "https://localhost:8080/",
          "height": 1000
        },
        "id": "M_c3IEKrL_tM",
        "outputId": "41108798-36c3-4c25-9221-44b74b098933"
      },
      "execution_count": 19,
      "outputs": [
        {
          "output_type": "display_data",
          "data": {
            "text/plain": [
              "<Figure size 1000x600 with 1 Axes>"
            ],
            "image/png": "[encoded data removed]"
          },
          "metadata": {}
        },
        {
          "output_type": "display_data",
          "data": {
            "text/plain": [
              "<Figure size 1000x600 with 1 Axes>"
            ],
            "image/png": "[encoded data removed]"
          },
          "metadata": {}
        },
        {
          "output_type": "display_data",
          "data": {
            "text/plain": [
              "<Figure size 1000x600 with 1 Axes>"
            ],
            "image/png": "[encoded data removed]"
          },
          "metadata": {}
        },
        {
          "output_type": "display_data",
          "data": {
            "text/plain": [
              "<Figure size 1000x600 with 1 Axes>"
            ],
            "image/png": "[encoded data removed]"
          },
          "metadata": {}
        },
        {
          "output_type": "display_data",
          "data": {
            "text/plain": [
              "<Figure size 1000x600 with 1 Axes>"
            ],
            "image/png": "[encoded data removed]"
          },
          "metadata": {}
        },
        {
          "output_type": "display_data",
          "data": {
            "text/plain": [
              "<Figure size 1000x600 with 1 Axes>"
            ],
            "image/png": "[encoded data removed]"
          },
          "metadata": {}
        }
      ]
    },
    {
      "cell_type": "code",
      "source": [],
      "metadata": {
        "id": "fdB5S0WmL_qx"
      },
      "execution_count": null,
      "outputs": []
    },
    {
      "cell_type": "code",
      "source": [],
      "metadata": {
        "id": "0P8VYX8yL_oH"
      },
      "execution_count": null,
      "outputs": []
    },
    {
      "cell_type": "code",
      "source": [],
      "metadata": {
        "id": "1-jldNlGL_i-"
      },
      "execution_count": null,
      "outputs": []
    },
    {
      "cell_type": "code",
      "source": [
        "import numpy as np\n",
        "import pandas as pd\n",
        "\n",
        "# Function to create RNN sequences\n",
        "def create_sequences(X, y, n_steps):\n",
        "    Xs, ys = [], []\n",
        "    for i in range(len(X) - n_steps):\n",
        "        Xs.append(X.iloc[i:(i + n_steps)].values)\n",
        "        ys.append(y.iloc[i + n_steps].values)\n",
        "    return np.array(Xs), np.array(ys).reshape(-1, 1)\n",
        "\n",
        "\n",
        "\n",
        "# Create sequences for RNN in the shape (samples, time steps, features)\n",
        "n_steps = 5\n",
        "X_train_seq, y_train_seq = create_sequences(X_train_df, y_train_df, n_steps)\n",
        "X_test_seq, y_test_seq = create_sequences(X_test_df, y_test_df, n_steps)\n"
      ],
      "metadata": {
        "id": "8WxawdkxKwi-",
        "colab": {
          "base_uri": "https://localhost:8080/",
          "height": 193
        },
        "outputId": "aeed30f7-1e9a-4f26-d363-ad50a3277dd8"
      },
      "execution_count": 12,
      "outputs": [
        {
          "output_type": "error",
          "ename": "NameError",
          "evalue": "name 'X_train_df' is not defined",
          "traceback": [
            "\u001b[0;31m---------------------------------------------------------------------------\u001b[0m",
            "\u001b[0;31mNameError\u001b[0m                                 Traceback (most recent call last)",
            "\u001b[0;32m<ipython-input-12-f92a951bba1b>\u001b[0m in \u001b[0;36m<cell line: 16>\u001b[0;34m()\u001b[0m\n\u001b[1;32m     14\u001b[0m \u001b[0;31m# Create sequences for RNN in the shape (samples, time steps, features)\u001b[0m\u001b[0;34m\u001b[0m\u001b[0;34m\u001b[0m\u001b[0m\n\u001b[1;32m     15\u001b[0m \u001b[0mn_steps\u001b[0m \u001b[0;34m=\u001b[0m \u001b[0;36m5\u001b[0m\u001b[0;34m\u001b[0m\u001b[0;34m\u001b[0m\u001b[0m\n\u001b[0;32m---> 16\u001b[0;31m \u001b[0mX_train_seq\u001b[0m\u001b[0;34m,\u001b[0m \u001b[0my_train_seq\u001b[0m \u001b[0;34m=\u001b[0m \u001b[0mcreate_sequences\u001b[0m\u001b[0;34m(\u001b[0m\u001b[0mX_train_df\u001b[0m\u001b[0;34m,\u001b[0m \u001b[0my_train_df\u001b[0m\u001b[0;34m,\u001b[0m \u001b[0mn_steps\u001b[0m\u001b[0;34m)\u001b[0m\u001b[0;34m\u001b[0m\u001b[0;34m\u001b[0m\u001b[0m\n\u001b[0m\u001b[1;32m     17\u001b[0m \u001b[0mX_test_seq\u001b[0m\u001b[0;34m,\u001b[0m \u001b[0my_test_seq\u001b[0m \u001b[0;34m=\u001b[0m \u001b[0mcreate_sequences\u001b[0m\u001b[0;34m(\u001b[0m\u001b[0mX_test_df\u001b[0m\u001b[0;34m,\u001b[0m \u001b[0my_test_df\u001b[0m\u001b[0;34m,\u001b[0m \u001b[0mn_steps\u001b[0m\u001b[0;34m)\u001b[0m\u001b[0;34m\u001b[0m\u001b[0;34m\u001b[0m\u001b[0m\n",
            "\u001b[0;31mNameError\u001b[0m: name 'X_train_df' is not defined"
          ]
        }
      ]
    },
    {
      "cell_type": "code",
      "source": [
        "!pip install keras_tuner"
      ],
      "metadata": {
        "id": "4pq6HujIJxTY"
      },
      "execution_count": null,
      "outputs": []
    },
    {
      "cell_type": "code",
      "source": [
        "from keras.models import Sequential\n",
        "from keras.layers import Dense, Flatten, LSTM\n",
        "from keras.optimizers import Adam\n",
        "import numpy as np\n",
        "import time\n",
        "import os\n",
        "from keras.callbacks import ModelCheckpoint, EarlyStopping\n",
        "from keras_tuner.engine.hyperparameters import HyperParameters\n",
        "from keras_tuner import BayesianOptimization\n",
        "from sklearn.metrics import mean_absolute_error, mean_squared_error, r2_score\n",
        "\n",
        "\n",
        "def build_rnn_model(hp):\n",
        "    model = Sequential()\n",
        "    model.add(LSTM(units=hp.Int('units', min_value=5, max_value=25, step=5),\n",
        "                   input_shape=(X_train_seq.shape[1], X_train_seq.shape[2]),\n",
        "                   return_sequences=True if hp.Int('num_layers', 2, 10) > 1 else False))\n",
        "    for i in range(1, hp.Int('num_layers', 2, 10)):\n",
        "        model.add(LSTM(units=hp.Int('units_' + str(i), 5, 25),\n",
        "                       return_sequences=True if i < hp.Int('num_layers', 2, 10) - 1 else False))\n",
        "    model.add(Dense(1))\n",
        "\n",
        "    optimizer = Adam(learning_rate=hp.Float('learning_rate', 1e-7, 1e-2, sampling='log'))\n",
        "    model.compile(optimizer=optimizer, loss='mean_squared_error')\n",
        "    return model\n",
        "\n",
        "hp = HyperParameters()\n",
        "hp.Int('batch_size', 32, 132, step=10)\n",
        "\n",
        "tuner = BayesianOptimization(\n",
        "    build_rnn_model,\n",
        "    objective='val_loss',\n",
        "    max_trials=100,\n",
        "    num_initial_points=20,\n",
        "    project_name='rnn_tuning',\n",
        "    hyperparameters=hp\n",
        ")\n",
        "\n",
        "early_stopping = EarlyStopping(monitor='val_loss', patience=5, restore_best_weights=True)\n",
        "\n",
        "# Start tuning\n",
        "tuner.search(X_train_seq, y_train_seq, epochs=100, validation_split=0.1, verbose=1, callbacks=[early_stopping])\n",
        "\n",
        "best_hps = tuner.get_best_hyperparameters()[0]\n",
        "\n",
        "print(\"Best Hyperparameters:\")\n",
        "print(f\"Units: {best_hps.get('units')}\")\n",
        "for i in range(best_hps.get('num_layers')):\n",
        "    print(f\"Units Layer {i}: {best_hps.get('units_' + str(i))}\")\n",
        "print(f\"Learning Rate: {best_hps.get('learning_rate')}\")\n",
        "print(f\"Batch Size: {best_hps.get('batch_size')}\")\n",
        "\n",
        "model_rnn = build_rnn_model(best_hps)\n",
        "model_rnn.summary()\n",
        "\n",
        "start_time_rnn = time.time()\n",
        "model_rnn.fit(X_train_seq, y_train_seq, epochs=20, batch_size=best_hps.get('batch_size'), validation_split=0.1, verbose=1)\n",
        "end_time_rnn = time.time()\n",
        "training_time_rnn = end_time_rnn - start_time_rnn\n",
        "\n",
        "# Assuming you have a function to calculate these metrics\n",
        "y_pred_rnn = model_rnn.predict(X_test_seq)\n",
        "y_pred_rnn = y_pred_rnn.flatten()\n",
        "y_test_aligned = y_test[-len(y_pred_rnn):]\n",
        "\n",
        "# Replace these with your metric calculation methods\n",
        "mae_rnn = mean_absolute_error(y_test_aligned, y_pred_rnn)\n",
        "mse_rnn = mean_squared_error(y_test_aligned, y_pred_rnn)\n",
        "rmse_rnn = np.sqrt(mse_rnn)\n",
        "mape_rnn = np.mean(np.abs((y_test_aligned - y_pred_rnn) / y_test_aligned)) * 100\n",
        "mdape_rnn = np.median(np.abs((y_test_aligned - y_pred_rnn) / y_test_aligned)) * 100\n",
        "r2_rnn = r2_score(y_test_aligned, y_pred_rnn)\n",
        "\n",
        "metrics_df = metrics_df.append({\n",
        "    'MODEL': 'rnn',\n",
        "    'MAE': mae_rnn,\n",
        "    'MSE': mse_rnn,\n",
        "    'RMSE': rmse_rnn,\n",
        "    'MAPE': mape_rnn,\n",
        "    'MDAPE': mdape_rnn,\n",
        "    'R2': r2_rnn,\n",
        "    'Training_Length': len(y_train),\n",
        "    'Testing_Length': len(y_test_aligned),\n",
        "    'Training_Time': training_time_rnn\n",
        "}, ignore_index=True)\n",
        "print(metrics_df)\n"
      ],
      "metadata": {
        "colab": {
          "base_uri": "https://localhost:8080/",
          "height": 454
        },
        "id": "ha8MWpxzHLKE",
        "outputId": "814e806a-30ce-40b1-d2df-3007c4dc6088"
      },
      "execution_count": null,
      "outputs": [
        {
          "output_type": "stream",
          "name": "stdout",
          "text": [
            "Trial 100 Complete [00h 00m 18s]\n",
            "val_loss: 0.6139022707939148\n",
            "\n",
            "Best val_loss So Far: 0.5304038524627686\n",
            "Total elapsed time: 00h 59m 48s\n",
            "Best Hyperparameters:\n",
            "Units: 25\n"
          ]
        },
        {
          "output_type": "error",
          "ename": "KeyError",
          "evalue": "'units_0 does not exist.'",
          "traceback": [
            "\u001b[0;31m---------------------------------------------------------------------------\u001b[0m",
            "\u001b[0;31mKeyError\u001b[0m                                  Traceback (most recent call last)",
            "\u001b[0;32m<ipython-input-25-2752050bf211>\u001b[0m in \u001b[0;36m<cell line: 47>\u001b[0;34m()\u001b[0m\n\u001b[1;32m     46\u001b[0m \u001b[0mprint\u001b[0m\u001b[0;34m(\u001b[0m\u001b[0;34mf\"Units: {best_hps.get('units')}\"\u001b[0m\u001b[0;34m)\u001b[0m\u001b[0;34m\u001b[0m\u001b[0;34m\u001b[0m\u001b[0m\n\u001b[1;32m     47\u001b[0m \u001b[0;32mfor\u001b[0m \u001b[0mi\u001b[0m \u001b[0;32min\u001b[0m \u001b[0mrange\u001b[0m\u001b[0;34m(\u001b[0m\u001b[0mbest_hps\u001b[0m\u001b[0;34m.\u001b[0m\u001b[0mget\u001b[0m\u001b[0;34m(\u001b[0m\u001b[0;34m'num_layers'\u001b[0m\u001b[0;34m)\u001b[0m\u001b[0;34m)\u001b[0m\u001b[0;34m:\u001b[0m\u001b[0;34m\u001b[0m\u001b[0;34m\u001b[0m\u001b[0m\n\u001b[0;32m---> 48\u001b[0;31m     \u001b[0mprint\u001b[0m\u001b[0;34m(\u001b[0m\u001b[0;34mf\"Units Layer {i}: {best_hps.get('units_' + str(i))}\"\u001b[0m\u001b[0;34m)\u001b[0m\u001b[0;34m\u001b[0m\u001b[0;34m\u001b[0m\u001b[0m\n\u001b[0m\u001b[1;32m     49\u001b[0m \u001b[0mprint\u001b[0m\u001b[0;34m(\u001b[0m\u001b[0;34mf\"Learning Rate: {best_hps.get('learning_rate')}\"\u001b[0m\u001b[0;34m)\u001b[0m\u001b[0;34m\u001b[0m\u001b[0;34m\u001b[0m\u001b[0m\n\u001b[1;32m     50\u001b[0m \u001b[0mprint\u001b[0m\u001b[0;34m(\u001b[0m\u001b[0;34mf\"Batch Size: {best_hps.get('batch_size')}\"\u001b[0m\u001b[0;34m)\u001b[0m\u001b[0;34m\u001b[0m\u001b[0;34m\u001b[0m\u001b[0m\n",
            "\u001b[0;32m/usr/local/lib/python3.10/dist-packages/keras_tuner/src/engine/hyperparameters/hyperparameters.py\u001b[0m in \u001b[0;36mget\u001b[0;34m(self, name)\u001b[0m\n\u001b[1;32m    244\u001b[0m             \u001b[0;32mraise\u001b[0m \u001b[0mValueError\u001b[0m\u001b[0;34m(\u001b[0m\u001b[0;34mf\"{name} is currently inactive.\"\u001b[0m\u001b[0;34m)\u001b[0m\u001b[0;34m\u001b[0m\u001b[0;34m\u001b[0m\u001b[0m\n\u001b[1;32m    245\u001b[0m         \u001b[0;32melse\u001b[0m\u001b[0;34m:\u001b[0m\u001b[0;34m\u001b[0m\u001b[0;34m\u001b[0m\u001b[0m\n\u001b[0;32m--> 246\u001b[0;31m             \u001b[0;32mraise\u001b[0m \u001b[0mKeyError\u001b[0m\u001b[0;34m(\u001b[0m\u001b[0;34mf\"{name} does not exist.\"\u001b[0m\u001b[0;34m)\u001b[0m\u001b[0;34m\u001b[0m\u001b[0;34m\u001b[0m\u001b[0m\n\u001b[0m\u001b[1;32m    247\u001b[0m \u001b[0;34m\u001b[0m\u001b[0m\n\u001b[1;32m    248\u001b[0m     \u001b[0;32mdef\u001b[0m \u001b[0m__getitem__\u001b[0m\u001b[0;34m(\u001b[0m\u001b[0mself\u001b[0m\u001b[0;34m,\u001b[0m \u001b[0mname\u001b[0m\u001b[0;34m)\u001b[0m\u001b[0;34m:\u001b[0m\u001b[0;34m\u001b[0m\u001b[0;34m\u001b[0m\u001b[0m\n",
            "\u001b[0;31mKeyError\u001b[0m: 'units_0 does not exist.'"
          ]
        }
      ]
    },
    {
      "cell_type": "markdown",
      "source": [],
      "metadata": {
        "id": "vHt6ZgEIfCcD"
      }
    },
    {
      "cell_type": "code",
      "source": [
        "print(\"Best Hyperparameters:\")\n",
        "print(f\"Units (First Layer): {best_hps.get('units')}\")\n",
        "\n",
        "num_layers = best_hps.get('num_layers')\n",
        "for i in range(1, num_layers):\n",
        "    try:\n",
        "        print(f\"Units Layer {i}: {best_hps.get('units_' + str(i))}\")\n",
        "    except KeyError:\n",
        "        # If the key doesn't exist, just break the loop\n",
        "        break\n",
        "\n",
        "print(f\"Learning Rate: {best_hps.get('learning_rate')}\")\n",
        "print(f\"Batch Size: {best_hps.get('batch_size')}\")\n"
      ],
      "metadata": {
        "colab": {
          "base_uri": "https://localhost:8080/"
        },
        "id": "cy7zOA8DHLGG",
        "outputId": "cf92771b-a263-4976-8159-4d9fb150c01a"
      },
      "execution_count": null,
      "outputs": [
        {
          "output_type": "stream",
          "name": "stdout",
          "text": [
            "Best Hyperparameters:\n",
            "Units (First Layer): 25\n",
            "Units Layer 1: 5\n",
            "Units Layer 2: 25\n",
            "Units Layer 3: 5\n",
            "Units Layer 4: 22\n",
            "Units Layer 5: 20\n",
            "Units Layer 6: 25\n",
            "Units Layer 7: 25\n",
            "Units Layer 8: 5\n",
            "Units Layer 9: 5\n",
            "Learning Rate: 0.01\n",
            "Batch Size: 132\n"
          ]
        }
      ]
    },
    {
      "cell_type": "code",
      "source": [
        "import matplotlib.pyplot as plt\n",
        "from sklearn.metrics import mean_absolute_error, mean_squared_error, r2_score\n",
        "from keras.layers import Dense, BatchNormalization, Input, LSTM, Dropout\n",
        "\n",
        "# Define the optimal RNN model architecture\n",
        "def build_optimal_rnn_model():\n",
        "    model = Sequential()\n",
        "    model.add(LSTM(units=25, input_shape=(X_train_seq.shape[1], X_train_seq.shape[2]), return_sequences=True))\n",
        "    model.add(LSTM(units=5, return_sequences=True))\n",
        "    model.add(Dropout(0.2))\n",
        "    model.add(LSTM(units=25, return_sequences=True))\n",
        "    model.add(Dropout(0.2))\n",
        "    model.add(LSTM(units=5, return_sequences=True))\n",
        "    model.add(Dropout(0.2))\n",
        "    model.add(LSTM(units=22, return_sequences=True))\n",
        "    model.add(Dropout(0.2))\n",
        "    model.add(LSTM(units=20, return_sequences=True))\n",
        "    model.add(Dropout(0.2))\n",
        "    model.add(LSTM(units=25, return_sequences=True))\n",
        "    model.add(Dropout(0.2))\n",
        "    model.add(LSTM(units=25, return_sequences=True))\n",
        "    model.add(Dropout(0.2))\n",
        "    model.add(LSTM(units=5, return_sequences=True))\n",
        "    model.add(Dropout(0.2))\n",
        "    model.add(LSTM(units=5, return_sequences=False))\n",
        "    model.add(Dense(1))\n",
        "\n",
        "    optimizer = Adam(learning_rate=0.01)\n",
        "    model.compile(optimizer=optimizer, loss='mean_squared_error')\n",
        "    return model\n",
        "\n",
        "# Build the model\n",
        "optimal_model_rnn = build_optimal_rnn_model()\n",
        "\n",
        "# Summarize the model\n",
        "optimal_model_rnn.summary()\n",
        "\n",
        "# Train the model\n",
        "start_time_rnn = time.time()\n",
        "history = optimal_model_rnn.fit(X_train_seq, y_train_seq, epochs=200, batch_size=132, validation_split=0.1, verbose=1)\n",
        "end_time_rnn = time.time()\n",
        "training_time_rnn = end_time_rnn - start_time_rnn\n",
        "\n",
        "# Evaluate the model\n",
        "y_pred_rnn = optimal_model_rnn.predict(X_test_seq)\n",
        "y_pred_rnn = y_pred_rnn.flatten()\n",
        "y_test_aligned = y_test[-len(y_pred_rnn):]\n",
        "\n",
        "# Calculate metrics\n",
        "mae_rnn = mean_absolute_error(y_test_aligned, y_pred_rnn)\n",
        "mse_rnn = mean_squared_error(y_test_aligned, y_pred_rnn)\n",
        "rmse_rnn = np.sqrt(mse_rnn)\n",
        "mape_rnn = np.mean(np.abs((y_test_aligned - y_pred_rnn) / y_test_aligned)) * 100\n",
        "mdape_rnn = np.median(np.abs((y_test_aligned - y_pred_rnn) / y_test_aligned)) * 100\n",
        "r2_rnn = r2_score(y_test_aligned, y_pred_rnn)\n",
        "\n",
        "# Plotting training and validation loss\n",
        "plt.figure(figsize=(12, 6))\n",
        "plt.plot(history.history['loss'], label='Train Loss')\n",
        "plt.plot(history.history['val_loss'], label='Validation Loss')\n",
        "plt.title('Model Loss')\n",
        "plt.ylabel('Loss')\n",
        "plt.xlabel('Epochs')\n",
        "plt.legend(loc='upper right')\n",
        "plt.show()\n"
      ],
      "metadata": {
        "colab": {
          "base_uri": "https://localhost:8080/",
          "height": 1000
        },
        "id": "S2vo5ZvUfrQp",
        "outputId": "6f091454-d20f-43af-ab4a-85cde6e6df45"
      },
      "execution_count": null,
      "outputs": [
        {
          "output_type": "stream",
          "name": "stdout",
          "text": [
            "Model: \"sequential_5\"\n",
            "_________________________________________________________________\n",
            " Layer (type)                Output Shape              Param #   \n",
            "=================================================================\n",
            " lstm_42 (LSTM)              (None, 5, 25)             3700      \n",
            "                                                                 \n",
            " lstm_43 (LSTM)              (None, 5, 5)              620       \n",
            "                                                                 \n",
            " dropout_16 (Dropout)        (None, 5, 5)              0         \n",
            "                                                                 \n",
            " lstm_44 (LSTM)              (None, 5, 25)             3100      \n",
            "                                                                 \n",
            " dropout_17 (Dropout)        (None, 5, 25)             0         \n",
            "                                                                 \n",
            " lstm_45 (LSTM)              (None, 5, 5)              620       \n",
            "                                                                 \n",
            " dropout_18 (Dropout)        (None, 5, 5)              0         \n",
            "                                                                 \n",
            " lstm_46 (LSTM)              (None, 5, 22)             2464      \n",
            "                                                                 \n",
            " dropout_19 (Dropout)        (None, 5, 22)             0         \n",
            "                                                                 \n",
            " lstm_47 (LSTM)              (None, 5, 20)             3440      \n",
            "                                                                 \n",
            " dropout_20 (Dropout)        (None, 5, 20)             0         \n",
            "                                                                 \n",
            " lstm_48 (LSTM)              (None, 5, 25)             4600      \n",
            "                                                                 \n",
            " dropout_21 (Dropout)        (None, 5, 25)             0         \n",
            "                                                                 \n",
            " lstm_49 (LSTM)              (None, 5, 25)             5100      \n",
            "                                                                 \n",
            " dropout_22 (Dropout)        (None, 5, 25)             0         \n",
            "                                                                 \n",
            " lstm_50 (LSTM)              (None, 5, 5)              620       \n",
            "                                                                 \n",
            " dropout_23 (Dropout)        (None, 5, 5)              0         \n",
            "                                                                 \n",
            " lstm_51 (LSTM)              (None, 5)                 220       \n",
            "                                                                 \n",
            " dense_5 (Dense)             (None, 1)                 6         \n",
            "                                                                 \n",
            "=================================================================\n",
            "Total params: 24490 (95.66 KB)\n",
            "Trainable params: 24490 (95.66 KB)\n",
            "Non-trainable params: 0 (0.00 Byte)\n",
            "_________________________________________________________________\n",
            "Epoch 1/200\n",
            "5/5 [==============================] - 29s 1s/step - loss: 180.3090 - val_loss: 150.7983\n",
            "Epoch 2/200\n",
            "5/5 [==============================] - 0s 45ms/step - loss: 154.3746 - val_loss: 121.5568\n",
            "Epoch 3/200\n",
            "5/5 [==============================] - 0s 49ms/step - loss: 129.0150 - val_loss: 103.9989\n",
            "Epoch 4/200\n",
            "5/5 [==============================] - 0s 44ms/step - loss: 113.0361 - val_loss: 91.8395\n",
            "Epoch 5/200\n",
            "5/5 [==============================] - 0s 46ms/step - loss: 101.4149 - val_loss: 82.2861\n",
            "Epoch 6/200\n",
            "5/5 [==============================] - 0s 48ms/step - loss: 91.9445 - val_loss: 74.4834\n",
            "Epoch 7/200\n",
            "5/5 [==============================] - 0s 45ms/step - loss: 84.1926 - val_loss: 67.8652\n",
            "Epoch 8/200\n",
            "5/5 [==============================] - 0s 54ms/step - loss: 77.5245 - val_loss: 62.0149\n",
            "Epoch 9/200\n",
            "5/5 [==============================] - 0s 45ms/step - loss: 71.6542 - val_loss: 56.7415\n",
            "Epoch 10/200\n",
            "5/5 [==============================] - 0s 48ms/step - loss: 66.2340 - val_loss: 51.9398\n",
            "Epoch 11/200\n",
            "5/5 [==============================] - 0s 44ms/step - loss: 61.3533 - val_loss: 47.5334\n",
            "Epoch 12/200\n",
            "5/5 [==============================] - 0s 50ms/step - loss: 56.8530 - val_loss: 43.4707\n",
            "Epoch 13/200\n",
            "5/5 [==============================] - 0s 46ms/step - loss: 52.5972 - val_loss: 39.7263\n",
            "Epoch 14/200\n",
            "5/5 [==============================] - 0s 45ms/step - loss: 48.7361 - val_loss: 36.2600\n",
            "Epoch 15/200\n",
            "5/5 [==============================] - 0s 42ms/step - loss: 45.1408 - val_loss: 33.0697\n",
            "Epoch 16/200\n",
            "5/5 [==============================] - 0s 41ms/step - loss: 41.8483 - val_loss: 30.1283\n",
            "Epoch 17/200\n",
            "5/5 [==============================] - 0s 46ms/step - loss: 38.7844 - val_loss: 27.4086\n",
            "Epoch 18/200\n",
            "5/5 [==============================] - 0s 42ms/step - loss: 35.9001 - val_loss: 24.9033\n",
            "Epoch 19/200\n",
            "5/5 [==============================] - 0s 45ms/step - loss: 33.2765 - val_loss: 22.5919\n",
            "Epoch 20/200\n",
            "5/5 [==============================] - 0s 49ms/step - loss: 30.8828 - val_loss: 20.4504\n",
            "Epoch 21/200\n",
            "5/5 [==============================] - 0s 43ms/step - loss: 28.5709 - val_loss: 18.4942\n",
            "Epoch 22/200\n",
            "5/5 [==============================] - 0s 47ms/step - loss: 26.5036 - val_loss: 16.6991\n",
            "Epoch 23/200\n",
            "5/5 [==============================] - 0s 42ms/step - loss: 24.6071 - val_loss: 15.0449\n",
            "Epoch 24/200\n",
            "5/5 [==============================] - 0s 42ms/step - loss: 22.8293 - val_loss: 13.5357\n",
            "Epoch 25/200\n",
            "5/5 [==============================] - 0s 43ms/step - loss: 21.2121 - val_loss: 12.1543\n",
            "Epoch 26/200\n",
            "5/5 [==============================] - 0s 44ms/step - loss: 19.7210 - val_loss: 10.8897\n",
            "Epoch 27/200\n",
            "5/5 [==============================] - 0s 45ms/step - loss: 18.3413 - val_loss: 9.7450\n",
            "Epoch 28/200\n",
            "5/5 [==============================] - 0s 45ms/step - loss: 17.0941 - val_loss: 8.7047\n",
            "Epoch 29/200\n",
            "5/5 [==============================] - 0s 48ms/step - loss: 15.9672 - val_loss: 7.7626\n",
            "Epoch 30/200\n",
            "5/5 [==============================] - 0s 48ms/step - loss: 14.9169 - val_loss: 6.9085\n",
            "Epoch 31/200\n",
            "5/5 [==============================] - 0s 51ms/step - loss: 13.9812 - val_loss: 6.1262\n",
            "Epoch 32/200\n",
            "5/5 [==============================] - 0s 43ms/step - loss: 13.0858 - val_loss: 5.4279\n",
            "Epoch 33/200\n",
            "5/5 [==============================] - 0s 46ms/step - loss: 12.3076 - val_loss: 4.7985\n",
            "Epoch 34/200\n",
            "5/5 [==============================] - 0s 42ms/step - loss: 11.5885 - val_loss: 4.2403\n",
            "Epoch 35/200\n",
            "5/5 [==============================] - 0s 41ms/step - loss: 10.9739 - val_loss: 3.7452\n",
            "Epoch 36/200\n",
            "5/5 [==============================] - 0s 42ms/step - loss: 10.3715 - val_loss: 3.3131\n",
            "Epoch 37/200\n",
            "5/5 [==============================] - 0s 41ms/step - loss: 9.8709 - val_loss: 2.9244\n",
            "Epoch 38/200\n",
            "5/5 [==============================] - 0s 43ms/step - loss: 9.3981 - val_loss: 2.5820\n",
            "Epoch 39/200\n",
            "5/5 [==============================] - 0s 41ms/step - loss: 8.9805 - val_loss: 2.2797\n",
            "Epoch 40/200\n",
            "5/5 [==============================] - 0s 45ms/step - loss: 8.6100 - val_loss: 2.0128\n",
            "Epoch 41/200\n",
            "5/5 [==============================] - 0s 46ms/step - loss: 8.2705 - val_loss: 1.7821\n",
            "Epoch 42/200\n",
            "5/5 [==============================] - 0s 76ms/step - loss: 7.9931 - val_loss: 1.5805\n",
            "Epoch 43/200\n",
            "5/5 [==============================] - 0s 71ms/step - loss: 7.7294 - val_loss: 1.4052\n",
            "Epoch 44/200\n",
            "5/5 [==============================] - 0s 73ms/step - loss: 7.4708 - val_loss: 1.2560\n",
            "Epoch 45/200\n",
            "5/5 [==============================] - 0s 74ms/step - loss: 7.2794 - val_loss: 1.1255\n",
            "Epoch 46/200\n",
            "5/5 [==============================] - 0s 75ms/step - loss: 7.0886 - val_loss: 1.0132\n",
            "Epoch 47/200\n",
            "5/5 [==============================] - 0s 67ms/step - loss: 6.9298 - val_loss: 0.9173\n",
            "Epoch 48/200\n",
            "5/5 [==============================] - 0s 67ms/step - loss: 6.7832 - val_loss: 0.8378\n",
            "Epoch 49/200\n",
            "5/5 [==============================] - 0s 73ms/step - loss: 6.6570 - val_loss: 0.7700\n",
            "Epoch 50/200\n",
            "5/5 [==============================] - 0s 75ms/step - loss: 6.5473 - val_loss: 0.7145\n",
            "Epoch 51/200\n",
            "5/5 [==============================] - 0s 75ms/step - loss: 6.4448 - val_loss: 0.6690\n",
            "Epoch 52/200\n",
            "5/5 [==============================] - 0s 71ms/step - loss: 6.3647 - val_loss: 0.6323\n",
            "Epoch 53/200\n",
            "5/5 [==============================] - 0s 49ms/step - loss: 6.2814 - val_loss: 0.6026\n",
            "Epoch 54/200\n",
            "5/5 [==============================] - 0s 45ms/step - loss: 6.2175 - val_loss: 0.5796\n",
            "Epoch 55/200\n",
            "5/5 [==============================] - 0s 43ms/step - loss: 6.1618 - val_loss: 0.5613\n",
            "Epoch 56/200\n",
            "5/5 [==============================] - 0s 45ms/step - loss: 6.1110 - val_loss: 0.5484\n",
            "Epoch 57/200\n",
            "5/5 [==============================] - 0s 50ms/step - loss: 6.0636 - val_loss: 0.5394\n",
            "Epoch 58/200\n",
            "5/5 [==============================] - 0s 45ms/step - loss: 6.0307 - val_loss: 0.5340\n",
            "Epoch 59/200\n",
            "5/5 [==============================] - 0s 46ms/step - loss: 6.0016 - val_loss: 0.5311\n",
            "Epoch 60/200\n",
            "5/5 [==============================] - 0s 46ms/step - loss: 5.9669 - val_loss: 0.5304\n",
            "Epoch 61/200\n",
            "5/5 [==============================] - 0s 46ms/step - loss: 5.9431 - val_loss: 0.5315\n",
            "Epoch 62/200\n",
            "5/5 [==============================] - 0s 48ms/step - loss: 5.9344 - val_loss: 0.5344\n",
            "Epoch 63/200\n",
            "5/5 [==============================] - 0s 46ms/step - loss: 5.9063 - val_loss: 0.5382\n",
            "Epoch 64/200\n",
            "5/5 [==============================] - 0s 47ms/step - loss: 5.8970 - val_loss: 0.5432\n",
            "Epoch 65/200\n",
            "5/5 [==============================] - 0s 48ms/step - loss: 5.8863 - val_loss: 0.5487\n",
            "Epoch 66/200\n",
            "5/5 [==============================] - 0s 48ms/step - loss: 5.8789 - val_loss: 0.5556\n",
            "Epoch 67/200\n",
            "5/5 [==============================] - 0s 47ms/step - loss: 5.8696 - val_loss: 0.5625\n",
            "Epoch 68/200\n",
            "5/5 [==============================] - 0s 45ms/step - loss: 5.8472 - val_loss: 0.5704\n",
            "Epoch 69/200\n",
            "5/5 [==============================] - 0s 44ms/step - loss: 5.8476 - val_loss: 0.5789\n",
            "Epoch 70/200\n",
            "5/5 [==============================] - 0s 42ms/step - loss: 5.8457 - val_loss: 0.5859\n",
            "Epoch 71/200\n",
            "5/5 [==============================] - 0s 51ms/step - loss: 5.8348 - val_loss: 0.5930\n",
            "Epoch 72/200\n",
            "5/5 [==============================] - 0s 46ms/step - loss: 5.8351 - val_loss: 0.5998\n",
            "Epoch 73/200\n",
            "5/5 [==============================] - 0s 44ms/step - loss: 5.8277 - val_loss: 0.6050\n",
            "Epoch 74/200\n",
            "5/5 [==============================] - 0s 46ms/step - loss: 5.8359 - val_loss: 0.6103\n",
            "Epoch 75/200\n",
            "5/5 [==============================] - 0s 50ms/step - loss: 5.8247 - val_loss: 0.6148\n",
            "Epoch 76/200\n",
            "5/5 [==============================] - 0s 43ms/step - loss: 5.8213 - val_loss: 0.6185\n",
            "Epoch 77/200\n",
            "5/5 [==============================] - 0s 44ms/step - loss: 5.8173 - val_loss: 0.6217\n",
            "Epoch 78/200\n",
            "5/5 [==============================] - 0s 45ms/step - loss: 5.8245 - val_loss: 0.6255\n",
            "Epoch 79/200\n",
            "5/5 [==============================] - 0s 44ms/step - loss: 5.8196 - val_loss: 0.6278\n",
            "Epoch 80/200\n",
            "5/5 [==============================] - 0s 45ms/step - loss: 5.8244 - val_loss: 0.6301\n",
            "Epoch 81/200\n",
            "5/5 [==============================] - 0s 42ms/step - loss: 5.8126 - val_loss: 0.6336\n",
            "Epoch 82/200\n",
            "5/5 [==============================] - 0s 42ms/step - loss: 5.8223 - val_loss: 0.6371\n",
            "Epoch 83/200\n",
            "5/5 [==============================] - 0s 40ms/step - loss: 5.8161 - val_loss: 0.6396\n",
            "Epoch 84/200\n",
            "5/5 [==============================] - 0s 40ms/step - loss: 5.8098 - val_loss: 0.6429\n",
            "Epoch 85/200\n",
            "5/5 [==============================] - 0s 43ms/step - loss: 5.8218 - val_loss: 0.6476\n",
            "Epoch 86/200\n",
            "5/5 [==============================] - 0s 42ms/step - loss: 5.8229 - val_loss: 0.6522\n",
            "Epoch 87/200\n",
            "5/5 [==============================] - 0s 40ms/step - loss: 5.8151 - val_loss: 0.6552\n",
            "Epoch 88/200\n",
            "5/5 [==============================] - 0s 42ms/step - loss: 5.8225 - val_loss: 0.6586\n",
            "Epoch 89/200\n",
            "5/5 [==============================] - 0s 40ms/step - loss: 5.8188 - val_loss: 0.6592\n",
            "Epoch 90/200\n",
            "5/5 [==============================] - 0s 50ms/step - loss: 5.8267 - val_loss: 0.6591\n",
            "Epoch 91/200\n",
            "5/5 [==============================] - 0s 44ms/step - loss: 5.8232 - val_loss: 0.6586\n",
            "Epoch 92/200\n",
            "5/5 [==============================] - 0s 46ms/step - loss: 5.8152 - val_loss: 0.6585\n",
            "Epoch 93/200\n",
            "5/5 [==============================] - 0s 46ms/step - loss: 5.8148 - val_loss: 0.6603\n",
            "Epoch 94/200\n",
            "5/5 [==============================] - 0s 50ms/step - loss: 5.8185 - val_loss: 0.6602\n",
            "Epoch 95/200\n",
            "5/5 [==============================] - 0s 46ms/step - loss: 5.8076 - val_loss: 0.6607\n",
            "Epoch 96/200\n",
            "5/5 [==============================] - 0s 45ms/step - loss: 5.8226 - val_loss: 0.6626\n",
            "Epoch 97/200\n",
            "5/5 [==============================] - 0s 59ms/step - loss: 5.8206 - val_loss: 0.6642\n",
            "Epoch 98/200\n",
            "5/5 [==============================] - 0s 76ms/step - loss: 5.8106 - val_loss: 0.6655\n",
            "Epoch 99/200\n",
            "5/5 [==============================] - 0s 65ms/step - loss: 5.8179 - val_loss: 0.6676\n",
            "Epoch 100/200\n",
            "5/5 [==============================] - 0s 61ms/step - loss: 5.8219 - val_loss: 0.6696\n",
            "Epoch 101/200\n",
            "5/5 [==============================] - 0s 70ms/step - loss: 5.8271 - val_loss: 0.6726\n",
            "Epoch 102/200\n",
            "5/5 [==============================] - 0s 74ms/step - loss: 5.8141 - val_loss: 0.6744\n",
            "Epoch 103/200\n",
            "5/5 [==============================] - 0s 65ms/step - loss: 5.8192 - val_loss: 0.6768\n",
            "Epoch 104/200\n",
            "5/5 [==============================] - 0s 68ms/step - loss: 5.8250 - val_loss: 0.6792\n",
            "Epoch 105/200\n",
            "5/5 [==============================] - 0s 77ms/step - loss: 5.8217 - val_loss: 0.6813\n",
            "Epoch 106/200\n",
            "5/5 [==============================] - 0s 71ms/step - loss: 5.8119 - val_loss: 0.6820\n",
            "Epoch 107/200\n",
            "5/5 [==============================] - 0s 69ms/step - loss: 5.8134 - val_loss: 0.6824\n",
            "Epoch 108/200\n",
            "5/5 [==============================] - 0s 69ms/step - loss: 5.8082 - val_loss: 0.6826\n",
            "Epoch 109/200\n",
            "5/5 [==============================] - 0s 43ms/step - loss: 5.8205 - val_loss: 0.6834\n",
            "Epoch 110/200\n",
            "5/5 [==============================] - 0s 43ms/step - loss: 5.8231 - val_loss: 0.6846\n",
            "Epoch 111/200\n",
            "5/5 [==============================] - 0s 49ms/step - loss: 5.8130 - val_loss: 0.6858\n",
            "Epoch 112/200\n",
            "5/5 [==============================] - 0s 48ms/step - loss: 5.8236 - val_loss: 0.6863\n",
            "Epoch 113/200\n",
            "5/5 [==============================] - 0s 48ms/step - loss: 5.8147 - val_loss: 0.6843\n",
            "Epoch 114/200\n",
            "5/5 [==============================] - 0s 45ms/step - loss: 5.8160 - val_loss: 0.6783\n",
            "Epoch 115/200\n",
            "5/5 [==============================] - 0s 48ms/step - loss: 5.8218 - val_loss: 0.6752\n",
            "Epoch 116/200\n",
            "5/5 [==============================] - 0s 44ms/step - loss: 5.8178 - val_loss: 0.6730\n",
            "Epoch 117/200\n",
            "5/5 [==============================] - 0s 46ms/step - loss: 5.8087 - val_loss: 0.6725\n",
            "Epoch 118/200\n",
            "5/5 [==============================] - 0s 48ms/step - loss: 5.8128 - val_loss: 0.6736\n",
            "Epoch 119/200\n",
            "5/5 [==============================] - 0s 45ms/step - loss: 5.8197 - val_loss: 0.6761\n",
            "Epoch 120/200\n",
            "5/5 [==============================] - 0s 45ms/step - loss: 5.8177 - val_loss: 0.6770\n",
            "Epoch 121/200\n",
            "5/5 [==============================] - 0s 50ms/step - loss: 5.8231 - val_loss: 0.6793\n",
            "Epoch 122/200\n",
            "5/5 [==============================] - 0s 47ms/step - loss: 5.8180 - val_loss: 0.6808\n",
            "Epoch 123/200\n",
            "5/5 [==============================] - 0s 43ms/step - loss: 5.8163 - val_loss: 0.6829\n",
            "Epoch 124/200\n",
            "5/5 [==============================] - 0s 48ms/step - loss: 5.8199 - val_loss: 0.6817\n",
            "Epoch 125/200\n",
            "5/5 [==============================] - 0s 46ms/step - loss: 5.8199 - val_loss: 0.6784\n",
            "Epoch 126/200\n",
            "5/5 [==============================] - 0s 47ms/step - loss: 5.8228 - val_loss: 0.6753\n",
            "Epoch 127/200\n",
            "5/5 [==============================] - 0s 44ms/step - loss: 5.8220 - val_loss: 0.6723\n",
            "Epoch 128/200\n",
            "5/5 [==============================] - 0s 43ms/step - loss: 5.8181 - val_loss: 0.6719\n",
            "Epoch 129/200\n",
            "5/5 [==============================] - 0s 48ms/step - loss: 5.8155 - val_loss: 0.6734\n",
            "Epoch 130/200\n",
            "5/5 [==============================] - 0s 50ms/step - loss: 5.8174 - val_loss: 0.6777\n",
            "Epoch 131/200\n",
            "5/5 [==============================] - 0s 48ms/step - loss: 5.8169 - val_loss: 0.6798\n",
            "Epoch 132/200\n",
            "5/5 [==============================] - 0s 46ms/step - loss: 5.8172 - val_loss: 0.6809\n",
            "Epoch 133/200\n",
            "5/5 [==============================] - 0s 47ms/step - loss: 5.8224 - val_loss: 0.6803\n",
            "Epoch 134/200\n",
            "5/5 [==============================] - 0s 50ms/step - loss: 5.8165 - val_loss: 0.6829\n",
            "Epoch 135/200\n",
            "5/5 [==============================] - 0s 45ms/step - loss: 5.8147 - val_loss: 0.6849\n",
            "Epoch 136/200\n",
            "5/5 [==============================] - 0s 49ms/step - loss: 5.8214 - val_loss: 0.6848\n",
            "Epoch 137/200\n",
            "5/5 [==============================] - 0s 48ms/step - loss: 5.8170 - val_loss: 0.6837\n",
            "Epoch 138/200\n",
            "5/5 [==============================] - 0s 47ms/step - loss: 5.8187 - val_loss: 0.6834\n",
            "Epoch 139/200\n",
            "5/5 [==============================] - 0s 51ms/step - loss: 5.8156 - val_loss: 0.6828\n",
            "Epoch 140/200\n",
            "5/5 [==============================] - 0s 45ms/step - loss: 5.8174 - val_loss: 0.6832\n",
            "Epoch 141/200\n",
            "5/5 [==============================] - 0s 48ms/step - loss: 5.8133 - val_loss: 0.6833\n",
            "Epoch 142/200\n",
            "5/5 [==============================] - 0s 46ms/step - loss: 5.8151 - val_loss: 0.6826\n",
            "Epoch 143/200\n",
            "5/5 [==============================] - 0s 44ms/step - loss: 5.8139 - val_loss: 0.6818\n",
            "Epoch 144/200\n",
            "5/5 [==============================] - 0s 41ms/step - loss: 5.8164 - val_loss: 0.6841\n",
            "Epoch 145/200\n",
            "5/5 [==============================] - 0s 43ms/step - loss: 5.8108 - val_loss: 0.6843\n",
            "Epoch 146/200\n",
            "5/5 [==============================] - 0s 41ms/step - loss: 5.8275 - val_loss: 0.6854\n",
            "Epoch 147/200\n",
            "5/5 [==============================] - 0s 46ms/step - loss: 5.8236 - val_loss: 0.6859\n",
            "Epoch 148/200\n",
            "5/5 [==============================] - 0s 52ms/step - loss: 5.8158 - val_loss: 0.6869\n",
            "Epoch 149/200\n",
            "5/5 [==============================] - 0s 48ms/step - loss: 5.8159 - val_loss: 0.6904\n",
            "Epoch 150/200\n",
            "5/5 [==============================] - 0s 47ms/step - loss: 5.8128 - val_loss: 0.6932\n",
            "Epoch 151/200\n",
            "5/5 [==============================] - 0s 44ms/step - loss: 5.8126 - val_loss: 0.6929\n",
            "Epoch 152/200\n",
            "5/5 [==============================] - 0s 60ms/step - loss: 5.8190 - val_loss: 0.6923\n",
            "Epoch 153/200\n",
            "5/5 [==============================] - 0s 65ms/step - loss: 5.8141 - val_loss: 0.6918\n",
            "Epoch 154/200\n",
            "5/5 [==============================] - 0s 63ms/step - loss: 5.8135 - val_loss: 0.6964\n",
            "Epoch 155/200\n",
            "5/5 [==============================] - 0s 62ms/step - loss: 5.8174 - val_loss: 0.6978\n",
            "Epoch 156/200\n",
            "5/5 [==============================] - 0s 63ms/step - loss: 5.8192 - val_loss: 0.6954\n",
            "Epoch 157/200\n",
            "5/5 [==============================] - 0s 68ms/step - loss: 5.8188 - val_loss: 0.6926\n",
            "Epoch 158/200\n",
            "5/5 [==============================] - 0s 67ms/step - loss: 5.8143 - val_loss: 0.6898\n",
            "Epoch 159/200\n",
            "5/5 [==============================] - 0s 71ms/step - loss: 5.8155 - val_loss: 0.6839\n",
            "Epoch 160/200\n",
            "5/5 [==============================] - 0s 66ms/step - loss: 5.8122 - val_loss: 0.6833\n",
            "Epoch 161/200\n",
            "5/5 [==============================] - 0s 66ms/step - loss: 5.8228 - val_loss: 0.6793\n",
            "Epoch 162/200\n",
            "5/5 [==============================] - 0s 75ms/step - loss: 5.8087 - val_loss: 0.6763\n",
            "Epoch 163/200\n",
            "5/5 [==============================] - 0s 68ms/step - loss: 5.8140 - val_loss: 0.6715\n",
            "Epoch 164/200\n",
            "5/5 [==============================] - 0s 54ms/step - loss: 5.8159 - val_loss: 0.6694\n",
            "Epoch 165/200\n",
            "5/5 [==============================] - 0s 44ms/step - loss: 5.8189 - val_loss: 0.6699\n",
            "Epoch 166/200\n",
            "5/5 [==============================] - 0s 46ms/step - loss: 5.8127 - val_loss: 0.6705\n",
            "Epoch 167/200\n",
            "5/5 [==============================] - 0s 43ms/step - loss: 5.8201 - val_loss: 0.6682\n",
            "Epoch 168/200\n",
            "5/5 [==============================] - 0s 44ms/step - loss: 5.8121 - val_loss: 0.6684\n",
            "Epoch 169/200\n",
            "5/5 [==============================] - 0s 45ms/step - loss: 5.8177 - val_loss: 0.6704\n",
            "Epoch 170/200\n",
            "5/5 [==============================] - 0s 48ms/step - loss: 5.8135 - val_loss: 0.6722\n",
            "Epoch 171/200\n",
            "5/5 [==============================] - 0s 45ms/step - loss: 5.8124 - val_loss: 0.6756\n",
            "Epoch 172/200\n",
            "5/5 [==============================] - 0s 45ms/step - loss: 5.8183 - val_loss: 0.6768\n",
            "Epoch 173/200\n",
            "5/5 [==============================] - 0s 46ms/step - loss: 5.8150 - val_loss: 0.6762\n",
            "Epoch 174/200\n",
            "5/5 [==============================] - 0s 49ms/step - loss: 5.8152 - val_loss: 0.6774\n",
            "Epoch 175/200\n",
            "5/5 [==============================] - 0s 50ms/step - loss: 5.8204 - val_loss: 0.6775\n",
            "Epoch 176/200\n",
            "5/5 [==============================] - 0s 44ms/step - loss: 5.8205 - val_loss: 0.6764\n",
            "Epoch 177/200\n",
            "5/5 [==============================] - 0s 48ms/step - loss: 5.8225 - val_loss: 0.6753\n",
            "Epoch 178/200\n",
            "5/5 [==============================] - 0s 43ms/step - loss: 5.8161 - val_loss: 0.6775\n",
            "Epoch 179/200\n",
            "5/5 [==============================] - 0s 48ms/step - loss: 5.8182 - val_loss: 0.6758\n",
            "Epoch 180/200\n",
            "5/5 [==============================] - 0s 46ms/step - loss: 5.8171 - val_loss: 0.6729\n",
            "Epoch 181/200\n",
            "5/5 [==============================] - 0s 50ms/step - loss: 5.8271 - val_loss: 0.6703\n",
            "Epoch 182/200\n",
            "5/5 [==============================] - 0s 44ms/step - loss: 5.8174 - val_loss: 0.6681\n",
            "Epoch 183/200\n",
            "5/5 [==============================] - 0s 46ms/step - loss: 5.8209 - val_loss: 0.6691\n",
            "Epoch 184/200\n",
            "5/5 [==============================] - 0s 47ms/step - loss: 5.8201 - val_loss: 0.6681\n",
            "Epoch 185/200\n",
            "5/5 [==============================] - 0s 46ms/step - loss: 5.8144 - val_loss: 0.6729\n",
            "Epoch 186/200\n",
            "5/5 [==============================] - 0s 47ms/step - loss: 5.8174 - val_loss: 0.6773\n",
            "Epoch 187/200\n",
            "5/5 [==============================] - 0s 48ms/step - loss: 5.8230 - val_loss: 0.6824\n",
            "Epoch 188/200\n",
            "5/5 [==============================] - 0s 47ms/step - loss: 5.8189 - val_loss: 0.6860\n",
            "Epoch 189/200\n",
            "5/5 [==============================] - 0s 49ms/step - loss: 5.8218 - val_loss: 0.6853\n",
            "Epoch 190/200\n",
            "5/5 [==============================] - 0s 45ms/step - loss: 5.8148 - val_loss: 0.6836\n",
            "Epoch 191/200\n",
            "5/5 [==============================] - 0s 44ms/step - loss: 5.8142 - val_loss: 0.6824\n",
            "Epoch 192/200\n",
            "5/5 [==============================] - 0s 48ms/step - loss: 5.8157 - val_loss: 0.6868\n",
            "Epoch 193/200\n",
            "5/5 [==============================] - 0s 51ms/step - loss: 5.8100 - val_loss: 0.6877\n",
            "Epoch 194/200\n",
            "5/5 [==============================] - 0s 48ms/step - loss: 5.8193 - val_loss: 0.6841\n",
            "Epoch 195/200\n",
            "5/5 [==============================] - 0s 50ms/step - loss: 5.8171 - val_loss: 0.6793\n",
            "Epoch 196/200\n",
            "5/5 [==============================] - 0s 45ms/step - loss: 5.8095 - val_loss: 0.6740\n",
            "Epoch 197/200\n",
            "5/5 [==============================] - 0s 51ms/step - loss: 5.8190 - val_loss: 0.6742\n",
            "Epoch 198/200\n",
            "5/5 [==============================] - 0s 50ms/step - loss: 5.8172 - val_loss: 0.6712\n",
            "Epoch 199/200\n",
            "5/5 [==============================] - 0s 48ms/step - loss: 5.8093 - val_loss: 0.6701\n",
            "Epoch 200/200\n",
            "5/5 [==============================] - 0s 44ms/step - loss: 5.8112 - val_loss: 0.6722\n",
            "1/1 [==============================] - 5s 5s/step\n"
          ]
        },
        {
          "output_type": "display_data",
          "data": {
            "text/plain": [
              "<Figure size 1200x600 with 1 Axes>"
            ],
            "image/png": "[encoded data removed]"
          },
          "metadata": {}
        }
      ]
    },
    {
      "cell_type": "code",
      "source": [
        "# Continued from the previous code\n",
        "\n",
        "# Plotting training and validation loss\n",
        "plt.figure(figsize=(12, 6))\n",
        "plt.plot(history.history['loss'], label='Train Loss')\n",
        "plt.plot(history.history['val_loss'], label='Validation Loss')\n",
        "plt.title('Model Loss')\n",
        "plt.ylabel('Loss')\n",
        "plt.xlabel('Epochs')\n",
        "plt.legend(loc='upper right')\n",
        "plt.show()\n",
        "\n",
        "# Plotting actual vs predictions with reset index\n",
        "plt.figure(figsize=(12, 6))\n",
        "plt.plot(range(len(y_test_aligned)), y_test_aligned, label='Actual Values', color='blue')\n",
        "plt.plot(range(len(y_pred_rnn)), y_pred_rnn, label='Predicted Values', color='red')\n",
        "plt.title('Actual vs Predicted Values')\n",
        "plt.ylabel('Value')\n",
        "plt.xlabel('Sample Index')\n",
        "plt.legend(loc='upper right')\n",
        "plt.show()\n"
      ],
      "metadata": {
        "colab": {
          "base_uri": "https://localhost:8080/",
          "height": 1000
        },
        "id": "tqucrMl5gtNu",
        "outputId": "dccef3ff-4d98-4892-98a6-5beb5d0d4cf0"
      },
      "execution_count": null,
      "outputs": [
        {
          "output_type": "display_data",
          "data": {
            "text/plain": [
              "<Figure size 1200x600 with 1 Axes>"
            ],
            "image/png": "[encoded data removed]"
          },
          "metadata": {}
        },
        {
          "output_type": "display_data",
          "data": {
            "text/plain": [
              "<Figure size 1200x600 with 1 Axes>"
            ],
            "image/png": "[encoded data removed]"
          },
          "metadata": {}
        }
      ]
    },
    {
      "cell_type": "code",
      "source": [
        "import plotly.graph_objects as go\n",
        "from keras.models import Sequential\n",
        "from keras.layers import Dense, LSTM, Dropout\n",
        "from keras import optimizers\n",
        "from keras.callbacks import EarlyStopping\n",
        "from sklearn.metrics import mean_squared_error, mean_absolute_error\n",
        "import numpy as np\n",
        "\n",
        "\n",
        "features = df.drop('target_column', axis=1)\n",
        "target = df['target_column']\n",
        "\n",
        "# Scale features\n",
        "scaler = MinMaxScaler()\n",
        "scaled_features = scaler.fit_transform(features)\n",
        "\n",
        "# Define sequence_length\n",
        "sequence_length = 4\n",
        "\n",
        "X_train = []\n",
        "y_train = []\n",
        "for i in range(sequence_length, len(scaled_features)):\n",
        "    X_train.append(scaled_features[i-sequence_length:i])\n",
        "    y_train.append(target[i])\n",
        "\n",
        "X_train, y_train = np.array(X_train), np.array(y_train)\n",
        "\n",
        "\n",
        "\n",
        "# Define the new model architecture\n",
        "model = Sequential([\n",
        "    LSTM(100, return_sequences=True, input_shape=(sequence_length, scaled_features.shape[1])),\n",
        "    Dropout(0.1),\n",
        "    LSTM(100, return_sequences=True),\n",
        "    Dropout(0.1),\n",
        "    LSTM(100, return_sequences=False),\n",
        "    Dropout(0.1),\n",
        "    Dense(forecast_length)\n",
        "])\n",
        "\n",
        "# Compile the model\n",
        "model.compile(optimizer=optimizers.Adam(learning_rate=0.001), loss='mse', metrics=['mae'])\n",
        "\n",
        "# Early Stopping\n",
        "early_stopping = EarlyStopping(monitor='val_loss', min_delta=0.0001, patience=6, verbose=1, mode='min')\n",
        "\n",
        "# Fit the model\n",
        "history = model.fit(X_train, y_train, epochs=25, validation_split=0.1, callbacks=[early_stopping], batch_size=32, verbose=1)\n",
        "\n",
        "# Evaluate the model\n",
        "test_loss, test_metric = model.evaluate(X_test, y_test, verbose=1)\n",
        "print(f\"Test Loss: {test_loss}\")\n",
        "print(f\"Test MAE: {test_metric}\")\n",
        "\n",
        "# Predict and compare to actual values\n",
        "last_sequence = X_test[-1].reshape((1, sequence_length, scaled_features.shape[1]))\n",
        "predicted_temp = model.predict(last_sequence)\n",
        "actual_temp = y_test[-1]\n",
        "\n",
        "predicted_temperature_values = scaler_target.inverse_transform(predicted_temp.reshape(-1, 1))\n",
        "actual_temperature = scaler_target.inverse_transform(actual_temp.reshape(-1, 1))\n",
        "\n",
        "# Calculate metrics\n",
        "rmse = np.sqrt(mean_squared_error(actual_temperature, predicted_temperature_values))\n",
        "mae = mean_absolute_error(actual_temperature, predicted_temperature_values)\n",
        "mape = np.mean(np.abs((actual_temperature - predicted_temperature_values) / actual_temp)) * 100\n",
        "\n",
        "print(f\"RMSE: {rmse}\")\n",
        "print(f\"MAE: {mae}\")\n",
        "print(f\"MAPE: {mape}\")\n",
        "\n",
        "# Plot predictions vs actual values\n",
        "fig = go.Figure()\n",
        "\n",
        "fig.add_trace(go.Scattergl(\n",
        "    x=predicted_datetimes,\n",
        "    y=actual_temperature.flatten(), mode='lines', name='Actual Temps'\n",
        "))\n",
        "\n",
        "fig.add_trace(go.Scattergl(\n",
        "    x=predicted_datetimes,\n",
        "    y=predicted_temperature_values.flatten(), mode='lines', name='Predicted Temps'\n",
        "))\n",
        "\n",
        "fig.update_layout(title='Predictions vs Actual Values',\n",
        "                  xaxis_title='Date',\n",
        "                  yaxis_title='Temperature')\n",
        "fig.show()\n"
      ],
      "metadata": {
        "colab": {
          "base_uri": "https://localhost:8080/",
          "height": 211
        },
        "id": "9wmcXSgzkLda",
        "outputId": "1393516e-5e04-45c0-e3ae-60c8b7021997"
      },
      "execution_count": null,
      "outputs": [
        {
          "output_type": "error",
          "ename": "NameError",
          "evalue": "name 'scaled_features' is not defined",
          "traceback": [
            "\u001b[0;31m---------------------------------------------------------------------------\u001b[0m",
            "\u001b[0;31mNameError\u001b[0m                                 Traceback (most recent call last)",
            "\u001b[0;32m<ipython-input-41-9ab6214945ae>\u001b[0m in \u001b[0;36m<cell line: 12>\u001b[0;34m()\u001b[0m\n\u001b[1;32m     11\u001b[0m \u001b[0;31m# Define the new model architecture\u001b[0m\u001b[0;34m\u001b[0m\u001b[0;34m\u001b[0m\u001b[0m\n\u001b[1;32m     12\u001b[0m model = Sequential([\n\u001b[0;32m---> 13\u001b[0;31m     \u001b[0mLSTM\u001b[0m\u001b[0;34m(\u001b[0m\u001b[0;36m100\u001b[0m\u001b[0;34m,\u001b[0m \u001b[0mreturn_sequences\u001b[0m\u001b[0;34m=\u001b[0m\u001b[0;32mTrue\u001b[0m\u001b[0;34m,\u001b[0m \u001b[0minput_shape\u001b[0m\u001b[0;34m=\u001b[0m\u001b[0;34m(\u001b[0m\u001b[0msequence_length\u001b[0m\u001b[0;34m,\u001b[0m \u001b[0mscaled_features\u001b[0m\u001b[0;34m.\u001b[0m\u001b[0mshape\u001b[0m\u001b[0;34m[\u001b[0m\u001b[0;36m1\u001b[0m\u001b[0;34m]\u001b[0m\u001b[0;34m)\u001b[0m\u001b[0;34m)\u001b[0m\u001b[0;34m,\u001b[0m\u001b[0;34m\u001b[0m\u001b[0;34m\u001b[0m\u001b[0m\n\u001b[0m\u001b[1;32m     14\u001b[0m     \u001b[0mDropout\u001b[0m\u001b[0;34m(\u001b[0m\u001b[0;36m0.1\u001b[0m\u001b[0;34m)\u001b[0m\u001b[0;34m,\u001b[0m\u001b[0;34m\u001b[0m\u001b[0;34m\u001b[0m\u001b[0m\n\u001b[1;32m     15\u001b[0m     \u001b[0mLSTM\u001b[0m\u001b[0;34m(\u001b[0m\u001b[0;36m100\u001b[0m\u001b[0;34m,\u001b[0m \u001b[0mreturn_sequences\u001b[0m\u001b[0;34m=\u001b[0m\u001b[0;32mTrue\u001b[0m\u001b[0;34m)\u001b[0m\u001b[0;34m,\u001b[0m\u001b[0;34m\u001b[0m\u001b[0;34m\u001b[0m\u001b[0m\n",
            "\u001b[0;31mNameError\u001b[0m: name 'scaled_features' is not defined"
          ]
        }
      ]
    },
    {
      "cell_type": "code",
      "source": [],
      "metadata": {
        "id": "LpwZdLGpkLa5"
      },
      "execution_count": null,
      "outputs": []
    },
    {
      "cell_type": "code",
      "source": [],
      "metadata": {
        "id": "VzJxSPDrkLY5"
      },
      "execution_count": null,
      "outputs": []
    },
    {
      "cell_type": "code",
      "source": [],
      "metadata": {
        "id": "QWjUcOJVkLWd"
      },
      "execution_count": null,
      "outputs": []
    },
    {
      "cell_type": "code",
      "source": [],
      "metadata": {
        "id": "635pxJHSkLT8"
      },
      "execution_count": null,
      "outputs": []
    },
    {
      "cell_type": "code",
      "execution_count": null,
      "metadata": {
        "id": "QHwYJOTuG20k"
      },
      "outputs": [],
      "source": [
        "!pip install keras_tuner\n",
        "from keras.models import Sequential\n",
        "from keras.layers import LSTM, Dense\n",
        "from keras.optimizers import Adam\n",
        "import numpy as np\n",
        "import time\n",
        "from sklearn.preprocessing import MinMaxScaler\n",
        "from keras_tuner import BayesianOptimization\n",
        "from keras_tuner.engine.hyperparameters import HyperParameters\n",
        "from keras.callbacks import EarlyStopping, ModelCheckpoint\n",
        "import os\n",
        "import pandas as pd\n",
        "\n",
        "# Mount Google Drive (if you are using Google Colab)\n",
        "from google.colab import drive\n",
        "drive.mount('/content/drive')\n",
        "\n",
        "\n",
        "# Load data\n",
        "TrainData_location = '/content/drive/MyDrive/Data/df_all_600_Processed.csv'\n",
        "df_train = pd.read_csv(TrainData_location)\n",
        "\n",
        "TestData_location = '/content/drive/MyDrive/Data/SWIFT_LF_301.csv'\n",
        "df_test = pd.read_csv(TestData_location)\n",
        "df_test = df_test[df_train.columns]\n",
        "\n",
        "TARGET_COLUMN = 'V_SFP_gpl_Soot_Load_Comb_avg'\n",
        "\n",
        "X_train = df_train.drop(TARGET_COLUMN, axis=1)\n",
        "y_train = df_train[TARGET_COLUMN]\n",
        "\n",
        "X_test = df_test.drop(TARGET_COLUMN, axis=1)\n",
        "y_test = df_test[TARGET_COLUMN]  # Fixed line, it should be y_test instead of y_train\n",
        "\n",
        "scaler = MinMaxScaler()\n",
        "X_train = scaler.fit_transform(X_train)\n",
        "X_test = scaler.transform(X_test)\n",
        "\n",
        "\n",
        "# Function to create RNN sequences:\n",
        "def create_sequences(X, y, n_steps):\n",
        "    Xs, ys = [], []\n",
        "    for i in range(len(X) - n_steps):\n",
        "        Xs.append(X[i:(i + n_steps)])\n",
        "        ys.append(y[i + n_steps])\n",
        "    return np.array(Xs), np.array(ys).reshape(-1, 1)\n",
        "\n",
        "# Create sequences for RNN\n",
        "n_steps = 5  # Adjust this based on your dataset\n",
        "X_train_seq, y_train_seq = create_sequences(X_train, y_train, n_steps)\n",
        "X_valid_seq, y_valid_seq = create_sequences(X_test, y_test, n_steps)\n",
        "\n",
        "\n",
        "# Directory where model checkpoints will be saved\n",
        "checkpoint_dir = '/content/drive/MyDrive/Data/TuningRNN'\n",
        "os.makedirs(checkpoint_dir, exist_ok=True)\n",
        "\n",
        "# Checkpoint callback to save the model after every epoch\n",
        "checkpoint_callback = ModelCheckpoint(\n",
        "    filepath=os.path.join(checkpoint_dir, 'model_{epoch:02d}-{val_loss:.2f}.h5'),\n",
        "    save_weights_only=False,\n",
        "    monitor='val_loss',\n",
        "    save_best_only=True,\n",
        "    verbose=1\n",
        ")\n",
        "\n",
        "# Make sure your X_train_seq and X_valid_seq are already in the shape (samples, time steps, features)\n",
        "\n",
        "def build_rnn_model(hp):\n",
        "    model = Sequential()\n",
        "    model.add(LSTM(units=hp.Int('units', min_value=5, max_value=25, step=5),\n",
        "                   input_shape=(X_train_seq.shape[1], X_train_seq.shape[2]),\n",
        "                   return_sequences=True if hp.Int('num_layers', 2, 10) > 1 else False))\n",
        "    for i in range(1, hp.Int('num_layers', 2, 10)):\n",
        "        model.add(LSTM(units=hp.Int('units_' + str(i), 5, 25),\n",
        "                       return_sequences=True if i < hp.Int('num_layers', 2, 10) - 1 else False))\n",
        "    model.add(Dense(1))\n",
        "\n",
        "    optimizer = Adam(learning_rate=hp.Float('learning_rate', 1e-7, 1e-2, sampling='log'))\n",
        "    model.compile(optimizer=optimizer, loss='mean_squared_error')\n",
        "    return model\n",
        "\n",
        "hp = HyperParameters()\n",
        "hp.Int('batch_size', 32, 132, step=10)\n",
        "\n",
        "tuner = BayesianOptimization(\n",
        "    build_rnn_model,\n",
        "    objective='val_loss',\n",
        "    max_trials=100,\n",
        "    num_initial_points=20,\n",
        "    project_name='rnn_tuning',\n",
        "    hyperparameters=hp\n",
        ")\n",
        "\n",
        "early_stopping = EarlyStopping(monitor='val_loss', patience=5, restore_best_weights=True)\n",
        "\n",
        "# Start tuning\n",
        "tuner.search(X_train_seq, y_train_seq, epochs=100, validation_split=0.1, verbose=1, callbacks=[early_stopping, checkpoint_callback])\n",
        "\n",
        "best_hps = tuner.get_best_hyperparameters()[0]\n",
        "\n",
        "print(\"Best Hyperparameters:\")\n",
        "print(f\"Units: {best_hps.get('units')}\")\n",
        "for i in range(best_hps.get('num_layers')):\n",
        "    print(f\"Units Layer {i}: {best_hps.get('units_' + str(i))}\")\n",
        "print(f\"Learning Rate: {best_hps.get('learning_rate')}\")\n",
        "print(f\"Batch Size: {best_hps.get('batch_size')}\")\n",
        "\n",
        "model_rnn = build_rnn_model(best_hps)\n",
        "model_rnn.summary()\n",
        "\n",
        "start_time_rnn = time.time()\n",
        "model_rnn.fit(X_train_seq, y_train_seq, epochs=20, batch_size=best_hps.get('batch_size'), validation_split=0.1, verbose=1)\n",
        "end_time_rnn = time.time()\n",
        "training_time_rnn = end_time_rnn - start_time_rnn\n",
        "\n",
        "# Assuming you have a function to calculate these metrics\n",
        "y_pred_rnn = model_rnn.predict(X_valid_seq)\n",
        "y_pred_rnn = y_pred_rnn.flatten()\n",
        "y_test_aligned = y_test[-len(y_pred_rnn):]\n",
        "\n",
        "# Replace these with your metric calculation methods\n",
        "mae_rnn = mean_absolute_error(y_test_aligned, y_pred_rnn)\n",
        "mse_rnn = mean_squared_error(y_test_aligned, y_pred_rnn)\n",
        "rmse_rnn = np.sqrt(mse_rnn)\n",
        "mape_rnn = np.mean(np.abs((y_test_aligned - y_pred_rnn) / y_test_aligned)) * 100\n",
        "mdape_rnn = np.median(np.abs((y_test_aligned - y_pred_rnn) / y_test_aligned)) * 100\n",
        "r2_rnn = r2_score(y_test_aligned, y_pred_rnn)\n",
        "\n",
        "metrics_df = metrics_df.append({\n",
        "    'MODEL': 'rnn',\n",
        "    'MAE': mae_rnn,\n",
        "    'MSE': mse_rnn,\n",
        "    'RMSE': rmse_rnn,\n",
        "    'MAPE': mape_rnn,\n",
        "    'MDAPE': mdape_rnn,\n",
        "    'R2': r2_rnn,\n",
        "    'Training_Length': len(y_train),\n",
        "    'Testing_Length': len(y_test_aligned),\n",
        "    'Training_Time': training_time_rnn\n",
        "}, ignore_index=True)\n",
        "print(metrics_df)\n"
      ]
    }
  ]
}